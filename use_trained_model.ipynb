{
 "cells": [
  {
   "cell_type": "markdown",
   "metadata": {},
   "source": [
    "### This notebook walks you through how to use the pretrained model to generate your own transition state guesses. If using your own model and data, replace the model and data paths with your own"
   ]
  },
  {
   "cell_type": "markdown",
   "metadata": {},
   "source": [
    "Import the necessary packages"
   ]
  },
  {
   "cell_type": "code",
   "execution_count": 1,
   "metadata": {},
   "outputs": [],
   "source": [
    "from rdkit import Chem, Geometry\n",
    "from rdkit.Chem.Draw import IPythonConsole \n",
    "\n",
    "import tensorflow as tf\n",
    "from model.G2C import G2C\n",
    "\n",
    "import numpy as np\n",
    "import py3Dmol"
   ]
  },
  {
   "cell_type": "markdown",
   "metadata": {},
   "source": [
    "Read in the test data with rdkit. You can optionally change this to use your own file type (instead of sdf), as long as rdkit can read in the data without sanitization or hydrogen removal. Note that the reactants and prodcuts defined in the sdf **MUST** preserve atom ordering between them! Define the saved model path"
   ]
  },
  {
   "cell_type": "code",
   "execution_count": 2,
   "metadata": {},
   "outputs": [],
   "source": [
    "model_path = 'log/2layers_256hs_3its/best_model.ckpt' # saves model path here\n",
    "reactant_file = 'data/test_reactants.sdf'\n",
    "product_file = 'data/test_products.sdf'\n",
    "\n",
    "# ForwardSDMolSupplier(): class which supplies molecules from file-like object containing SD data.\n",
    "# should this say training data?\n",
    "test_data = [Chem.ForwardSDMolSupplier(reactant_file, removeHs=False, sanitize=False),\n",
    "             Chem.ForwardSDMolSupplier(product_file, removeHs=False, sanitize=False)]\n",
    "# only keeps if not null\n",
    "test_data = [(x,y) for (x,y) in zip(test_data[0], test_data[1]) if (x,y)]\n",
    "# length of this is 842... that doesn't seem like enough... OR does that make it better for mech ml model?"
   ]
  },
  {
   "cell_type": "markdown",
   "metadata": {},
   "source": [
    "Batch preparation code. You can use larger batch sizes if you have many predictions to speed up the predictions"
   ]
  },
  {
   "cell_type": "code",
   "execution_count": null,
   "metadata": {},
   "outputs": [],
   "source": [
    "## testing tensor stuff\n",
    "# MAX_SIZE = number of atoms in reactan with most atoms\n",
    "# batch_mols = test_data[i*BATCH_SIZE:(i+1)*BATCH_SIZE]  -> just batch size or however many left at end\n",
    "# size = len(batch_mols) i.e. number of batch molecules\n",
    "# l = np.zeros((2, 3, 4, 5), dtype=np.float32)\n",
    "# l\n",
    "\n",
    "## getting atom positions\n",
    "# Chem.Get3DDistanceMatrix(test_data[0][1])\n",
    "# test_data[0][1].GetAtomWithIdx(0)\n"
   ]
  },
  {
   "cell_type": "code",
   "execution_count": 3,
   "metadata": {},
   "outputs": [],
   "source": [
    "# note: this is running the trained model on (batched) test data\n",
    "# so i will use the same format: model.py and train.py for my model; then run tests in notebook\n",
    "\n",
    "BATCH_SIZE = 1\n",
    "MAX_SIZE = max([x.GetNumAtoms() for x,y in test_data]) # number of atoms in reactant with most atoms \n",
    "elements = \"HCNO\"\n",
    "num_elements = len(elements)\n",
    "\n",
    "# this func builds edge and vertex features for each molecule as part of a batch\n",
    "def prepare_batch(batch_mols):\n",
    "\n",
    "    # Initialization\n",
    "    size = len(batch_mols) \n",
    "    V = np.zeros((size, MAX_SIZE, num_elements+1), dtype=np.float32) # vertices  [MAX_SIZE[5]]\n",
    "    E = np.zeros((size, MAX_SIZE, MAX_SIZE, 3), dtype=np.float32) # leftmost number in tuple is outermost array\n",
    "                                                                  # 3 because 3 features: aromatic, bonded, exp(avg dist)\n",
    "                                                                  # batch index * max atoms * max atoms * 3 edge features\n",
    "    sizes = np.zeros(size, dtype=np.int32) # populated later on, corresponds to each ts\n",
    "    coordinates = np.zeros((size, MAX_SIZE, 3), dtype=np.float32) # number of mols in batch * max number of atoms * 3 i.e. (xyz) for each atom in mol\n",
    "\n",
    "    # Build atom features\n",
    "    for bx in range(size): # iterate through batch? yes, bx is batch index\n",
    "        reactant, product = batch_mols[bx] \n",
    "        N_atoms = reactant.GetNumAtoms()\n",
    "        sizes[bx] = int(N_atoms)  # cast to int [can it not be an int?], but basically have each size value as int of number atoms corresponding to reactant\n",
    "\n",
    "        # file:///C:/Users/Avish/Downloads/Mihali%C4%871992_Article_TheDistanceMatrixInChemistry.pdf (distance matrix in chemistry, mihalic 1992 springer)\n",
    "        # Topological distances matrix i.e. graph theoretical matrix (2D)\n",
    "        # this is number of bonds between molecules e.g. molecule v1-v2-v3-v4 will have tdm[1][4]=3\n",
    "        # also symm matrix\n",
    "        MAX_D = 10. # i.e. don't have more than 10 bonds between molecules?\n",
    "        D = (Chem.GetDistanceMatrix(reactant) + Chem.GetDistanceMatrix(product)) / 2\n",
    "        D[D > MAX_D] = 10. # make 10 max value, should rewrite this later = MAX_D \n",
    "\n",
    "        D_3D_rbf = np.exp( -( (Chem.Get3DDistanceMatrix(reactant) + Chem.Get3DDistanceMatrix(product) ) / 2) )  # lP: squared. AV: [is it?]\n",
    "        # distance matrix between atoms aka topographic distance matrix aka geometric distance matrix\n",
    "        # just averaging the distances corresponding to the same atom pairs in reactant and product\n",
    "\n",
    "        for i in range(N_atoms):\n",
    "            # Edge features\n",
    "            for j in range(N_atoms):\n",
    "                E[bx, i, j, 2] = D_3D_rbf[i][j]\n",
    "                if D[i][j] == 1.:  # if stays bonded\n",
    "                    if reactant.GetBondBetweenAtoms(i, j).GetIsAromatic():\n",
    "                        E[bx, i, j, 0] = 1.\n",
    "                    E[bx, i, j, 1] = 1. \n",
    "                    # so each reaction (reactant-product pair) has 3 features: whether aromatic, whether bond broken/formed, exp(avg dist)\n",
    "\n",
    "            # Recover coordinates\n",
    "            # for k, mol_typ in enumerate([reactant, ts, product]):\n",
    "            pos = reactant.GetConformer().GetAtomPosition(i) \n",
    "            np.asarray([pos.x, pos.y, pos.z])\n",
    "            coordinates[bx, i, :] = np.asarray([pos.x, pos.y, pos.z]) # bx is basically mol_id or rxn_id; each molecule has i atoms with (xyz)\n",
    "\n",
    "            # Node features: whether HCNO present and then atomic number/10\n",
    "            atom = reactant.GetAtomWithIdx(i) # get type of atom\n",
    "            e_ix = elements.index(atom.GetSymbol()) # get chem symbol of atom and corresponding elements index\n",
    "            V[bx, i, e_ix] = 1. # whether HCNO present\n",
    "            V[bx, i, num_elements] = atom.GetAtomicNum() / 10. # atomic number/10\n",
    "\n",
    "    batch_dict = {\n",
    "        \"nodes\": V,\n",
    "        \"edges\": E,\n",
    "        \"sizes\": sizes,\n",
    "        \"coordinates\": coordinates\n",
    "    }\n",
    "    return batch_dict, batch_mols\n",
    "\n",
    "\n",
    "def sample_batch():\n",
    "    batches = (len(test_data) - 1) // BATCH_SIZE + 1 # number of batches = (842-1)//(1+1) = 420\n",
    "    for i in range(batches):\n",
    "        batch_mols = test_data[i*BATCH_SIZE:(i+1)*BATCH_SIZE]\n",
    "        yield prepare_batch(batch_mols)"
   ]
  },
  {
   "cell_type": "markdown",
   "metadata": {},
   "source": [
    "Initialize the model. The hyperparameters should match those of the previously trained model (pls ignore all the deprecation warnings :) )"
   ]
  },
  {
   "cell_type": "code",
   "execution_count": 4,
   "metadata": {
    "tags": [
     "outputPrepend"
    ]
   },
   "outputs": [
    {
     "output_type": "stream",
     "name": "stdout",
     "text": [
      "ensorflow:Entity <bound method Dense.call of <tensorflow.python.layers.core.Dense object at 0x000001EF7B606A58>> could not be transformed and will be executed as-is. Please report this to the AutgoGraph team. When filing the bug, set the verbosity to 10 (on Linux, `export AUTOGRAPH_VERBOSITY=10`) and attach the full output. Cause: converting <bound method Dense.call of <tensorflow.python.layers.core.Dense object at 0x000001EF7B606A58>>: AttributeError: module 'gast' has no attribute 'Index'\n",
      "WARNING: Entity <bound method Dense.call of <tensorflow.python.layers.core.Dense object at 0x000001EF7B606A58>> could not be transformed and will be executed as-is. Please report this to the AutgoGraph team. When filing the bug, set the verbosity to 10 (on Linux, `export AUTOGRAPH_VERBOSITY=10`) and attach the full output. Cause: converting <bound method Dense.call of <tensorflow.python.layers.core.Dense object at 0x000001EF7B606A58>>: AttributeError: module 'gast' has no attribute 'Index'\n",
      "WARNING:tensorflow:Entity <bound method Dense.call of <tensorflow.python.layers.core.Dense object at 0x000001EF7CACBAC8>> could not be transformed and will be executed as-is. Please report this to the AutgoGraph team. When filing the bug, set the verbosity to 10 (on Linux, `export AUTOGRAPH_VERBOSITY=10`) and attach the full output. Cause: converting <bound method Dense.call of <tensorflow.python.layers.core.Dense object at 0x000001EF7CACBAC8>>: AttributeError: module 'gast' has no attribute 'Index'\n",
      "WARNING: Entity <bound method Dense.call of <tensorflow.python.layers.core.Dense object at 0x000001EF7CACBAC8>> could not be transformed and will be executed as-is. Please report this to the AutgoGraph team. When filing the bug, set the verbosity to 10 (on Linux, `export AUTOGRAPH_VERBOSITY=10`) and attach the full output. Cause: converting <bound method Dense.call of <tensorflow.python.layers.core.Dense object at 0x000001EF7CACBAC8>>: AttributeError: module 'gast' has no attribute 'Index'\n",
      "WARNING:tensorflow:Entity <bound method Dense.call of <tensorflow.python.layers.core.Dense object at 0x000001EF7CACBAC8>> could not be transformed and will be executed as-is. Please report this to the AutgoGraph team. When filing the bug, set the verbosity to 10 (on Linux, `export AUTOGRAPH_VERBOSITY=10`) and attach the full output. Cause: converting <bound method Dense.call of <tensorflow.python.layers.core.Dense object at 0x000001EF7CACBAC8>>: AttributeError: module 'gast' has no attribute 'Index'\n",
      "WARNING: Entity <bound method Dense.call of <tensorflow.python.layers.core.Dense object at 0x000001EF7CACBAC8>> could not be transformed and will be executed as-is. Please report this to the AutgoGraph team. When filing the bug, set the verbosity to 10 (on Linux, `export AUTOGRAPH_VERBOSITY=10`) and attach the full output. Cause: converting <bound method Dense.call of <tensorflow.python.layers.core.Dense object at 0x000001EF7CACBAC8>>: AttributeError: module 'gast' has no attribute 'Index'\n",
      "WARNING:tensorflow:Entity <bound method Dense.call of <tensorflow.python.layers.core.Dense object at 0x000001EF7CCCF208>> could not be transformed and will be executed as-is. Please report this to the AutgoGraph team. When filing the bug, set the verbosity to 10 (on Linux, `export AUTOGRAPH_VERBOSITY=10`) and attach the full output. Cause: converting <bound method Dense.call of <tensorflow.python.layers.core.Dense object at 0x000001EF7CCCF208>>: AttributeError: module 'gast' has no attribute 'Index'\n",
      "WARNING: Entity <bound method Dense.call of <tensorflow.python.layers.core.Dense object at 0x000001EF7CCCF208>> could not be transformed and will be executed as-is. Please report this to the AutgoGraph team. When filing the bug, set the verbosity to 10 (on Linux, `export AUTOGRAPH_VERBOSITY=10`) and attach the full output. Cause: converting <bound method Dense.call of <tensorflow.python.layers.core.Dense object at 0x000001EF7CCCF208>>: AttributeError: module 'gast' has no attribute 'Index'\n",
      "WARNING:tensorflow:Entity <bound method Dense.call of <tensorflow.python.layers.core.Dense object at 0x000001EF7C8D0978>> could not be transformed and will be executed as-is. Please report this to the AutgoGraph team. When filing the bug, set the verbosity to 10 (on Linux, `export AUTOGRAPH_VERBOSITY=10`) and attach the full output. Cause: converting <bound method Dense.call of <tensorflow.python.layers.core.Dense object at 0x000001EF7C8D0978>>: AttributeError: module 'gast' has no attribute 'Index'\n",
      "WARNING: Entity <bound method Dense.call of <tensorflow.python.layers.core.Dense object at 0x000001EF7C8D0978>> could not be transformed and will be executed as-is. Please report this to the AutgoGraph team. When filing the bug, set the verbosity to 10 (on Linux, `export AUTOGRAPH_VERBOSITY=10`) and attach the full output. Cause: converting <bound method Dense.call of <tensorflow.python.layers.core.Dense object at 0x000001EF7C8D0978>>: AttributeError: module 'gast' has no attribute 'Index'\n",
      "WARNING:tensorflow:Entity <bound method Dense.call of <tensorflow.python.layers.core.Dense object at 0x000001EF7C8D0978>> could not be transformed and will be executed as-is. Please report this to the AutgoGraph team. When filing the bug, set the verbosity to 10 (on Linux, `export AUTOGRAPH_VERBOSITY=10`) and attach the full output. Cause: converting <bound method Dense.call of <tensorflow.python.layers.core.Dense object at 0x000001EF7C8D0978>>: AttributeError: module 'gast' has no attribute 'Index'\n",
      "WARNING: Entity <bound method Dense.call of <tensorflow.python.layers.core.Dense object at 0x000001EF7C8D0978>> could not be transformed and will be executed as-is. Please report this to the AutgoGraph team. When filing the bug, set the verbosity to 10 (on Linux, `export AUTOGRAPH_VERBOSITY=10`) and attach the full output. Cause: converting <bound method Dense.call of <tensorflow.python.layers.core.Dense object at 0x000001EF7C8D0978>>: AttributeError: module 'gast' has no attribute 'Index'\n",
      "WARNING:tensorflow:Entity <bound method Dense.call of <tensorflow.python.layers.core.Dense object at 0x000001EF7CA34BA8>> could not be transformed and will be executed as-is. Please report this to the AutgoGraph team. When filing the bug, set the verbosity to 10 (on Linux, `export AUTOGRAPH_VERBOSITY=10`) and attach the full output. Cause: converting <bound method Dense.call of <tensorflow.python.layers.core.Dense object at 0x000001EF7CA34BA8>>: AttributeError: module 'gast' has no attribute 'Index'\n",
      "WARNING: Entity <bound method Dense.call of <tensorflow.python.layers.core.Dense object at 0x000001EF7CA34BA8>> could not be transformed and will be executed as-is. Please report this to the AutgoGraph team. When filing the bug, set the verbosity to 10 (on Linux, `export AUTOGRAPH_VERBOSITY=10`) and attach the full output. Cause: converting <bound method Dense.call of <tensorflow.python.layers.core.Dense object at 0x000001EF7CA34BA8>>: AttributeError: module 'gast' has no attribute 'Index'\n",
      "WARNING:tensorflow:Entity <bound method Dense.call of <tensorflow.python.layers.core.Dense object at 0x000001EF7C9C8F98>> could not be transformed and will be executed as-is. Please report this to the AutgoGraph team. When filing the bug, set the verbosity to 10 (on Linux, `export AUTOGRAPH_VERBOSITY=10`) and attach the full output. Cause: converting <bound method Dense.call of <tensorflow.python.layers.core.Dense object at 0x000001EF7C9C8F98>>: AttributeError: module 'gast' has no attribute 'Index'\n",
      "WARNING: Entity <bound method Dense.call of <tensorflow.python.layers.core.Dense object at 0x000001EF7C9C8F98>> could not be transformed and will be executed as-is. Please report this to the AutgoGraph team. When filing the bug, set the verbosity to 10 (on Linux, `export AUTOGRAPH_VERBOSITY=10`) and attach the full output. Cause: converting <bound method Dense.call of <tensorflow.python.layers.core.Dense object at 0x000001EF7C9C8F98>>: AttributeError: module 'gast' has no attribute 'Index'\n",
      "WARNING:tensorflow:Entity <bound method Dense.call of <tensorflow.python.layers.core.Dense object at 0x000001EF7C9C8F98>> could not be transformed and will be executed as-is. Please report this to the AutgoGraph team. When filing the bug, set the verbosity to 10 (on Linux, `export AUTOGRAPH_VERBOSITY=10`) and attach the full output. Cause: converting <bound method Dense.call of <tensorflow.python.layers.core.Dense object at 0x000001EF7C9C8F98>>: AttributeError: module 'gast' has no attribute 'Index'\n",
      "WARNING: Entity <bound method Dense.call of <tensorflow.python.layers.core.Dense object at 0x000001EF7C9C8F98>> could not be transformed and will be executed as-is. Please report this to the AutgoGraph team. When filing the bug, set the verbosity to 10 (on Linux, `export AUTOGRAPH_VERBOSITY=10`) and attach the full output. Cause: converting <bound method Dense.call of <tensorflow.python.layers.core.Dense object at 0x000001EF7C9C8F98>>: AttributeError: module 'gast' has no attribute 'Index'\n",
      "WARNING:tensorflow:Entity <bound method Dense.call of <tensorflow.python.layers.core.Dense object at 0x000001EF7CC537B8>> could not be transformed and will be executed as-is. Please report this to the AutgoGraph team. When filing the bug, set the verbosity to 10 (on Linux, `export AUTOGRAPH_VERBOSITY=10`) and attach the full output. Cause: converting <bound method Dense.call of <tensorflow.python.layers.core.Dense object at 0x000001EF7CC537B8>>: AttributeError: module 'gast' has no attribute 'Index'\n",
      "WARNING: Entity <bound method Dense.call of <tensorflow.python.layers.core.Dense object at 0x000001EF7CC537B8>> could not be transformed and will be executed as-is. Please report this to the AutgoGraph team. When filing the bug, set the verbosity to 10 (on Linux, `export AUTOGRAPH_VERBOSITY=10`) and attach the full output. Cause: converting <bound method Dense.call of <tensorflow.python.layers.core.Dense object at 0x000001EF7CC537B8>>: AttributeError: module 'gast' has no attribute 'Index'\n",
      "WARNING:tensorflow:Entity <bound method Dense.call of <tensorflow.python.layers.core.Dense object at 0x000001EF7CACBAC8>> could not be transformed and will be executed as-is. Please report this to the AutgoGraph team. When filing the bug, set the verbosity to 10 (on Linux, `export AUTOGRAPH_VERBOSITY=10`) and attach the full output. Cause: converting <bound method Dense.call of <tensorflow.python.layers.core.Dense object at 0x000001EF7CACBAC8>>: AttributeError: module 'gast' has no attribute 'Index'\n",
      "WARNING: Entity <bound method Dense.call of <tensorflow.python.layers.core.Dense object at 0x000001EF7CACBAC8>> could not be transformed and will be executed as-is. Please report this to the AutgoGraph team. When filing the bug, set the verbosity to 10 (on Linux, `export AUTOGRAPH_VERBOSITY=10`) and attach the full output. Cause: converting <bound method Dense.call of <tensorflow.python.layers.core.Dense object at 0x000001EF7CACBAC8>>: AttributeError: module 'gast' has no attribute 'Index'\n",
      "WARNING:tensorflow:Entity <bound method Dense.call of <tensorflow.python.layers.core.Dense object at 0x000001EF7CACBAC8>> could not be transformed and will be executed as-is. Please report this to the AutgoGraph team. When filing the bug, set the verbosity to 10 (on Linux, `export AUTOGRAPH_VERBOSITY=10`) and attach the full output. Cause: converting <bound method Dense.call of <tensorflow.python.layers.core.Dense object at 0x000001EF7CACBAC8>>: AttributeError: module 'gast' has no attribute 'Index'\n",
      "WARNING: Entity <bound method Dense.call of <tensorflow.python.layers.core.Dense object at 0x000001EF7CACBAC8>> could not be transformed and will be executed as-is. Please report this to the AutgoGraph team. When filing the bug, set the verbosity to 10 (on Linux, `export AUTOGRAPH_VERBOSITY=10`) and attach the full output. Cause: converting <bound method Dense.call of <tensorflow.python.layers.core.Dense object at 0x000001EF7CACBAC8>>: AttributeError: module 'gast' has no attribute 'Index'\n",
      "WARNING:tensorflow:Entity <bound method Dense.call of <tensorflow.python.layers.core.Dense object at 0x000001EF7CB66DD8>> could not be transformed and will be executed as-is. Please report this to the AutgoGraph team. When filing the bug, set the verbosity to 10 (on Linux, `export AUTOGRAPH_VERBOSITY=10`) and attach the full output. Cause: converting <bound method Dense.call of <tensorflow.python.layers.core.Dense object at 0x000001EF7CB66DD8>>: AttributeError: module 'gast' has no attribute 'Index'\n",
      "WARNING: Entity <bound method Dense.call of <tensorflow.python.layers.core.Dense object at 0x000001EF7CB66DD8>> could not be transformed and will be executed as-is. Please report this to the AutgoGraph team. When filing the bug, set the verbosity to 10 (on Linux, `export AUTOGRAPH_VERBOSITY=10`) and attach the full output. Cause: converting <bound method Dense.call of <tensorflow.python.layers.core.Dense object at 0x000001EF7CB66DD8>>: AttributeError: module 'gast' has no attribute 'Index'\n",
      "WARNING:tensorflow:Entity <bound method Dense.call of <tensorflow.python.layers.core.Dense object at 0x000001EF7B6069B0>> could not be transformed and will be executed as-is. Please report this to the AutgoGraph team. When filing the bug, set the verbosity to 10 (on Linux, `export AUTOGRAPH_VERBOSITY=10`) and attach the full output. Cause: converting <bound method Dense.call of <tensorflow.python.layers.core.Dense object at 0x000001EF7B6069B0>>: AttributeError: module 'gast' has no attribute 'Index'\n",
      "WARNING: Entity <bound method Dense.call of <tensorflow.python.layers.core.Dense object at 0x000001EF7B6069B0>> could not be transformed and will be executed as-is. Please report this to the AutgoGraph team. When filing the bug, set the verbosity to 10 (on Linux, `export AUTOGRAPH_VERBOSITY=10`) and attach the full output. Cause: converting <bound method Dense.call of <tensorflow.python.layers.core.Dense object at 0x000001EF7B6069B0>>: AttributeError: module 'gast' has no attribute 'Index'\n",
      "WARNING:tensorflow:Entity <bound method Dense.call of <tensorflow.python.layers.core.Dense object at 0x000001EF7B6069B0>> could not be transformed and will be executed as-is. Please report this to the AutgoGraph team. When filing the bug, set the verbosity to 10 (on Linux, `export AUTOGRAPH_VERBOSITY=10`) and attach the full output. Cause: converting <bound method Dense.call of <tensorflow.python.layers.core.Dense object at 0x000001EF7B6069B0>>: AttributeError: module 'gast' has no attribute 'Index'\n",
      "WARNING: Entity <bound method Dense.call of <tensorflow.python.layers.core.Dense object at 0x000001EF7B6069B0>> could not be transformed and will be executed as-is. Please report this to the AutgoGraph team. When filing the bug, set the verbosity to 10 (on Linux, `export AUTOGRAPH_VERBOSITY=10`) and attach the full output. Cause: converting <bound method Dense.call of <tensorflow.python.layers.core.Dense object at 0x000001EF7B6069B0>>: AttributeError: module 'gast' has no attribute 'Index'\n",
      "WARNING:tensorflow:Entity <bound method Dense.call of <tensorflow.python.layers.core.Dense object at 0x000001EF7C84E860>> could not be transformed and will be executed as-is. Please report this to the AutgoGraph team. When filing the bug, set the verbosity to 10 (on Linux, `export AUTOGRAPH_VERBOSITY=10`) and attach the full output. Cause: converting <bound method Dense.call of <tensorflow.python.layers.core.Dense object at 0x000001EF7C84E860>>: AttributeError: module 'gast' has no attribute 'Index'\n",
      "WARNING: Entity <bound method Dense.call of <tensorflow.python.layers.core.Dense object at 0x000001EF7C84E860>> could not be transformed and will be executed as-is. Please report this to the AutgoGraph team. When filing the bug, set the verbosity to 10 (on Linux, `export AUTOGRAPH_VERBOSITY=10`) and attach the full output. Cause: converting <bound method Dense.call of <tensorflow.python.layers.core.Dense object at 0x000001EF7C84E860>>: AttributeError: module 'gast' has no attribute 'Index'\n",
      "WARNING:tensorflow:Entity <bound method Dense.call of <tensorflow.python.layers.core.Dense object at 0x000001EF7B6069B0>> could not be transformed and will be executed as-is. Please report this to the AutgoGraph team. When filing the bug, set the verbosity to 10 (on Linux, `export AUTOGRAPH_VERBOSITY=10`) and attach the full output. Cause: converting <bound method Dense.call of <tensorflow.python.layers.core.Dense object at 0x000001EF7B6069B0>>: AttributeError: module 'gast' has no attribute 'Index'\n",
      "WARNING: Entity <bound method Dense.call of <tensorflow.python.layers.core.Dense object at 0x000001EF7B6069B0>> could not be transformed and will be executed as-is. Please report this to the AutgoGraph team. When filing the bug, set the verbosity to 10 (on Linux, `export AUTOGRAPH_VERBOSITY=10`) and attach the full output. Cause: converting <bound method Dense.call of <tensorflow.python.layers.core.Dense object at 0x000001EF7B6069B0>>: AttributeError: module 'gast' has no attribute 'Index'\n",
      "WARNING:tensorflow:From c:\\Users\\Avish\\Documents\\ts_gen\\model\\G2C.py:88: The name tf.get_variable is deprecated. Please use tf.compat.v1.get_variable instead.\n",
      "\n",
      "WARNING:tensorflow:From c:\\Users\\Avish\\Documents\\ts_gen\\model\\G2C.py:106: The name tf.add_check_numerics_ops is deprecated. Please use tf.compat.v1.add_check_numerics_ops instead.\n",
      "\n",
      "WARNING:tensorflow:From c:\\Users\\Avish\\Documents\\ts_gen\\model\\G2C.py:157: to_float (from tensorflow.python.ops.math_ops) is deprecated and will be removed in a future version.\n",
      "Instructions for updating:\n",
      "Use `tf.cast` instead.\n",
      "WARNING:tensorflow:From c:\\Users\\Avish\\Documents\\ts_gen\\model\\G2C.py:159: calling reduce_sum_v1 (from tensorflow.python.ops.math_ops) with keep_dims is deprecated and will be removed in a future version.\n",
      "Instructions for updating:\n",
      "keep_dims is deprecated, use keepdims instead\n",
      "WARNING:tensorflow:From c:\\Users\\Avish\\Documents\\ts_gen\\model\\G2C.py:189: The name tf.random_normal is deprecated. Please use tf.random.normal instead.\n",
      "\n",
      "WARNING:tensorflow:From c:\\Users\\Avish\\Documents\\ts_gen\\model\\G2C.py:262: The name tf.debugging.is_finite is deprecated. Please use tf.math.is_finite instead.\n",
      "\n",
      "WARNING:tensorflow:From c:\\Users\\Avish\\Documents\\ts_gen\\model\\G2C.py:266: Print (from tensorflow.python.ops.logging_ops) is deprecated and will be removed after 2018-08-20.\n",
      "Instructions for updating:\n",
      "Use tf.print instead of tf.Print. Note that tf.print returns a no-output operator that directly prints the output. Outside of defuns or eager mode, this operator will not be executed unless it is directly specified in session.run or used as a control dependency for other operators. This is only a concern in graph mode. Below is an example of how to ensure tf.print executes in graph mode:\n",
      "```python\n",
      "    sess = tf.compat.v1.Session()\n",
      "    with sess.as_default():\n",
      "        tensor = tf.range(10)\n",
      "        print_op = tf.print(tensor)\n",
      "        with tf.control_dependencies([print_op]):\n",
      "          out = tf.add(tensor, tensor)\n",
      "        sess.run(out)\n",
      "    ```\n",
      "Additionally, to use tf.print in python 2.7, users must make sure to import\n",
      "the following:\n",
      "\n",
      "  `from __future__ import print_function`\n",
      "\n",
      "WARNING:tensorflow:From c:\\Users\\Avish\\Documents\\ts_gen\\model\\G2C.py:124: The name tf.summary.scalar is deprecated. Please use tf.compat.v1.summary.scalar instead.\n",
      "\n",
      "WARNING:tensorflow:From c:\\Users\\Avish\\Documents\\ts_gen\\model\\G2C.py:132: The name tf.summary.histogram is deprecated. Please use tf.compat.v1.summary.histogram instead.\n",
      "\n",
      "WARNING:tensorflow:From c:\\Users\\Avish\\Documents\\ts_gen\\model\\G2C.py:142: The name tf.train.AdamOptimizer is deprecated. Please use tf.compat.v1.train.AdamOptimizer instead.\n",
      "\n",
      "WARNING:tensorflow:From C:\\Users\\Avish\\miniconda3\\envs\\tsir-rdkit-env1.1\\lib\\site-packages\\tensorflow\\python\\ops\\math_grad.py:1205: add_dispatch_support.<locals>.wrapper (from tensorflow.python.ops.array_ops) is deprecated and will be removed in a future version.\n",
      "Instructions for updating:\n",
      "Use tf.where in 2.0, which has the same broadcast rule as np.where\n"
     ]
    }
   ],
   "source": [
    "model = G2C(\n",
    "      max_size=MAX_SIZE, node_features=num_elements+1, edge_features=3, layers=2, hidden_size=256, iterations=3\n",
    ")"
   ]
  },
  {
   "cell_type": "markdown",
   "metadata": {},
   "source": [
    "Load the trained model and predict transition state geometries!"
   ]
  },
  {
   "cell_type": "code",
   "execution_count": 5,
   "metadata": {},
   "outputs": [
    {
     "output_type": "stream",
     "name": "stdout",
     "text": [
      "Model loading...\n",
      "WARNING:tensorflow:From C:\\Users\\Avish\\miniconda3\\envs\\tsir-rdkit-env1.1\\lib\\site-packages\\tensorflow\\python\\training\\saver.py:1276: checkpoint_exists (from tensorflow.python.training.checkpoint_management) is deprecated and will be removed in a future version.\n",
      "Instructions for updating:\n",
      "Use standard file APIs to check for files with this prefix.\n",
      "INFO:tensorflow:Restoring parameters from log/2layers_256hs_3its/best_model.ckpt\n",
      "Model restored\n"
     ]
    }
   ],
   "source": [
    "# Launch session\n",
    "config = tf.ConfigProto(\n",
    "    allow_soft_placement=True,\n",
    "    log_device_placement=False\n",
    ")\n",
    "with tf.Session(config=config) as sess:\n",
    "    \n",
    "    # Initialization\n",
    "    print(\"Model loading...\")\n",
    "    saver = tf.train.Saver()\n",
    "    saver.restore(sess, model_path) # restore best model\n",
    "    print(\"Model restored\")\n",
    "    \n",
    "    # Generator for test data\n",
    "    get_test_data = sample_batch()\n",
    "\n",
    "    X = np.empty([len(test_data), MAX_SIZE, 3])\n",
    "    \n",
    "    for step, data in enumerate(get_test_data):\n",
    "\n",
    "        batch_dict_test, batch_mols_test = data\n",
    "        feed_dict = {\n",
    "            model.placeholders[key]: batch_dict_test[key] for key in batch_dict_test\n",
    "        }\n",
    "        X[step*BATCH_SIZE:(step+1)*BATCH_SIZE, :, :] = sess.run([model.tensors[\"X\"]], feed_dict=feed_dict)[0]"
   ]
  },
  {
   "cell_type": "markdown",
   "metadata": {},
   "source": [
    "Convert geometries into rdkit mol objects and save the geometries as an sdf"
   ]
  },
  {
   "cell_type": "code",
   "execution_count": 6,
   "metadata": {},
   "outputs": [],
   "source": [
    "ts_mols = []\n",
    "for bx in range(X.shape[0]):\n",
    "    \n",
    "    # Make copy of reactant\n",
    "    mol_target = test_data[bx][0]\n",
    "    mol = Chem.Mol(mol_target)\n",
    "\n",
    "    for i in range(mol.GetNumAtoms()):\n",
    "        x = X[bx, i, :].tolist()\n",
    "        mol.GetConformer().SetAtomPosition(\n",
    "            i, Geometry.Point3D(x[0], x[1], x[2])\n",
    "        )\n",
    "    ts_mols.append(mol)\n",
    "\n",
    "\n",
    "model_ts_file = 'data/model_ts.sdf'\n",
    "ts_writer = Chem.SDWriter(model_ts_file)\n",
    "for i in range(len(ts_mols)):\n",
    "    ts_writer.write(ts_mols[i])"
   ]
  },
  {
   "cell_type": "code",
   "execution_count": 7,
   "metadata": {},
   "outputs": [],
   "source": [
    "# ts_mols has the conformers of atom positions generated by G2C\n",
    "# this is then stored in a .sdf file\n",
    "# re-extract it as a dataframe for easier handling\n",
    "\n",
    "# putting .sdf into dataframe\n",
    "from rdkit import RDConfig\n",
    "from rdkit.Chem import PandasTools\n",
    "import pandas as pd\n",
    "\n",
    "# loadsdf didn't work initially\n",
    "# downgrade pandas to 0.24: works and gives 832/842 TS\n",
    "# change sanitize to default to False in PandasTools.py and gives 841/842 TS\n",
    "# looking at data/model_ts.sdf, the last file (id=841) seems incomplete so might be why not parsing\n",
    "ts_df = PandasTools.LoadSDF('data/model_ts.sdf')"
   ]
  },
  {
   "cell_type": "markdown",
   "metadata": {},
   "source": [
    "Visualize the results. Change n to see different combinations of reactants, transition states, and products. Note that, for the TS, rdkit will add bonds based on the reactant. We'll clean this to only include common bonds between reactants and products"
   ]
  },
  {
   "cell_type": "code",
   "execution_count": null,
   "metadata": {},
   "outputs": [],
   "source": [
    "def clean_ts(mols):\n",
    "    \n",
    "    r_mol, ts_mol, p_mol = mols\n",
    "    r_bonds = [(bond.GetBeginAtomIdx(), bond.GetEndAtomIdx()) for bond in r_mol.GetBonds()]\n",
    "    r_bonds = [tuple(sorted(b)) for b in r_bonds]\n",
    "    p_bonds = [(bond.GetBeginAtomIdx(), bond.GetEndAtomIdx()) for bond in p_mol.GetBonds()]\n",
    "    p_bonds = [tuple(sorted(b)) for b in p_bonds]\n",
    "    common_bonds = list(set(r_bonds) & set(p_bonds))\n",
    "    \n",
    "    emol = Chem.EditableMol(ts_mol)\n",
    "    for bond in ts_mol.GetBonds():\n",
    "        bond_idxs = tuple(sorted((bond.GetBeginAtomIdx(), bond.GetEndAtomIdx())))\n",
    "        if bond_idxs not in common_bonds:\n",
    "            emol.RemoveBond(bond_idxs[0], bond_idxs[1])\n",
    "            emol.AddBond(bond_idxs[0], bond_idxs[1])\n",
    "    return r_mol, emol.GetMol(), p_mol\n",
    "\n",
    "\n",
    "def show_mol(mol, view, grid):\n",
    "    mb = Chem.MolToMolBlock(mol)\n",
    "    view.removeAllModels(viewer=grid)\n",
    "    view.addModel(mb,'sdf', viewer=grid)\n",
    "    view.setStyle({'model':0},{'stick': {}}, viewer=grid)\n",
    "    view.zoomTo(viewer=grid)\n",
    "    return view"
   ]
  },
  {
   "cell_type": "code",
   "execution_count": null,
   "metadata": {},
   "outputs": [],
   "source": [
    "n=1\n",
    "mols = [test_data[n][0], ts_mols[n], test_data[n][1]]\n",
    "view_mols = clean_ts(mols)\n",
    "\n",
    "view = py3Dmol.view(width=960, height=500, linked=False, viewergrid=(1,3))\n",
    "for i in range(3):\n",
    "    show_mol(view_mols[i], view, grid=(0, i))\n",
    "view.render()"
   ]
  }
 ],
 "metadata": {
  "kernelspec": {
   "name": "python3",
   "display_name": "Python 3.6.12 64-bit ('tsir-rdkit-env1.1': conda)",
   "metadata": {
    "interpreter": {
     "hash": "0edcbd6995ab57326331f16d0ca34c58208e7395693f939624fb371881cd4e67"
    }
   }
  },
  "language_info": {
   "codemirror_mode": {
    "name": "ipython",
    "version": 2
   },
   "file_extension": ".py",
   "mimetype": "text/x-python",
   "name": "python",
   "nbconvert_exporter": "python",
   "pygments_lexer": "ipython2",
   "version": "3.6.12-final"
  }
 },
 "nbformat": 4,
 "nbformat_minor": 2
}