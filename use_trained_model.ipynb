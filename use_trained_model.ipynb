{
  "cells": [
    {
      "cell_type": "markdown",
      "source": [
        "### This notebook walks you through how to use the pretrained model to generate your own transition state guesses. If using your own model and data, replace the model and data paths with your own"
      ],
      "metadata": {}
    },
    {
      "cell_type": "code",
      "source": [
        "# THIS ONE"
      ],
      "outputs": [],
      "execution_count": null,
      "metadata": {}
    },
    {
      "cell_type": "code",
      "source": [
        "from rdkit import Chem, Geometry\n",
        "from rdkit.Chem.Draw import IPythonConsole \n",
        "\n",
        "import tensorflow as tf\n",
        "from model.G2C import G2C\n",
        "\n",
        "import numpy as np\n",
        "import py3Dmol"
      ],
      "outputs": [
        {
          "output_type": "stream",
          "name": "stderr",
          "text": [
            "/anaconda/envs/tsir-rdkit-env/lib/python3.6/site-packages/tensorflow/python/framework/dtypes.py:516: FutureWarning: Passing (type, 1) or '1type' as a synonym of type is deprecated; in a future version of numpy, it will be understood as (type, (1,)) / '(1,)type'.\n",
            "  _np_qint8 = np.dtype([(\"qint8\", np.int8, 1)])\n",
            "/anaconda/envs/tsir-rdkit-env/lib/python3.6/site-packages/tensorflow/python/framework/dtypes.py:517: FutureWarning: Passing (type, 1) or '1type' as a synonym of type is deprecated; in a future version of numpy, it will be understood as (type, (1,)) / '(1,)type'.\n",
            "  _np_quint8 = np.dtype([(\"quint8\", np.uint8, 1)])\n",
            "/anaconda/envs/tsir-rdkit-env/lib/python3.6/site-packages/tensorflow/python/framework/dtypes.py:518: FutureWarning: Passing (type, 1) or '1type' as a synonym of type is deprecated; in a future version of numpy, it will be understood as (type, (1,)) / '(1,)type'.\n",
            "  _np_qint16 = np.dtype([(\"qint16\", np.int16, 1)])\n",
            "/anaconda/envs/tsir-rdkit-env/lib/python3.6/site-packages/tensorflow/python/framework/dtypes.py:519: FutureWarning: Passing (type, 1) or '1type' as a synonym of type is deprecated; in a future version of numpy, it will be understood as (type, (1,)) / '(1,)type'.\n",
            "  _np_quint16 = np.dtype([(\"quint16\", np.uint16, 1)])\n",
            "/anaconda/envs/tsir-rdkit-env/lib/python3.6/site-packages/tensorflow/python/framework/dtypes.py:520: FutureWarning: Passing (type, 1) or '1type' as a synonym of type is deprecated; in a future version of numpy, it will be understood as (type, (1,)) / '(1,)type'.\n",
            "  _np_qint32 = np.dtype([(\"qint32\", np.int32, 1)])\n",
            "/anaconda/envs/tsir-rdkit-env/lib/python3.6/site-packages/tensorflow/python/framework/dtypes.py:525: FutureWarning: Passing (type, 1) or '1type' as a synonym of type is deprecated; in a future version of numpy, it will be understood as (type, (1,)) / '(1,)type'.\n",
            "  np_resource = np.dtype([(\"resource\", np.ubyte, 1)])\n",
            "/anaconda/envs/tsir-rdkit-env/lib/python3.6/site-packages/tensorboard/compat/tensorflow_stub/dtypes.py:541: FutureWarning: Passing (type, 1) or '1type' as a synonym of type is deprecated; in a future version of numpy, it will be understood as (type, (1,)) / '(1,)type'.\n",
            "  _np_qint8 = np.dtype([(\"qint8\", np.int8, 1)])\n",
            "/anaconda/envs/tsir-rdkit-env/lib/python3.6/site-packages/tensorboard/compat/tensorflow_stub/dtypes.py:542: FutureWarning: Passing (type, 1) or '1type' as a synonym of type is deprecated; in a future version of numpy, it will be understood as (type, (1,)) / '(1,)type'.\n",
            "  _np_quint8 = np.dtype([(\"quint8\", np.uint8, 1)])\n",
            "/anaconda/envs/tsir-rdkit-env/lib/python3.6/site-packages/tensorboard/compat/tensorflow_stub/dtypes.py:543: FutureWarning: Passing (type, 1) or '1type' as a synonym of type is deprecated; in a future version of numpy, it will be understood as (type, (1,)) / '(1,)type'.\n",
            "  _np_qint16 = np.dtype([(\"qint16\", np.int16, 1)])\n",
            "/anaconda/envs/tsir-rdkit-env/lib/python3.6/site-packages/tensorboard/compat/tensorflow_stub/dtypes.py:544: FutureWarning: Passing (type, 1) or '1type' as a synonym of type is deprecated; in a future version of numpy, it will be understood as (type, (1,)) / '(1,)type'.\n",
            "  _np_quint16 = np.dtype([(\"quint16\", np.uint16, 1)])\n",
            "/anaconda/envs/tsir-rdkit-env/lib/python3.6/site-packages/tensorboard/compat/tensorflow_stub/dtypes.py:545: FutureWarning: Passing (type, 1) or '1type' as a synonym of type is deprecated; in a future version of numpy, it will be understood as (type, (1,)) / '(1,)type'.\n",
            "  _np_qint32 = np.dtype([(\"qint32\", np.int32, 1)])\n",
            "/anaconda/envs/tsir-rdkit-env/lib/python3.6/site-packages/tensorboard/compat/tensorflow_stub/dtypes.py:550: FutureWarning: Passing (type, 1) or '1type' as a synonym of type is deprecated; in a future version of numpy, it will be understood as (type, (1,)) / '(1,)type'.\n",
            "  np_resource = np.dtype([(\"resource\", np.ubyte, 1)])\n"
          ]
        }
      ],
      "execution_count": 1,
      "metadata": {
        "gather": {
          "logged": 1621721299907
        },
        "jupyter": {
          "outputs_hidden": true
        }
      }
    },
    {
      "cell_type": "markdown",
      "source": [
        "Read in the test data with rdkit. You can optionally change this to use your own file type (instead of sdf), as long as rdkit can read in the data without sanitization or hydrogen removal. Note that the reactants and prodcuts defined in the sdf **MUST** preserve atom ordering between them! Define the saved model path"
      ],
      "metadata": {}
    },
    {
      "cell_type": "code",
      "source": [
        "model_path = 'log/2layers_256hs_3its/best_model.ckpt' # saves model path here\n",
        "reactant_file = 'data/test_reactants.sdf'\n",
        "product_file = 'data/test_products.sdf'\n",
        "\n",
        "test_data = [Chem.ForwardSDMolSupplier(reactant_file, removeHs=False, sanitize=False),\n",
        "             Chem.ForwardSDMolSupplier(product_file, removeHs=False, sanitize=False)]\n",
        "# only keeps if not null\n",
        "test_data = [(x,y) for (x,y) in zip(test_data[0], test_data[1]) if (x,y)] # len=842"
      ],
      "outputs": [],
      "execution_count": 3,
      "metadata": {
        "gather": {
          "logged": 1621721304804
        }
      }
    },
    {
      "cell_type": "markdown",
      "source": [
        "Batch preparation code. You can use larger batch sizes if you have many predictions to speed up the predictions"
      ],
      "metadata": {}
    },
    {
      "cell_type": "code",
      "source": [
        "## testing tensor stuff\n",
        "# MAX_SIZE = number of atoms in reactan with most atoms\n",
        "# batch_mols = test_data[i*BATCH_SIZE:(i+1)*BATCH_SIZE]  -> just batch size or however many left at end\n",
        "# size = len(batch_mols) i.e. number of batch molecules\n",
        "# l = np.zeros((2, 3, 4, 5), dtype=np.float32)\n",
        "# l\n",
        "\n",
        "## getting atom positions\n",
        "# Chem.Get3DDistanceMatrix(test_data[0][1])\n",
        "# test_data[0][1].GetAtomWithIdx(0)\n"
      ],
      "outputs": [],
      "execution_count": 5,
      "metadata": {
        "gather": {
          "logged": 1621709610774
        }
      }
    },
    {
      "cell_type": "code",
      "source": [
        "# note: this is running the trained model on (batched) test data\n",
        "# so i will use the same format: model.py and train.py for my model; then run tests in notebook\n",
        "\n",
        "BATCH_SIZE = 1\n",
        "MAX_SIZE = max([x.GetNumAtoms() for x,y in test_data]) # number of atoms in reactant with most atoms \n",
        "elements = \"HCNO\"\n",
        "num_elements = len(elements)\n",
        "\n",
        "# this func builds edge and vertex features for each molecule as part of a batch\n",
        "def prepare_batch(batch_mols):\n",
        "\n",
        "    # Initialization\n",
        "    size = len(batch_mols) \n",
        "    V = np.zeros((size, MAX_SIZE, num_elements+1), dtype=np.float32) # vertices  [MAX_SIZE[5]]\n",
        "    E = np.zeros((size, MAX_SIZE, MAX_SIZE, 3), dtype=np.float32) # leftmost number in tuple is outermost array\n",
        "                                                                  # 3 because 3 features: aromatic, bonded, exp(avg dist)\n",
        "                                                                  # batch index * max atoms * max atoms * 3 edge features\n",
        "    sizes = np.zeros(size, dtype=np.int32) # populated later on, corresponds to each ts\n",
        "    coordinates = np.zeros((size, MAX_SIZE, 3), dtype=np.float32) # number of mols in batch * max number of atoms * 3 i.e. (xyz) for each atom in mol\n",
        "\n",
        "    # Build atom features\n",
        "    for bx in range(size): # iterate through batch? yes, bx is batch index\n",
        "        reactant, product = batch_mols[bx] \n",
        "        N_atoms = reactant.GetNumAtoms()\n",
        "        sizes[bx] = int(N_atoms)  # cast to int [can it not be an int?], but basically have each size value as int of number atoms corresponding to reactant\n",
        "\n",
        "        # topological distances matrix i.e. number of bonds between atoms in mol e.g. molecule v1-v2-v3-v4 will have tdm[1][4]=3\n",
        "        # also symm matrix\n",
        "        MAX_D = 10. # i.e. don't have more than 10 bonds between molecules\n",
        "        D = (Chem.GetDistanceMatrix(reactant) + Chem.GetDistanceMatrix(product)) / 2\n",
        "        D[D > MAX_D] = MAX_D \n",
        "\n",
        "        D_3D_rbf = np.exp( -( (Chem.Get3DDistanceMatrix(reactant) + Chem.Get3DDistanceMatrix(product) ) / 2) )  # lP: squared. AV: [is it?]\n",
        "        # distance matrix between atoms aka topographic distance matrix aka geometric distance matrix\n",
        "        # just averaging the distances corresponding to the same atom pairs in reactant and product\n",
        "\n",
        "        for i in range(N_atoms):\n",
        "            # Edge features\n",
        "            for j in range(N_atoms):\n",
        "                E[bx, i, j, 2] = D_3D_rbf[i][j]\n",
        "                if D[i][j] == 1.:  # if stays bonded\n",
        "                    if reactant.GetBondBetweenAtoms(i, j).GetIsAromatic():\n",
        "                        E[bx, i, j, 0] = 1.\n",
        "                    E[bx, i, j, 1] = 1. \n",
        "                    # so each reaction (reactant-product pair) has 3 features: whether aromatic, whether bond broken/formed, exp(avg dist)\n",
        "\n",
        "            # Recover coordinates\n",
        "            # for k, mol_typ in enumerate([reactant, ts, product]):\n",
        "            pos = reactant.GetConformer().GetAtomPosition(i) \n",
        "            np.asarray([pos.x, pos.y, pos.z])\n",
        "            coordinates[bx, i, :] = np.asarray([pos.x, pos.y, pos.z]) # bx is basically mol_id or rxn_id; each molecule has i atoms with (xyz)\n",
        "\n",
        "            # Node features: whether HCNO present and then atomic number/10\n",
        "            atom = reactant.GetAtomWithIdx(i) # get type of atom\n",
        "            e_ix = elements.index(atom.GetSymbol()) # get chem symbol of atom and corresponding elements index\n",
        "            V[bx, i, e_ix] = 1. # whether HCNO present\n",
        "            V[bx, i, num_elements] = atom.GetAtomicNum() / 10. # atomic number/10\n",
        "\n",
        "    batch_dict = {\n",
        "        \"nodes\": V,\n",
        "        \"edges\": E,\n",
        "        \"sizes\": sizes,\n",
        "        \"coordinates\": coordinates\n",
        "    }\n",
        "    return batch_dict, batch_mols\n",
        "\n",
        "\n",
        "def sample_batch():\n",
        "    batches = (len(test_data) - 1) // BATCH_SIZE + 1 # number of batches = (842-1)//(1+1) = 420\n",
        "    for i in range(batches):\n",
        "        batch_mols = test_data[i*BATCH_SIZE:(i+1)*BATCH_SIZE]\n",
        "        yield prepare_batch(batch_mols)"
      ],
      "outputs": [],
      "execution_count": 4,
      "metadata": {
        "gather": {
          "logged": 1621721314162
        }
      }
    },
    {
      "cell_type": "markdown",
      "source": [
        "Initialize the model. The hyperparameters should match those of the previously trained model (pls ignore all the deprecation warnings :) )"
      ],
      "metadata": {}
    },
    {
      "cell_type": "code",
      "source": [
        "model = G2C(\n",
        "      max_size=MAX_SIZE, node_features=num_elements+1, edge_features=3, layers=2, hidden_size=256, iterations=3\n",
        ")"
      ],
      "outputs": [
        {
          "output_type": "stream",
          "name": "stdout",
          "text": [
            "WARNING:tensorflow:From /mnt/batch/tasks/shared/LS_root/mounts/clusters/cpu-core8-ram32/code/Users/rmhavij/ts_gen/model/G2C.py:32: The name tf.variable_scope is deprecated. Please use tf.compat.v1.variable_scope instead.\n",
            "\n",
            "WARNING:tensorflow:From /mnt/batch/tasks/shared/LS_root/mounts/clusters/cpu-core8-ram32/code/Users/rmhavij/ts_gen/model/G2C.py:36: The name tf.placeholder is deprecated. Please use tf.compat.v1.placeholder instead.\n",
            "\n",
            "WARNING:tensorflow:From /mnt/batch/tasks/shared/LS_root/mounts/clusters/cpu-core8-ram32/code/Users/rmhavij/ts_gen/model/GNN.py:87: dense (from tensorflow.python.layers.core) is deprecated and will be removed in a future version.\n",
            "Instructions for updating:\n",
            "Use keras.layers.dense instead.\n",
            "WARNING:tensorflow:From /anaconda/envs/tsir-rdkit-env/lib/python3.6/site-packages/tensorflow/python/ops/init_ops.py:1251: calling VarianceScaling.__init__ (from tensorflow.python.ops.init_ops) with dtype is deprecated and will be removed in a future version.\n",
            "Instructions for updating:\n",
            "Call initializer instance with the dtype argument instead of passing it to the constructor\n",
            "WARNING:tensorflow:Entity <bound method Dense.call of <tensorflow.python.layers.core.Dense object at 0x7f718ecec908>> could not be transformed and will be executed as-is. Please report this to the AutgoGraph team. When filing the bug, set the verbosity to 10 (on Linux, `export AUTOGRAPH_VERBOSITY=10`) and attach the full output. Cause: converting <bound method Dense.call of <tensorflow.python.layers.core.Dense object at 0x7f718ecec908>>: AttributeError: module 'gast' has no attribute 'Index'\n",
            "WARNING: Entity <bound method Dense.call of <tensorflow.python.layers.core.Dense object at 0x7f718ecec908>> could not be transformed and will be executed as-is. Please report this to the AutgoGraph team. When filing the bug, set the verbosity to 10 (on Linux, `export AUTOGRAPH_VERBOSITY=10`) and attach the full output. Cause: converting <bound method Dense.call of <tensorflow.python.layers.core.Dense object at 0x7f718ecec908>>: AttributeError: module 'gast' has no attribute 'Index'\n",
            "WARNING:tensorflow:Entity <bound method Dense.call of <tensorflow.python.layers.core.Dense object at 0x7f718ed3d9b0>> could not be transformed and will be executed as-is. Please report this to the AutgoGraph team. When filing the bug, set the verbosity to 10 (on Linux, `export AUTOGRAPH_VERBOSITY=10`) and attach the full output. Cause: converting <bound method Dense.call of <tensorflow.python.layers.core.Dense object at 0x7f718ed3d9b0>>: AttributeError: module 'gast' has no attribute 'Index'\n",
            "WARNING: Entity <bound method Dense.call of <tensorflow.python.layers.core.Dense object at 0x7f718ed3d9b0>> could not be transformed and will be executed as-is. Please report this to the AutgoGraph team. When filing the bug, set the verbosity to 10 (on Linux, `export AUTOGRAPH_VERBOSITY=10`) and attach the full output. Cause: converting <bound method Dense.call of <tensorflow.python.layers.core.Dense object at 0x7f718ed3d9b0>>: AttributeError: module 'gast' has no attribute 'Index'\n",
            "WARNING:tensorflow:Entity <bound method Dense.call of <tensorflow.python.layers.core.Dense object at 0x7f71c822cbe0>> could not be transformed and will be executed as-is. Please report this to the AutgoGraph team. When filing the bug, set the verbosity to 10 (on Linux, `export AUTOGRAPH_VERBOSITY=10`) and attach the full output. Cause: converting <bound method Dense.call of <tensorflow.python.layers.core.Dense object at 0x7f71c822cbe0>>: AttributeError: module 'gast' has no attribute 'Index'\n",
            "WARNING: Entity <bound method Dense.call of <tensorflow.python.layers.core.Dense object at 0x7f71c822cbe0>> could not be transformed and will be executed as-is. Please report this to the AutgoGraph team. When filing the bug, set the verbosity to 10 (on Linux, `export AUTOGRAPH_VERBOSITY=10`) and attach the full output. Cause: converting <bound method Dense.call of <tensorflow.python.layers.core.Dense object at 0x7f71c822cbe0>>: AttributeError: module 'gast' has no attribute 'Index'\n",
            "WARNING:tensorflow:Entity <bound method Dense.call of <tensorflow.python.layers.core.Dense object at 0x7f718ecec8d0>> could not be transformed and will be executed as-is. Please report this to the AutgoGraph team. When filing the bug, set the verbosity to 10 (on Linux, `export AUTOGRAPH_VERBOSITY=10`) and attach the full output. Cause: converting <bound method Dense.call of <tensorflow.python.layers.core.Dense object at 0x7f718ecec8d0>>: AttributeError: module 'gast' has no attribute 'Index'\n",
            "WARNING: Entity <bound method Dense.call of <tensorflow.python.layers.core.Dense object at 0x7f718ecec8d0>> could not be transformed and will be executed as-is. Please report this to the AutgoGraph team. When filing the bug, set the verbosity to 10 (on Linux, `export AUTOGRAPH_VERBOSITY=10`) and attach the full output. Cause: converting <bound method Dense.call of <tensorflow.python.layers.core.Dense object at 0x7f718ecec8d0>>: AttributeError: module 'gast' has no attribute 'Index'\n",
            "WARNING:tensorflow:Entity <bound method Dense.call of <tensorflow.python.layers.core.Dense object at 0x7f718bab97f0>> could not be transformed and will be executed as-is. Please report this to the AutgoGraph team. When filing the bug, set the verbosity to 10 (on Linux, `export AUTOGRAPH_VERBOSITY=10`) and attach the full output. Cause: converting <bound method Dense.call of <tensorflow.python.layers.core.Dense object at 0x7f718bab97f0>>: AttributeError: module 'gast' has no attribute 'Index'\n",
            "WARNING: Entity <bound method Dense.call of <tensorflow.python.layers.core.Dense object at 0x7f718bab97f0>> could not be transformed and will be executed as-is. Please report this to the AutgoGraph team. When filing the bug, set the verbosity to 10 (on Linux, `export AUTOGRAPH_VERBOSITY=10`) and attach the full output. Cause: converting <bound method Dense.call of <tensorflow.python.layers.core.Dense object at 0x7f718bab97f0>>: AttributeError: module 'gast' has no attribute 'Index'\n",
            "WARNING:tensorflow:Entity <bound method Dense.call of <tensorflow.python.layers.core.Dense object at 0x7f7192619b38>> could not be transformed and will be executed as-is. Please report this to the AutgoGraph team. When filing the bug, set the verbosity to 10 (on Linux, `export AUTOGRAPH_VERBOSITY=10`) and attach the full output. Cause: converting <bound method Dense.call of <tensorflow.python.layers.core.Dense object at 0x7f7192619b38>>: AttributeError: module 'gast' has no attribute 'Index'\n",
            "WARNING: Entity <bound method Dense.call of <tensorflow.python.layers.core.Dense object at 0x7f7192619b38>> could not be transformed and will be executed as-is. Please report this to the AutgoGraph team. When filing the bug, set the verbosity to 10 (on Linux, `export AUTOGRAPH_VERBOSITY=10`) and attach the full output. Cause: converting <bound method Dense.call of <tensorflow.python.layers.core.Dense object at 0x7f7192619b38>>: AttributeError: module 'gast' has no attribute 'Index'\n",
            "WARNING:tensorflow:From /mnt/batch/tasks/shared/LS_root/mounts/clusters/cpu-core8-ram32/code/Users/rmhavij/ts_gen/model/GNN.py:28: The name tf.summary.image is deprecated. Please use tf.compat.v1.summary.image instead.\n",
            "\n",
            "WARNING:tensorflow:Entity <bound method Dense.call of <tensorflow.python.layers.core.Dense object at 0x7f718b0dc390>> could not be transformed and will be executed as-is. Please report this to the AutgoGraph team. When filing the bug, set the verbosity to 10 (on Linux, `export AUTOGRAPH_VERBOSITY=10`) and attach the full output. Cause: converting <bound method Dense.call of <tensorflow.python.layers.core.Dense object at 0x7f718b0dc390>>: AttributeError: module 'gast' has no attribute 'Index'\n",
            "WARNING: Entity <bound method Dense.call of <tensorflow.python.layers.core.Dense object at 0x7f718b0dc390>> could not be transformed and will be executed as-is. Please report this to the AutgoGraph team. When filing the bug, set the verbosity to 10 (on Linux, `export AUTOGRAPH_VERBOSITY=10`) and attach the full output. Cause: converting <bound method Dense.call of <tensorflow.python.layers.core.Dense object at 0x7f718b0dc390>>: AttributeError: module 'gast' has no attribute 'Index'\n",
            "WARNING:tensorflow:Entity <bound method Dense.call of <tensorflow.python.layers.core.Dense object at 0x7f718b1a9358>> could not be transformed and will be executed as-is. Please report this to the AutgoGraph team. When filing the bug, set the verbosity to 10 (on Linux, `export AUTOGRAPH_VERBOSITY=10`) and attach the full output. Cause: converting <bound method Dense.call of <tensorflow.python.layers.core.Dense object at 0x7f718b1a9358>>: AttributeError: module 'gast' has no attribute 'Index'\n",
            "WARNING: Entity <bound method Dense.call of <tensorflow.python.layers.core.Dense object at 0x7f718b1a9358>> could not be transformed and will be executed as-is. Please report this to the AutgoGraph team. When filing the bug, set the verbosity to 10 (on Linux, `export AUTOGRAPH_VERBOSITY=10`) and attach the full output. Cause: converting <bound method Dense.call of <tensorflow.python.layers.core.Dense object at 0x7f718b1a9358>>: AttributeError: module 'gast' has no attribute 'Index'\n",
            "WARNING:tensorflow:Entity <bound method Dense.call of <tensorflow.python.layers.core.Dense object at 0x7f718b052a90>> could not be transformed and will be executed as-is. Please report this to the AutgoGraph team. When filing the bug, set the verbosity to 10 (on Linux, `export AUTOGRAPH_VERBOSITY=10`) and attach the full output. Cause: converting <bound method Dense.call of <tensorflow.python.layers.core.Dense object at 0x7f718b052a90>>: AttributeError: module 'gast' has no attribute 'Index'\n",
            "WARNING: Entity <bound method Dense.call of <tensorflow.python.layers.core.Dense object at 0x7f718b052a90>> could not be transformed and will be executed as-is. Please report this to the AutgoGraph team. When filing the bug, set the verbosity to 10 (on Linux, `export AUTOGRAPH_VERBOSITY=10`) and attach the full output. Cause: converting <bound method Dense.call of <tensorflow.python.layers.core.Dense object at 0x7f718b052a90>>: AttributeError: module 'gast' has no attribute 'Index'\n",
            "WARNING:tensorflow:Entity <bound method Dense.call of <tensorflow.python.layers.core.Dense object at 0x7f718bad16a0>> could not be transformed and will be executed as-is. Please report this to the AutgoGraph team. When filing the bug, set the verbosity to 10 (on Linux, `export AUTOGRAPH_VERBOSITY=10`) and attach the full output. Cause: converting <bound method Dense.call of <tensorflow.python.layers.core.Dense object at 0x7f718bad16a0>>: AttributeError: module 'gast' has no attribute 'Index'\n",
            "WARNING: Entity <bound method Dense.call of <tensorflow.python.layers.core.Dense object at 0x7f718bad16a0>> could not be transformed and will be executed as-is. Please report this to the AutgoGraph team. When filing the bug, set the verbosity to 10 (on Linux, `export AUTOGRAPH_VERBOSITY=10`) and attach the full output. Cause: converting <bound method Dense.call of <tensorflow.python.layers.core.Dense object at 0x7f718bad16a0>>: AttributeError: module 'gast' has no attribute 'Index'\n",
            "WARNING:tensorflow:Entity <bound method Dense.call of <tensorflow.python.layers.core.Dense object at 0x7f718bad16a0>> could not be transformed and will be executed as-is. Please report this to the AutgoGraph team. When filing the bug, set the verbosity to 10 (on Linux, `export AUTOGRAPH_VERBOSITY=10`) and attach the full output. Cause: converting <bound method Dense.call of <tensorflow.python.layers.core.Dense object at 0x7f718bad16a0>>: AttributeError: module 'gast' has no attribute 'Index'\n",
            "WARNING: Entity <bound method Dense.call of <tensorflow.python.layers.core.Dense object at 0x7f718bad16a0>> could not be transformed and will be executed as-is. Please report this to the AutgoGraph team. When filing the bug, set the verbosity to 10 (on Linux, `export AUTOGRAPH_VERBOSITY=10`) and attach the full output. Cause: converting <bound method Dense.call of <tensorflow.python.layers.core.Dense object at 0x7f718bad16a0>>: AttributeError: module 'gast' has no attribute 'Index'\n",
            "WARNING:tensorflow:Entity <bound method Dense.call of <tensorflow.python.layers.core.Dense object at 0x7f718b01f240>> could not be transformed and will be executed as-is. Please report this to the AutgoGraph team. When filing the bug, set the verbosity to 10 (on Linux, `export AUTOGRAPH_VERBOSITY=10`) and attach the full output. Cause: converting <bound method Dense.call of <tensorflow.python.layers.core.Dense object at 0x7f718b01f240>>: AttributeError: module 'gast' has no attribute 'Index'\n",
            "WARNING: Entity <bound method Dense.call of <tensorflow.python.layers.core.Dense object at 0x7f718b01f240>> could not be transformed and will be executed as-is. Please report this to the AutgoGraph team. When filing the bug, set the verbosity to 10 (on Linux, `export AUTOGRAPH_VERBOSITY=10`) and attach the full output. Cause: converting <bound method Dense.call of <tensorflow.python.layers.core.Dense object at 0x7f718b01f240>>: AttributeError: module 'gast' has no attribute 'Index'\n",
            "WARNING:tensorflow:Entity <bound method Dense.call of <tensorflow.python.layers.core.Dense object at 0x7f718b0bfb38>> could not be transformed and will be executed as-is. Please report this to the AutgoGraph team. When filing the bug, set the verbosity to 10 (on Linux, `export AUTOGRAPH_VERBOSITY=10`) and attach the full output. Cause: converting <bound method Dense.call of <tensorflow.python.layers.core.Dense object at 0x7f718b0bfb38>>: AttributeError: module 'gast' has no attribute 'Index'\n",
            "WARNING: Entity <bound method Dense.call of <tensorflow.python.layers.core.Dense object at 0x7f718b0bfb38>> could not be transformed and will be executed as-is. Please report this to the AutgoGraph team. When filing the bug, set the verbosity to 10 (on Linux, `export AUTOGRAPH_VERBOSITY=10`) and attach the full output. Cause: converting <bound method Dense.call of <tensorflow.python.layers.core.Dense object at 0x7f718b0bfb38>>: AttributeError: module 'gast' has no attribute 'Index'\n",
            "WARNING:tensorflow:Entity <bound method Dense.call of <tensorflow.python.layers.core.Dense object at 0x7f718b0bfb38>> could not be transformed and will be executed as-is. Please report this to the AutgoGraph team. When filing the bug, set the verbosity to 10 (on Linux, `export AUTOGRAPH_VERBOSITY=10`) and attach the full output. Cause: converting <bound method Dense.call of <tensorflow.python.layers.core.Dense object at 0x7f718b0bfb38>>: AttributeError: module 'gast' has no attribute 'Index'\n",
            "WARNING: Entity <bound method Dense.call of <tensorflow.python.layers.core.Dense object at 0x7f718b0bfb38>> could not be transformed and will be executed as-is. Please report this to the AutgoGraph team. When filing the bug, set the verbosity to 10 (on Linux, `export AUTOGRAPH_VERBOSITY=10`) and attach the full output. Cause: converting <bound method Dense.call of <tensorflow.python.layers.core.Dense object at 0x7f718b0bfb38>>: AttributeError: module 'gast' has no attribute 'Index'\n",
            "WARNING:tensorflow:Entity <bound method Dense.call of <tensorflow.python.layers.core.Dense object at 0x7f718b0bf438>> could not be transformed and will be executed as-is. Please report this to the AutgoGraph team. When filing the bug, set the verbosity to 10 (on Linux, `export AUTOGRAPH_VERBOSITY=10`) and attach the full output. Cause: converting <bound method Dense.call of <tensorflow.python.layers.core.Dense object at 0x7f718b0bf438>>: AttributeError: module 'gast' has no attribute 'Index'\n",
            "WARNING: Entity <bound method Dense.call of <tensorflow.python.layers.core.Dense object at 0x7f718b0bf438>> could not be transformed and will be executed as-is. Please report this to the AutgoGraph team. When filing the bug, set the verbosity to 10 (on Linux, `export AUTOGRAPH_VERBOSITY=10`) and attach the full output. Cause: converting <bound method Dense.call of <tensorflow.python.layers.core.Dense object at 0x7f718b0bf438>>: AttributeError: module 'gast' has no attribute 'Index'\n",
            "WARNING:tensorflow:Entity <bound method Dense.call of <tensorflow.python.layers.core.Dense object at 0x7f718addb080>> could not be transformed and will be executed as-is. Please report this to the AutgoGraph team. When filing the bug, set the verbosity to 10 (on Linux, `export AUTOGRAPH_VERBOSITY=10`) and attach the full output. Cause: converting <bound method Dense.call of <tensorflow.python.layers.core.Dense object at 0x7f718addb080>>: AttributeError: module 'gast' has no attribute 'Index'\n",
            "WARNING: Entity <bound method Dense.call of <tensorflow.python.layers.core.Dense object at 0x7f718addb080>> could not be transformed and will be executed as-is. Please report this to the AutgoGraph team. When filing the bug, set the verbosity to 10 (on Linux, `export AUTOGRAPH_VERBOSITY=10`) and attach the full output. Cause: converting <bound method Dense.call of <tensorflow.python.layers.core.Dense object at 0x7f718addb080>>: AttributeError: module 'gast' has no attribute 'Index'\n",
            "WARNING:tensorflow:Entity <bound method Dense.call of <tensorflow.python.layers.core.Dense object at 0x7f718ad83dd8>> could not be transformed and will be executed as-is. Please report this to the AutgoGraph team. When filing the bug, set the verbosity to 10 (on Linux, `export AUTOGRAPH_VERBOSITY=10`) and attach the full output. Cause: converting <bound method Dense.call of <tensorflow.python.layers.core.Dense object at 0x7f718ad83dd8>>: AttributeError: module 'gast' has no attribute 'Index'\n",
            "WARNING: Entity <bound method Dense.call of <tensorflow.python.layers.core.Dense object at 0x7f718ad83dd8>> could not be transformed and will be executed as-is. Please report this to the AutgoGraph team. When filing the bug, set the verbosity to 10 (on Linux, `export AUTOGRAPH_VERBOSITY=10`) and attach the full output. Cause: converting <bound method Dense.call of <tensorflow.python.layers.core.Dense object at 0x7f718ad83dd8>>: AttributeError: module 'gast' has no attribute 'Index'\n",
            "WARNING:tensorflow:Entity <bound method Dense.call of <tensorflow.python.layers.core.Dense object at 0x7f718ad97ef0>> could not be transformed and will be executed as-is. Please report this to the AutgoGraph team. When filing the bug, set the verbosity to 10 (on Linux, `export AUTOGRAPH_VERBOSITY=10`) and attach the full output. Cause: converting <bound method Dense.call of <tensorflow.python.layers.core.Dense object at 0x7f718ad97ef0>>: AttributeError: module 'gast' has no attribute 'Index'\n",
            "WARNING: Entity <bound method Dense.call of <tensorflow.python.layers.core.Dense object at 0x7f718ad97ef0>> could not be transformed and will be executed as-is. Please report this to the AutgoGraph team. When filing the bug, set the verbosity to 10 (on Linux, `export AUTOGRAPH_VERBOSITY=10`) and attach the full output. Cause: converting <bound method Dense.call of <tensorflow.python.layers.core.Dense object at 0x7f718ad97ef0>>: AttributeError: module 'gast' has no attribute 'Index'\n",
            "WARNING:tensorflow:Entity <bound method Dense.call of <tensorflow.python.layers.core.Dense object at 0x7f718b196198>> could not be transformed and will be executed as-is. Please report this to the AutgoGraph team. When filing the bug, set the verbosity to 10 (on Linux, `export AUTOGRAPH_VERBOSITY=10`) and attach the full output. Cause: converting <bound method Dense.call of <tensorflow.python.layers.core.Dense object at 0x7f718b196198>>: AttributeError: module 'gast' has no attribute 'Index'\n",
            "WARNING: Entity <bound method Dense.call of <tensorflow.python.layers.core.Dense object at 0x7f718b196198>> could not be transformed and will be executed as-is. Please report this to the AutgoGraph team. When filing the bug, set the verbosity to 10 (on Linux, `export AUTOGRAPH_VERBOSITY=10`) and attach the full output. Cause: converting <bound method Dense.call of <tensorflow.python.layers.core.Dense object at 0x7f718b196198>>: AttributeError: module 'gast' has no attribute 'Index'\n",
            "WARNING:tensorflow:Entity <bound method Dense.call of <tensorflow.python.layers.core.Dense object at 0x7f718b196198>> could not be transformed and will be executed as-is. Please report this to the AutgoGraph team. When filing the bug, set the verbosity to 10 (on Linux, `export AUTOGRAPH_VERBOSITY=10`) and attach the full output. Cause: converting <bound method Dense.call of <tensorflow.python.layers.core.Dense object at 0x7f718b196198>>: AttributeError: module 'gast' has no attribute 'Index'\n",
            "WARNING: Entity <bound method Dense.call of <tensorflow.python.layers.core.Dense object at 0x7f718b196198>> could not be transformed and will be executed as-is. Please report this to the AutgoGraph team. When filing the bug, set the verbosity to 10 (on Linux, `export AUTOGRAPH_VERBOSITY=10`) and attach the full output. Cause: converting <bound method Dense.call of <tensorflow.python.layers.core.Dense object at 0x7f718b196198>>: AttributeError: module 'gast' has no attribute 'Index'\n",
            "WARNING:tensorflow:Entity <bound method Dense.call of <tensorflow.python.layers.core.Dense object at 0x7f718adba160>> could not be transformed and will be executed as-is. Please report this to the AutgoGraph team. When filing the bug, set the verbosity to 10 (on Linux, `export AUTOGRAPH_VERBOSITY=10`) and attach the full output. Cause: converting <bound method Dense.call of <tensorflow.python.layers.core.Dense object at 0x7f718adba160>>: AttributeError: module 'gast' has no attribute 'Index'\n",
            "WARNING: Entity <bound method Dense.call of <tensorflow.python.layers.core.Dense object at 0x7f718adba160>> could not be transformed and will be executed as-is. Please report this to the AutgoGraph team. When filing the bug, set the verbosity to 10 (on Linux, `export AUTOGRAPH_VERBOSITY=10`) and attach the full output. Cause: converting <bound method Dense.call of <tensorflow.python.layers.core.Dense object at 0x7f718adba160>>: AttributeError: module 'gast' has no attribute 'Index'\n",
            "WARNING:tensorflow:Entity <bound method Dense.call of <tensorflow.python.layers.core.Dense object at 0x7f718b052ef0>> could not be transformed and will be executed as-is. Please report this to the AutgoGraph team. When filing the bug, set the verbosity to 10 (on Linux, `export AUTOGRAPH_VERBOSITY=10`) and attach the full output. Cause: converting <bound method Dense.call of <tensorflow.python.layers.core.Dense object at 0x7f718b052ef0>>: AttributeError: module 'gast' has no attribute 'Index'\n",
            "WARNING: Entity <bound method Dense.call of <tensorflow.python.layers.core.Dense object at 0x7f718b052ef0>> could not be transformed and will be executed as-is. Please report this to the AutgoGraph team. When filing the bug, set the verbosity to 10 (on Linux, `export AUTOGRAPH_VERBOSITY=10`) and attach the full output. Cause: converting <bound method Dense.call of <tensorflow.python.layers.core.Dense object at 0x7f718b052ef0>>: AttributeError: module 'gast' has no attribute 'Index'\n",
            "WARNING:tensorflow:Entity <bound method Dense.call of <tensorflow.python.layers.core.Dense object at 0x7f718b052ef0>> could not be transformed and will be executed as-is. Please report this to the AutgoGraph team. When filing the bug, set the verbosity to 10 (on Linux, `export AUTOGRAPH_VERBOSITY=10`) and attach the full output. Cause: converting <bound method Dense.call of <tensorflow.python.layers.core.Dense object at 0x7f718b052ef0>>: AttributeError: module 'gast' has no attribute 'Index'\n",
            "WARNING: Entity <bound method Dense.call of <tensorflow.python.layers.core.Dense object at 0x7f718b052ef0>> could not be transformed and will be executed as-is. Please report this to the AutgoGraph team. When filing the bug, set the verbosity to 10 (on Linux, `export AUTOGRAPH_VERBOSITY=10`) and attach the full output. Cause: converting <bound method Dense.call of <tensorflow.python.layers.core.Dense object at 0x7f718b052ef0>>: AttributeError: module 'gast' has no attribute 'Index'\n",
            "WARNING:tensorflow:Entity <bound method Dense.call of <tensorflow.python.layers.core.Dense object at 0x7f718ad97ef0>> could not be transformed and will be executed as-is. Please report this to the AutgoGraph team. When filing the bug, set the verbosity to 10 (on Linux, `export AUTOGRAPH_VERBOSITY=10`) and attach the full output. Cause: converting <bound method Dense.call of <tensorflow.python.layers.core.Dense object at 0x7f718ad97ef0>>: AttributeError: module 'gast' has no attribute 'Index'\n",
            "WARNING: Entity <bound method Dense.call of <tensorflow.python.layers.core.Dense object at 0x7f718ad97ef0>> could not be transformed and will be executed as-is. Please report this to the AutgoGraph team. When filing the bug, set the verbosity to 10 (on Linux, `export AUTOGRAPH_VERBOSITY=10`) and attach the full output. Cause: converting <bound method Dense.call of <tensorflow.python.layers.core.Dense object at 0x7f718ad97ef0>>: AttributeError: module 'gast' has no attribute 'Index'\n",
            "WARNING:tensorflow:Entity <bound method Dense.call of <tensorflow.python.layers.core.Dense object at 0x7f718affe978>> could not be transformed and will be executed as-is. Please report this to the AutgoGraph team. When filing the bug, set the verbosity to 10 (on Linux, `export AUTOGRAPH_VERBOSITY=10`) and attach the full output. Cause: converting <bound method Dense.call of <tensorflow.python.layers.core.Dense object at 0x7f718affe978>>: AttributeError: module 'gast' has no attribute 'Index'\n",
            "WARNING: Entity <bound method Dense.call of <tensorflow.python.layers.core.Dense object at 0x7f718affe978>> could not be transformed and will be executed as-is. Please report this to the AutgoGraph team. When filing the bug, set the verbosity to 10 (on Linux, `export AUTOGRAPH_VERBOSITY=10`) and attach the full output. Cause: converting <bound method Dense.call of <tensorflow.python.layers.core.Dense object at 0x7f718affe978>>: AttributeError: module 'gast' has no attribute 'Index'\n",
            "WARNING:tensorflow:Entity <bound method Dense.call of <tensorflow.python.layers.core.Dense object at 0x7f718affe978>> could not be transformed and will be executed as-is. Please report this to the AutgoGraph team. When filing the bug, set the verbosity to 10 (on Linux, `export AUTOGRAPH_VERBOSITY=10`) and attach the full output. Cause: converting <bound method Dense.call of <tensorflow.python.layers.core.Dense object at 0x7f718affe978>>: AttributeError: module 'gast' has no attribute 'Index'\n",
            "WARNING: Entity <bound method Dense.call of <tensorflow.python.layers.core.Dense object at 0x7f718affe978>> could not be transformed and will be executed as-is. Please report this to the AutgoGraph team. When filing the bug, set the verbosity to 10 (on Linux, `export AUTOGRAPH_VERBOSITY=10`) and attach the full output. Cause: converting <bound method Dense.call of <tensorflow.python.layers.core.Dense object at 0x7f718affe978>>: AttributeError: module 'gast' has no attribute 'Index'\n",
            "WARNING:tensorflow:Entity <bound method Dense.call of <tensorflow.python.layers.core.Dense object at 0x7f718adda7f0>> could not be transformed and will be executed as-is. Please report this to the AutgoGraph team. When filing the bug, set the verbosity to 10 (on Linux, `export AUTOGRAPH_VERBOSITY=10`) and attach the full output. Cause: converting <bound method Dense.call of <tensorflow.python.layers.core.Dense object at 0x7f718adda7f0>>: AttributeError: module 'gast' has no attribute 'Index'\n",
            "WARNING: Entity <bound method Dense.call of <tensorflow.python.layers.core.Dense object at 0x7f718adda7f0>> could not be transformed and will be executed as-is. Please report this to the AutgoGraph team. When filing the bug, set the verbosity to 10 (on Linux, `export AUTOGRAPH_VERBOSITY=10`) and attach the full output. Cause: converting <bound method Dense.call of <tensorflow.python.layers.core.Dense object at 0x7f718adda7f0>>: AttributeError: module 'gast' has no attribute 'Index'\n",
            "WARNING:tensorflow:Entity <bound method Dense.call of <tensorflow.python.layers.core.Dense object at 0x7f718ab60c88>> could not be transformed and will be executed as-is. Please report this to the AutgoGraph team. When filing the bug, set the verbosity to 10 (on Linux, `export AUTOGRAPH_VERBOSITY=10`) and attach the full output. Cause: converting <bound method Dense.call of <tensorflow.python.layers.core.Dense object at 0x7f718ab60c88>>: AttributeError: module 'gast' has no attribute 'Index'\n",
            "WARNING: Entity <bound method Dense.call of <tensorflow.python.layers.core.Dense object at 0x7f718ab60c88>> could not be transformed and will be executed as-is. Please report this to the AutgoGraph team. When filing the bug, set the verbosity to 10 (on Linux, `export AUTOGRAPH_VERBOSITY=10`) and attach the full output. Cause: converting <bound method Dense.call of <tensorflow.python.layers.core.Dense object at 0x7f718ab60c88>>: AttributeError: module 'gast' has no attribute 'Index'\n",
            "WARNING:tensorflow:Entity <bound method Dense.call of <tensorflow.python.layers.core.Dense object at 0x7f718ab60c88>> could not be transformed and will be executed as-is. Please report this to the AutgoGraph team. When filing the bug, set the verbosity to 10 (on Linux, `export AUTOGRAPH_VERBOSITY=10`) and attach the full output. Cause: converting <bound method Dense.call of <tensorflow.python.layers.core.Dense object at 0x7f718ab60c88>>: AttributeError: module 'gast' has no attribute 'Index'\n",
            "WARNING: Entity <bound method Dense.call of <tensorflow.python.layers.core.Dense object at 0x7f718ab60c88>> could not be transformed and will be executed as-is. Please report this to the AutgoGraph team. When filing the bug, set the verbosity to 10 (on Linux, `export AUTOGRAPH_VERBOSITY=10`) and attach the full output. Cause: converting <bound method Dense.call of <tensorflow.python.layers.core.Dense object at 0x7f718ab60c88>>: AttributeError: module 'gast' has no attribute 'Index'\n",
            "WARNING:tensorflow:Entity <bound method Dense.call of <tensorflow.python.layers.core.Dense object at 0x7f718ab60f28>> could not be transformed and will be executed as-is. Please report this to the AutgoGraph team. When filing the bug, set the verbosity to 10 (on Linux, `export AUTOGRAPH_VERBOSITY=10`) and attach the full output. Cause: converting <bound method Dense.call of <tensorflow.python.layers.core.Dense object at 0x7f718ab60f28>>: AttributeError: module 'gast' has no attribute 'Index'\n",
            "WARNING: Entity <bound method Dense.call of <tensorflow.python.layers.core.Dense object at 0x7f718ab60f28>> could not be transformed and will be executed as-is. Please report this to the AutgoGraph team. When filing the bug, set the verbosity to 10 (on Linux, `export AUTOGRAPH_VERBOSITY=10`) and attach the full output. Cause: converting <bound method Dense.call of <tensorflow.python.layers.core.Dense object at 0x7f718ab60f28>>: AttributeError: module 'gast' has no attribute 'Index'\n",
            "WARNING:tensorflow:Entity <bound method Dense.call of <tensorflow.python.layers.core.Dense object at 0x7f718aa75e10>> could not be transformed and will be executed as-is. Please report this to the AutgoGraph team. When filing the bug, set the verbosity to 10 (on Linux, `export AUTOGRAPH_VERBOSITY=10`) and attach the full output. Cause: converting <bound method Dense.call of <tensorflow.python.layers.core.Dense object at 0x7f718aa75e10>>: AttributeError: module 'gast' has no attribute 'Index'\n",
            "WARNING: Entity <bound method Dense.call of <tensorflow.python.layers.core.Dense object at 0x7f718aa75e10>> could not be transformed and will be executed as-is. Please report this to the AutgoGraph team. When filing the bug, set the verbosity to 10 (on Linux, `export AUTOGRAPH_VERBOSITY=10`) and attach the full output. Cause: converting <bound method Dense.call of <tensorflow.python.layers.core.Dense object at 0x7f718aa75e10>>: AttributeError: module 'gast' has no attribute 'Index'\n",
            "WARNING:tensorflow:Entity <bound method Dense.call of <tensorflow.python.layers.core.Dense object at 0x7f718aa91320>> could not be transformed and will be executed as-is. Please report this to the AutgoGraph team. When filing the bug, set the verbosity to 10 (on Linux, `export AUTOGRAPH_VERBOSITY=10`) and attach the full output. Cause: converting <bound method Dense.call of <tensorflow.python.layers.core.Dense object at 0x7f718aa91320>>: AttributeError: module 'gast' has no attribute 'Index'\n",
            "WARNING: Entity <bound method Dense.call of <tensorflow.python.layers.core.Dense object at 0x7f718aa91320>> could not be transformed and will be executed as-is. Please report this to the AutgoGraph team. When filing the bug, set the verbosity to 10 (on Linux, `export AUTOGRAPH_VERBOSITY=10`) and attach the full output. Cause: converting <bound method Dense.call of <tensorflow.python.layers.core.Dense object at 0x7f718aa91320>>: AttributeError: module 'gast' has no attribute 'Index'\n",
            "WARNING:tensorflow:Entity <bound method Dense.call of <tensorflow.python.layers.core.Dense object at 0x7f718ac135c0>> could not be transformed and will be executed as-is. Please report this to the AutgoGraph team. When filing the bug, set the verbosity to 10 (on Linux, `export AUTOGRAPH_VERBOSITY=10`) and attach the full output. Cause: converting <bound method Dense.call of <tensorflow.python.layers.core.Dense object at 0x7f718ac135c0>>: AttributeError: module 'gast' has no attribute 'Index'\n",
            "WARNING: Entity <bound method Dense.call of <tensorflow.python.layers.core.Dense object at 0x7f718ac135c0>> could not be transformed and will be executed as-is. Please report this to the AutgoGraph team. When filing the bug, set the verbosity to 10 (on Linux, `export AUTOGRAPH_VERBOSITY=10`) and attach the full output. Cause: converting <bound method Dense.call of <tensorflow.python.layers.core.Dense object at 0x7f718ac135c0>>: AttributeError: module 'gast' has no attribute 'Index'\n",
            "WARNING:tensorflow:Entity <bound method Dense.call of <tensorflow.python.layers.core.Dense object at 0x7f718ab16dd8>> could not be transformed and will be executed as-is. Please report this to the AutgoGraph team. When filing the bug, set the verbosity to 10 (on Linux, `export AUTOGRAPH_VERBOSITY=10`) and attach the full output. Cause: converting <bound method Dense.call of <tensorflow.python.layers.core.Dense object at 0x7f718ab16dd8>>: AttributeError: module 'gast' has no attribute 'Index'\n",
            "WARNING: Entity <bound method Dense.call of <tensorflow.python.layers.core.Dense object at 0x7f718ab16dd8>> could not be transformed and will be executed as-is. Please report this to the AutgoGraph team. When filing the bug, set the verbosity to 10 (on Linux, `export AUTOGRAPH_VERBOSITY=10`) and attach the full output. Cause: converting <bound method Dense.call of <tensorflow.python.layers.core.Dense object at 0x7f718ab16dd8>>: AttributeError: module 'gast' has no attribute 'Index'\n",
            "WARNING:tensorflow:Entity <bound method Dense.call of <tensorflow.python.layers.core.Dense object at 0x7f718ab16dd8>> could not be transformed and will be executed as-is. Please report this to the AutgoGraph team. When filing the bug, set the verbosity to 10 (on Linux, `export AUTOGRAPH_VERBOSITY=10`) and attach the full output. Cause: converting <bound method Dense.call of <tensorflow.python.layers.core.Dense object at 0x7f718ab16dd8>>: AttributeError: module 'gast' has no attribute 'Index'\n",
            "WARNING: Entity <bound method Dense.call of <tensorflow.python.layers.core.Dense object at 0x7f718ab16dd8>> could not be transformed and will be executed as-is. Please report this to the AutgoGraph team. When filing the bug, set the verbosity to 10 (on Linux, `export AUTOGRAPH_VERBOSITY=10`) and attach the full output. Cause: converting <bound method Dense.call of <tensorflow.python.layers.core.Dense object at 0x7f718ab16dd8>>: AttributeError: module 'gast' has no attribute 'Index'\n",
            "WARNING:tensorflow:Entity <bound method Dense.call of <tensorflow.python.layers.core.Dense object at 0x7f718ab19da0>> could not be transformed and will be executed as-is. Please report this to the AutgoGraph team. When filing the bug, set the verbosity to 10 (on Linux, `export AUTOGRAPH_VERBOSITY=10`) and attach the full output. Cause: converting <bound method Dense.call of <tensorflow.python.layers.core.Dense object at 0x7f718ab19da0>>: AttributeError: module 'gast' has no attribute 'Index'\n",
            "WARNING: Entity <bound method Dense.call of <tensorflow.python.layers.core.Dense object at 0x7f718ab19da0>> could not be transformed and will be executed as-is. Please report this to the AutgoGraph team. When filing the bug, set the verbosity to 10 (on Linux, `export AUTOGRAPH_VERBOSITY=10`) and attach the full output. Cause: converting <bound method Dense.call of <tensorflow.python.layers.core.Dense object at 0x7f718ab19da0>>: AttributeError: module 'gast' has no attribute 'Index'\n",
            "WARNING:tensorflow:Entity <bound method Dense.call of <tensorflow.python.layers.core.Dense object at 0x7f718adda7f0>> could not be transformed and will be executed as-is. Please report this to the AutgoGraph team. When filing the bug, set the verbosity to 10 (on Linux, `export AUTOGRAPH_VERBOSITY=10`) and attach the full output. Cause: converting <bound method Dense.call of <tensorflow.python.layers.core.Dense object at 0x7f718adda7f0>>: AttributeError: module 'gast' has no attribute 'Index'\n",
            "WARNING: Entity <bound method Dense.call of <tensorflow.python.layers.core.Dense object at 0x7f718adda7f0>> could not be transformed and will be executed as-is. Please report this to the AutgoGraph team. When filing the bug, set the verbosity to 10 (on Linux, `export AUTOGRAPH_VERBOSITY=10`) and attach the full output. Cause: converting <bound method Dense.call of <tensorflow.python.layers.core.Dense object at 0x7f718adda7f0>>: AttributeError: module 'gast' has no attribute 'Index'\n",
            "WARNING:tensorflow:Entity <bound method Dense.call of <tensorflow.python.layers.core.Dense object at 0x7f718adda7f0>> could not be transformed and will be executed as-is. Please report this to the AutgoGraph team. When filing the bug, set the verbosity to 10 (on Linux, `export AUTOGRAPH_VERBOSITY=10`) and attach the full output. Cause: converting <bound method Dense.call of <tensorflow.python.layers.core.Dense object at 0x7f718adda7f0>>: AttributeError: module 'gast' has no attribute 'Index'\n",
            "WARNING: Entity <bound method Dense.call of <tensorflow.python.layers.core.Dense object at 0x7f718adda7f0>> could not be transformed and will be executed as-is. Please report this to the AutgoGraph team. When filing the bug, set the verbosity to 10 (on Linux, `export AUTOGRAPH_VERBOSITY=10`) and attach the full output. Cause: converting <bound method Dense.call of <tensorflow.python.layers.core.Dense object at 0x7f718adda7f0>>: AttributeError: module 'gast' has no attribute 'Index'\n",
            "WARNING:tensorflow:Entity <bound method Dense.call of <tensorflow.python.layers.core.Dense object at 0x7f718aa75e10>> could not be transformed and will be executed as-is. Please report this to the AutgoGraph team. When filing the bug, set the verbosity to 10 (on Linux, `export AUTOGRAPH_VERBOSITY=10`) and attach the full output. Cause: converting <bound method Dense.call of <tensorflow.python.layers.core.Dense object at 0x7f718aa75e10>>: AttributeError: module 'gast' has no attribute 'Index'\n",
            "WARNING: Entity <bound method Dense.call of <tensorflow.python.layers.core.Dense object at 0x7f718aa75e10>> could not be transformed and will be executed as-is. Please report this to the AutgoGraph team. When filing the bug, set the verbosity to 10 (on Linux, `export AUTOGRAPH_VERBOSITY=10`) and attach the full output. Cause: converting <bound method Dense.call of <tensorflow.python.layers.core.Dense object at 0x7f718aa75e10>>: AttributeError: module 'gast' has no attribute 'Index'\n",
            "WARNING:tensorflow:Entity <bound method Dense.call of <tensorflow.python.layers.core.Dense object at 0x7f718a8a4dd8>> could not be transformed and will be executed as-is. Please report this to the AutgoGraph team. When filing the bug, set the verbosity to 10 (on Linux, `export AUTOGRAPH_VERBOSITY=10`) and attach the full output. Cause: converting <bound method Dense.call of <tensorflow.python.layers.core.Dense object at 0x7f718a8a4dd8>>: AttributeError: module 'gast' has no attribute 'Index'\n",
            "WARNING: Entity <bound method Dense.call of <tensorflow.python.layers.core.Dense object at 0x7f718a8a4dd8>> could not be transformed and will be executed as-is. Please report this to the AutgoGraph team. When filing the bug, set the verbosity to 10 (on Linux, `export AUTOGRAPH_VERBOSITY=10`) and attach the full output. Cause: converting <bound method Dense.call of <tensorflow.python.layers.core.Dense object at 0x7f718a8a4dd8>>: AttributeError: module 'gast' has no attribute 'Index'\n",
            "WARNING:tensorflow:Entity <bound method Dense.call of <tensorflow.python.layers.core.Dense object at 0x7f718a8a4dd8>> could not be transformed and will be executed as-is. Please report this to the AutgoGraph team. When filing the bug, set the verbosity to 10 (on Linux, `export AUTOGRAPH_VERBOSITY=10`) and attach the full output. Cause: converting <bound method Dense.call of <tensorflow.python.layers.core.Dense object at 0x7f718a8a4dd8>>: AttributeError: module 'gast' has no attribute 'Index'\n",
            "WARNING: Entity <bound method Dense.call of <tensorflow.python.layers.core.Dense object at 0x7f718a8a4dd8>> could not be transformed and will be executed as-is. Please report this to the AutgoGraph team. When filing the bug, set the verbosity to 10 (on Linux, `export AUTOGRAPH_VERBOSITY=10`) and attach the full output. Cause: converting <bound method Dense.call of <tensorflow.python.layers.core.Dense object at 0x7f718a8a4dd8>>: AttributeError: module 'gast' has no attribute 'Index'\n",
            "WARNING:tensorflow:Entity <bound method Dense.call of <tensorflow.python.layers.core.Dense object at 0x7f718a8a4908>> could not be transformed and will be executed as-is. Please report this to the AutgoGraph team. When filing the bug, set the verbosity to 10 (on Linux, `export AUTOGRAPH_VERBOSITY=10`) and attach the full output. Cause: converting <bound method Dense.call of <tensorflow.python.layers.core.Dense object at 0x7f718a8a4908>>: AttributeError: module 'gast' has no attribute 'Index'\n",
            "WARNING: Entity <bound method Dense.call of <tensorflow.python.layers.core.Dense object at 0x7f718a8a4908>> could not be transformed and will be executed as-is. Please report this to the AutgoGraph team. When filing the bug, set the verbosity to 10 (on Linux, `export AUTOGRAPH_VERBOSITY=10`) and attach the full output. Cause: converting <bound method Dense.call of <tensorflow.python.layers.core.Dense object at 0x7f718a8a4908>>: AttributeError: module 'gast' has no attribute 'Index'\n",
            "WARNING:tensorflow:Entity <bound method Dense.call of <tensorflow.python.layers.core.Dense object at 0x7f718a9c9588>> could not be transformed and will be executed as-is. Please report this to the AutgoGraph team. When filing the bug, set the verbosity to 10 (on Linux, `export AUTOGRAPH_VERBOSITY=10`) and attach the full output. Cause: converting <bound method Dense.call of <tensorflow.python.layers.core.Dense object at 0x7f718a9c9588>>: AttributeError: module 'gast' has no attribute 'Index'\n",
            "WARNING: Entity <bound method Dense.call of <tensorflow.python.layers.core.Dense object at 0x7f718a9c9588>> could not be transformed and will be executed as-is. Please report this to the AutgoGraph team. When filing the bug, set the verbosity to 10 (on Linux, `export AUTOGRAPH_VERBOSITY=10`) and attach the full output. Cause: converting <bound method Dense.call of <tensorflow.python.layers.core.Dense object at 0x7f718a9c9588>>: AttributeError: module 'gast' has no attribute 'Index'\n",
            "WARNING:tensorflow:Entity <bound method Dense.call of <tensorflow.python.layers.core.Dense object at 0x7f718a9c9588>> could not be transformed and will be executed as-is. Please report this to the AutgoGraph team. When filing the bug, set the verbosity to 10 (on Linux, `export AUTOGRAPH_VERBOSITY=10`) and attach the full output. Cause: converting <bound method Dense.call of <tensorflow.python.layers.core.Dense object at 0x7f718a9c9588>>: AttributeError: module 'gast' has no attribute 'Index'\n",
            "WARNING: Entity <bound method Dense.call of <tensorflow.python.layers.core.Dense object at 0x7f718a9c9588>> could not be transformed and will be executed as-is. Please report this to the AutgoGraph team. When filing the bug, set the verbosity to 10 (on Linux, `export AUTOGRAPH_VERBOSITY=10`) and attach the full output. Cause: converting <bound method Dense.call of <tensorflow.python.layers.core.Dense object at 0x7f718a9c9588>>: AttributeError: module 'gast' has no attribute 'Index'\n",
            "WARNING:tensorflow:Entity <bound method Dense.call of <tensorflow.python.layers.core.Dense object at 0x7f718adda7f0>> could not be transformed and will be executed as-is. Please report this to the AutgoGraph team. When filing the bug, set the verbosity to 10 (on Linux, `export AUTOGRAPH_VERBOSITY=10`) and attach the full output. Cause: converting <bound method Dense.call of <tensorflow.python.layers.core.Dense object at 0x7f718adda7f0>>: AttributeError: module 'gast' has no attribute 'Index'\n",
            "WARNING: Entity <bound method Dense.call of <tensorflow.python.layers.core.Dense object at 0x7f718adda7f0>> could not be transformed and will be executed as-is. Please report this to the AutgoGraph team. When filing the bug, set the verbosity to 10 (on Linux, `export AUTOGRAPH_VERBOSITY=10`) and attach the full output. Cause: converting <bound method Dense.call of <tensorflow.python.layers.core.Dense object at 0x7f718adda7f0>>: AttributeError: module 'gast' has no attribute 'Index'\n",
            "WARNING:tensorflow:Entity <bound method Dense.call of <tensorflow.python.layers.core.Dense object at 0x7f718a6ae048>> could not be transformed and will be executed as-is. Please report this to the AutgoGraph team. When filing the bug, set the verbosity to 10 (on Linux, `export AUTOGRAPH_VERBOSITY=10`) and attach the full output. Cause: converting <bound method Dense.call of <tensorflow.python.layers.core.Dense object at 0x7f718a6ae048>>: AttributeError: module 'gast' has no attribute 'Index'\n",
            "WARNING: Entity <bound method Dense.call of <tensorflow.python.layers.core.Dense object at 0x7f718a6ae048>> could not be transformed and will be executed as-is. Please report this to the AutgoGraph team. When filing the bug, set the verbosity to 10 (on Linux, `export AUTOGRAPH_VERBOSITY=10`) and attach the full output. Cause: converting <bound method Dense.call of <tensorflow.python.layers.core.Dense object at 0x7f718a6ae048>>: AttributeError: module 'gast' has no attribute 'Index'\n",
            "WARNING:tensorflow:From /mnt/batch/tasks/shared/LS_root/mounts/clusters/cpu-core8-ram32/code/Users/rmhavij/ts_gen/model/G2C.py:88: The name tf.get_variable is deprecated. Please use tf.compat.v1.get_variable instead.\n",
            "\n",
            "WARNING:tensorflow:From /mnt/batch/tasks/shared/LS_root/mounts/clusters/cpu-core8-ram32/code/Users/rmhavij/ts_gen/model/G2C.py:107: The name tf.add_check_numerics_ops is deprecated. Please use tf.compat.v1.add_check_numerics_ops instead.\n",
            "\n",
            "WARNING:tensorflow:From /mnt/batch/tasks/shared/LS_root/mounts/clusters/cpu-core8-ram32/code/Users/rmhavij/ts_gen/model/G2C.py:158: to_float (from tensorflow.python.ops.math_ops) is deprecated and will be removed in a future version.\n",
            "Instructions for updating:\n",
            "Use `tf.cast` instead.\n",
            "WARNING:tensorflow:From /mnt/batch/tasks/shared/LS_root/mounts/clusters/cpu-core8-ram32/code/Users/rmhavij/ts_gen/model/G2C.py:160: calling reduce_sum_v1 (from tensorflow.python.ops.math_ops) with keep_dims is deprecated and will be removed in a future version.\n",
            "Instructions for updating:\n",
            "keep_dims is deprecated, use keepdims instead\n",
            "WARNING:tensorflow:From /mnt/batch/tasks/shared/LS_root/mounts/clusters/cpu-core8-ram32/code/Users/rmhavij/ts_gen/model/G2C.py:190: The name tf.random_normal is deprecated. Please use tf.random.normal instead.\n",
            "\n",
            "WARNING:tensorflow:From /mnt/batch/tasks/shared/LS_root/mounts/clusters/cpu-core8-ram32/code/Users/rmhavij/ts_gen/model/G2C.py:263: The name tf.debugging.is_finite is deprecated. Please use tf.math.is_finite instead.\n",
            "\n",
            "WARNING:tensorflow:From /mnt/batch/tasks/shared/LS_root/mounts/clusters/cpu-core8-ram32/code/Users/rmhavij/ts_gen/model/G2C.py:267: Print (from tensorflow.python.ops.logging_ops) is deprecated and will be removed after 2018-08-20.\n",
            "Instructions for updating:\n",
            "Use tf.print instead of tf.Print. Note that tf.print returns a no-output operator that directly prints the output. Outside of defuns or eager mode, this operator will not be executed unless it is directly specified in session.run or used as a control dependency for other operators. This is only a concern in graph mode. Below is an example of how to ensure tf.print executes in graph mode:\n",
            "```python\n",
            "    sess = tf.compat.v1.Session()\n",
            "    with sess.as_default():\n",
            "        tensor = tf.range(10)\n",
            "        print_op = tf.print(tensor)\n",
            "        with tf.control_dependencies([print_op]):\n",
            "          out = tf.add(tensor, tensor)\n",
            "        sess.run(out)\n",
            "    ```\n",
            "Additionally, to use tf.print in python 2.7, users must make sure to import\n",
            "the following:\n",
            "\n",
            "  `from __future__ import print_function`\n",
            "\n",
            "WARNING:tensorflow:From /mnt/batch/tasks/shared/LS_root/mounts/clusters/cpu-core8-ram32/code/Users/rmhavij/ts_gen/model/G2C.py:125: The name tf.summary.scalar is deprecated. Please use tf.compat.v1.summary.scalar instead.\n",
            "\n",
            "WARNING:tensorflow:From /mnt/batch/tasks/shared/LS_root/mounts/clusters/cpu-core8-ram32/code/Users/rmhavij/ts_gen/model/G2C.py:133: The name tf.summary.histogram is deprecated. Please use tf.compat.v1.summary.histogram instead.\n",
            "\n",
            "WARNING:tensorflow:From /mnt/batch/tasks/shared/LS_root/mounts/clusters/cpu-core8-ram32/code/Users/rmhavij/ts_gen/model/G2C.py:143: The name tf.train.AdamOptimizer is deprecated. Please use tf.compat.v1.train.AdamOptimizer instead.\n",
            "\n",
            "WARNING:tensorflow:From /anaconda/envs/tsir-rdkit-env/lib/python3.6/site-packages/tensorflow/python/ops/math_grad.py:1205: add_dispatch_support.<locals>.wrapper (from tensorflow.python.ops.array_ops) is deprecated and will be removed in a future version.\n",
            "Instructions for updating:\n",
            "Use tf.where in 2.0, which has the same broadcast rule as np.where\n"
          ]
        }
      ],
      "execution_count": 5,
      "metadata": {
        "tags": [
          "outputPrepend"
        ],
        "gather": {
          "logged": 1621721325485
        },
        "jupyter": {
          "outputs_hidden": true
        }
      }
    },
    {
      "cell_type": "markdown",
      "source": [
        "Load the trained model and predict transition state geometries!"
      ],
      "metadata": {}
    },
    {
      "cell_type": "code",
      "source": [
        "# Launch session\n",
        "config = tf.ConfigProto(\n",
        "    allow_soft_placement=True,\n",
        "    log_device_placement=False\n",
        ")\n",
        "\n",
        "saved_d = []\n",
        "with tf.Session(config=config) as sess:\n",
        "    \n",
        "    # Initialization\n",
        "    print(\"Model loading...\")\n",
        "    saver = tf.train.Saver()\n",
        "    saver.restore(sess, model_path) # restore best model\n",
        "    print(\"Model restored\")\n",
        "    \n",
        "    # Generator for test data\n",
        "    get_test_data = sample_batch()\n",
        "\n",
        "    X = np.empty([len(test_data), MAX_SIZE, 3])\n",
        "\n",
        "    new_D_init = np.empty([len(test_data), MAX_SIZE, MAX_SIZE])\n",
        "    new_D_init = np.empty([len(test_data), MAX_SIZE, MAX_SIZE])\n",
        "    #new_W = sess.run(saverW)\n",
        "    # print(model.tensors['D_init'])\n",
        "    #print(new_W)\n",
        "    \n",
        "    for step, data in enumerate(get_test_data):\n",
        "        \n",
        "        batch_dict_test, batch_mols_test = data\n",
        "        feed_dict = {model.placeholders[key]: batch_dict_test[key] for key in batch_dict_test}\n",
        "        X[step*BATCH_SIZE:(step+1)*BATCH_SIZE, :, :] = sess.run([model.tensors[\"X\"]], feed_dict=feed_dict)[0]\n",
        "        new_D_init[step*BATCH_SIZE:(step+1)*BATCH_SIZE, :, :] = sess.run([model.tensors[\"D_init\"]], feed_dict=feed_dict)[0]\n",
        "        # print(sess.run([model.tensors[\"D_init\"]], feed_dict=feed_dict))\n",
        "\n",
        "    #print(sess.run(model.tensors['D_init']))            \n",
        "    #sess.run(W)\n",
        "    #saved_d.append(model.tensors['D_init'])\n",
        "    #saved_d.append(X)\n",
        "\n",
        "    \n",
        "    "
      ],
      "outputs": [
        {
          "output_type": "stream",
          "name": "stdout",
          "text": [
            "Model loading...\n",
            "WARNING:tensorflow:From /anaconda/envs/tsir-rdkit-env/lib/python3.6/site-packages/tensorflow/python/training/saver.py:1276: checkpoint_exists (from tensorflow.python.training.checkpoint_management) is deprecated and will be removed in a future version.\n",
            "Instructions for updating:\n",
            "Use standard file APIs to check for files with this prefix.\n",
            "INFO:tensorflow:Restoring parameters from log/2layers_256hs_3its/best_model.ckpt\n",
            "Model restored\n"
          ]
        }
      ],
      "execution_count": 6,
      "metadata": {
        "tags": [],
        "gather": {
          "logged": 1621721390906
        }
      }
    },
    {
      "cell_type": "code",
      "source": [
        "np.save('new_D_init.npy', new_D_init)\r\n",
        "# model.__dict__\r\n",
        "# model.tensors\r\n",
        "# D_init = np.load('D_init.npy')\r\n",
        "# masked_raw_weights = np.load('masked_raw_weights.npy')\r\n",
        "# atom_importance_weights = np.load('atom_importance_weights.npy')\r\n",
        "\r\n",
        "# what = new_saver.restore(sess, 'log/2layers_256hs_3its/last_model.ckpt')\r\n",
        "# all_vars = tf.get_collection(tf.GraphKeys.GLOBAL_VARIABLES)\r\n",
        "\r\n",
        "# tf.train.list_variables('log/2layers_256hs_3its/best_model.ckpt')"
      ],
      "outputs": [],
      "execution_count": 16,
      "metadata": {}
    },
    {
      "cell_type": "code",
      "source": [
        "from tensorflow.python.tools.inspect_checkpoint import print_tensors_in_checkpoint_file\n",
        "import tensorflow as tf\n",
        "\n",
        "# best_ckpt = tf.train.latest_checkpoint('log/2layers_256hs_3its/best_model.ckpt')\n",
        "best_ckpt = tf.train.latest_checkpoint('log/2layers_256hs_3its/best_model.ckpt')\n",
        "print_tensors_in_checkpoint_file(best_ckpt, all_tensors=True, tensor_name='')"
      ],
      "outputs": [
        {
          "output_type": "stream",
          "name": "stdout",
          "text": [
            "Expected binary or unicode string, got None\n"
          ]
        }
      ],
      "execution_count": 11,
      "metadata": {
        "gather": {
          "logged": 1621722036816
        }
      }
    },
    {
      "cell_type": "markdown",
      "source": [
        "Convert geometries into rdkit mol objects and save the geometries as an sdf"
      ],
      "metadata": {}
    },
    {
      "cell_type": "code",
      "source": [
        "ts_mols = []\n",
        "for bx in range(X.shape[0]):\n",
        "    \n",
        "    # Make copy of reactant\n",
        "    mol_target = test_data[bx][0]\n",
        "    mol = Chem.Mol(mol_target)\n",
        "\n",
        "    for i in range(mol.GetNumAtoms()):\n",
        "        x = X[bx, i, :].tolist()\n",
        "        mol.GetConformer().SetAtomPosition(\n",
        "            i, Geometry.Point3D(x[0], x[1], x[2])\n",
        "        )\n",
        "    ts_mols.append(mol)\n",
        "\n",
        "\n",
        "model_ts_file = 'data/model_ts.sdf'\n",
        "ts_writer = Chem.SDWriter(model_ts_file)\n",
        "for i in range(len(ts_mols)):\n",
        "    ts_writer.write(ts_mols[i])"
      ],
      "outputs": [],
      "execution_count": 7,
      "metadata": {
        "gather": {
          "logged": 1621721484569
        }
      }
    },
    {
      "cell_type": "markdown",
      "source": [
        "Visualize the results. Change n to see different combinations of reactants, transition states, and products. Note that, for the TS, rdkit will add bonds based on the reactant. We'll clean this to only include common bonds between reactants and products"
      ],
      "metadata": {}
    },
    {
      "cell_type": "code",
      "source": [
        "def clean_ts(mols):\n",
        "    \n",
        "    r_mol, ts_mol, p_mol = mols\n",
        "    r_bonds = [(bond.GetBeginAtomIdx(), bond.GetEndAtomIdx()) for bond in r_mol.GetBonds()]\n",
        "    r_bonds = [tuple(sorted(b)) for b in r_bonds]\n",
        "    p_bonds = [(bond.GetBeginAtomIdx(), bond.GetEndAtomIdx()) for bond in p_mol.GetBonds()]\n",
        "    p_bonds = [tuple(sorted(b)) for b in p_bonds]\n",
        "    common_bonds = list(set(r_bonds) & set(p_bonds))\n",
        "    \n",
        "    emol = Chem.EditableMol(ts_mol)\n",
        "    for bond in ts_mol.GetBonds():\n",
        "        bond_idxs = tuple(sorted((bond.GetBeginAtomIdx(), bond.GetEndAtomIdx())))\n",
        "        if bond_idxs not in common_bonds:\n",
        "            emol.RemoveBond(bond_idxs[0], bond_idxs[1])\n",
        "            emol.AddBond(bond_idxs[0], bond_idxs[1])\n",
        "    return r_mol, emol.GetMol(), p_mol\n",
        "\n",
        "\n",
        "def show_mol(mol, view, grid):\n",
        "    mb = Chem.MolToMolBlock(mol)\n",
        "    view.removeAllModels(viewer=grid)\n",
        "    view.addModel(mb,'sdf', viewer=grid)\n",
        "    view.setStyle({'model':0},{'stick': {}}, viewer=grid)\n",
        "    view.zoomTo(viewer=grid)\n",
        "    return view"
      ],
      "outputs": [],
      "execution_count": 8,
      "metadata": {
        "gather": {
          "logged": 1621721487190
        }
      }
    },
    {
      "cell_type": "code",
      "source": [
        "n=1\n",
        "mols = [test_data[n][0], ts_mols[n], test_data[n][1]]\n",
        "view_mols = clean_ts(mols)\n",
        "\n",
        "view = py3Dmol.view(width=960, height=500, linked=False, viewergrid=(1,3))\n",
        "for i in range(3):\n",
        "    show_mol(view_mols[i], view, grid=(0, i))\n",
        "view.render()"
      ],
      "outputs": [
        {
          "output_type": "display_data",
          "data": {
            "application/3dmoljs_load.v0": "<div id=\"3dmolviewer_16217214881190689\"  style=\"position: relative; width: 960px; height: 500px\">\n        <p id=\"3dmolwarning_16217214881190689\" style=\"background-color:#ffcccc;color:black\">You appear to be running in JupyterLab (or JavaScript failed to load for some other reason).  You need to install the 3dmol extension: <br>\n        <tt>jupyter labextension install jupyterlab_3dmol</tt></p>\n        </div>\n<script>\n\nvar loadScriptAsync = function(uri){\n  return new Promise((resolve, reject) => {\n    var tag = document.createElement('script');\n    tag.src = uri;\n    tag.async = true;\n    tag.onload = () => {\n      resolve();\n    };\n  var firstScriptTag = document.getElementsByTagName('script')[0];\n  firstScriptTag.parentNode.insertBefore(tag, firstScriptTag);\n});\n};\n\nif(typeof $3Dmolpromise === 'undefined') {\n$3Dmolpromise = null;\n  $3Dmolpromise = loadScriptAsync('https://3dmol.org/build/3Dmol.js');\n}\n\nvar viewer_16217214881190689 = null;\nvar warn = document.getElementById(\"3dmolwarning_16217214881190689\");\nif(warn) {\n    warn.parentNode.removeChild(warn);\n}\n$3Dmolpromise.then(function() {\nvar viewergrid_16217214881190689 = null;\nviewergrid_16217214881190689 = $3Dmol.createViewerGrid($(\"#3dmolviewer_16217214881190689\"),{rows: 1, cols: 3, control_all: false},{backgroundColor:\"white\"});\nviewer_16217214881190689 = viewergrid_16217214881190689[0][0];\nviewergrid_16217214881190689[0][0].zoomTo();viewergrid_16217214881190689[0][1].zoomTo();viewergrid_16217214881190689[0][2].zoomTo();\tviewergrid_16217214881190689[0][0].removeAllModels();\n\tviewergrid_16217214881190689[0][0].addModel(\"[C:1]([O:2][C:3]([C:4](=[O:5])[H:11])([H:9])[H:10])([H:6])([H:7])[H:8]\\n     RDKit          3D\\n\\n 11 10  0  0  0  0  0  0  0  0999 V2000\\n   -1.3284    0.7074    0.2890 C   0  0  0  0  0  0  0  0  0  0  0  0\\n   -0.9007   -0.4391   -0.4086 O   0  0  0  0  0  0  0  0  0  0  0  0\\n    0.3528   -0.8952    0.0115 C   0  0  0  0  0  0  0  0  0  0  0  0\\n    1.4927   -0.0534   -0.5283 C   0  0  0  0  0  0  0  0  0  0  0  0\\n    2.6074   -0.0833   -0.0898 O   0  0  0  0  0  0  0  0  0  0  0  0\\n   -1.4378    0.5000    1.3607 H   0  0  0  0  0  0  0  0  0  0  0  0\\n   -0.6317    1.5467    0.1666 H   0  0  0  0  0  0  0  0  0  0  0  0\\n   -2.2956    0.9940   -0.1198 H   0  0  0  0  0  0  0  0  0  0  0  0\\n    0.4822   -1.9058   -0.3877 H   0  0  0  0  0  0  0  0  0  0  0  0\\n    0.4361   -0.9551    1.1046 H   0  0  0  0  0  0  0  0  0  0  0  0\\n    1.2231    0.5837   -1.3982 H   0  0  0  0  0  0  0  0  0  0  0  0\\n  1  6  1  0\\n  2  3  1  0\\n  2  1  1  0\\n  3 10  1  0\\n  4  5  2  0\\n  4  3  1  0\\n  7  1  1  0\\n  8  1  1  0\\n  9  3  1  0\\n 11  4  1  0\\nM  END\\n\",\"sdf\");\n\tviewergrid_16217214881190689[0][0].setStyle({\"model\": 0},{\"stick\": {}});\n\tviewergrid_16217214881190689[0][0].zoomTo();\n\tviewergrid_16217214881190689[0][1].removeAllModels();\n\tviewergrid_16217214881190689[0][1].addModel(\"[C:1]([O:2][C:3]([C:4](=[O:5])[H:11])([H:9])[H:10])([H:6])([H:7])[H:8]\\n     RDKit          3D\\n\\n 11 10  0  0  0  0  0  0  0  0999 V2000\\n   -0.7080    0.9179    0.3417 C   0  0  0  0  0  0  0  0  0  0  0  0\\n   -1.1116   -0.6777   -0.1997 O   0  0  0  0  0  0  0  0  0  0  0  0\\n    0.2413   -1.0502   -0.0054 C   0  0  0  0  0  0  0  0  0  0  0  0\\n    0.9516    0.3311   -0.2160 C   0  0  0  0  0  0  0  0  0  0  0  0\\n    2.0627    0.5680    0.3642 O   0  0  0  0  0  0  0  0  0  0  0  0\\n   -0.8047    0.7719    1.4172 H   0  0  0  0  0  0  0  0  0  0  0  0\\n   -1.3097    0.0625   -0.6458 H   0  0  0  0  0  0  0  0  0  0  0  0\\n   -1.2207    1.7278   -0.0308 H   0  0  0  0  0  0  0  0  0  0  0  0\\n    0.5273   -1.8569   -0.7083 H   0  0  0  0  0  0  0  0  0  0  0  0\\n    0.3798   -1.3764    1.0349 H   0  0  0  0  0  0  0  0  0  0  0  0\\n    0.9920    0.5821   -1.3520 H   0  0  0  0  0  0  0  0  0  0  0  0\\n  1  6  1  0\\n  2  3  1  0\\n  3 10  1  0\\n  4  5  2  0\\n  4  3  1  0\\n  8  1  1  0\\n  9  3  1  0\\n 11  4  1  0\\n  1  2  0  0\\n  1  7  0  0\\nM  END\\n\",\"sdf\");\n\tviewergrid_16217214881190689[0][1].setStyle({\"model\": 0},{\"stick\": {}});\n\tviewergrid_16217214881190689[0][1].zoomTo();\n\tviewergrid_16217214881190689[0][2].removeAllModels();\n\tviewergrid_16217214881190689[0][2].addModel(\"[C+:1]([C@:4]([C:3]([O:2][H:7])([H:9])[H:10])([O-:5])[H:11])([H:6])[H:8]\\n     RDKit          3D\\n\\n 11 10  0  0  1  0  0  0  0  0999 V2000\\n   -0.6059    0.7528    0.3789 C   0  0  0  0  0  3  0  0  0  0  0  0\\n   -1.0821   -0.5691   -0.2495 O   0  0  0  0  0  0  0  0  0  0  0  0\\n    0.3733   -1.0663   -0.1912 C   0  0  0  0  0  0  0  0  0  0  0  0\\n    0.9039    0.4200    0.0062 C   0  0  2  0  0  0  0  0  0  0  0  0\\n    1.8239    0.6494    0.8561 O   0  0  0  0  0  1  0  0  0  0  0  0\\n   -0.8044    0.6368    1.4419 H   0  0  0  0  0  0  0  0  0  0  0  0\\n   -1.3151   -0.4054   -1.1713 H   0  0  0  0  0  0  0  0  0  0  0  0\\n   -1.1576    1.5791   -0.0683 H   0  0  0  0  0  0  0  0  0  0  0  0\\n    0.5838   -1.6582   -1.0815 H   0  0  0  0  0  0  0  0  0  0  0  0\\n    0.4257   -1.6489    0.7257 H   0  0  0  0  0  0  0  0  0  0  0  0\\n    1.0368    0.8210   -1.0435 H   0  0  0  0  0  0  0  0  0  0  0  0\\n  1  6  1  0\\n  2  3  1  0\\n  3  4  1  0\\n  3 10  1  0\\n  4 11  1  6\\n  4  1  1  0\\n  4  5  1  0\\n  7  2  1  0\\n  8  1  1  0\\n  9  3  1  0\\nM  RAD  2   1   2   5   2\\nM  END\\n\",\"sdf\");\n\tviewergrid_16217214881190689[0][2].setStyle({\"model\": 0},{\"stick\": {}});\n\tviewergrid_16217214881190689[0][2].zoomTo();\n\tviewergrid_16217214881190689[0][0].render();\n\tviewergrid_16217214881190689[0][1].render();\n\tviewergrid_16217214881190689[0][2].render();\nviewergrid_16217214881190689[0][2].render();\nviewergrid_16217214881190689[0][1].render();\nviewergrid_16217214881190689[0][0].render();\n});\n</script>",
            "text/html": "<div id=\"3dmolviewer_16217214881190689\"  style=\"position: relative; width: 960px; height: 500px\">\n        <p id=\"3dmolwarning_16217214881190689\" style=\"background-color:#ffcccc;color:black\">You appear to be running in JupyterLab (or JavaScript failed to load for some other reason).  You need to install the 3dmol extension: <br>\n        <tt>jupyter labextension install jupyterlab_3dmol</tt></p>\n        </div>\n<script>\n\nvar loadScriptAsync = function(uri){\n  return new Promise((resolve, reject) => {\n    var tag = document.createElement('script');\n    tag.src = uri;\n    tag.async = true;\n    tag.onload = () => {\n      resolve();\n    };\n  var firstScriptTag = document.getElementsByTagName('script')[0];\n  firstScriptTag.parentNode.insertBefore(tag, firstScriptTag);\n});\n};\n\nif(typeof $3Dmolpromise === 'undefined') {\n$3Dmolpromise = null;\n  $3Dmolpromise = loadScriptAsync('https://3dmol.org/build/3Dmol.js');\n}\n\nvar viewer_16217214881190689 = null;\nvar warn = document.getElementById(\"3dmolwarning_16217214881190689\");\nif(warn) {\n    warn.parentNode.removeChild(warn);\n}\n$3Dmolpromise.then(function() {\nvar viewergrid_16217214881190689 = null;\nviewergrid_16217214881190689 = $3Dmol.createViewerGrid($(\"#3dmolviewer_16217214881190689\"),{rows: 1, cols: 3, control_all: false},{backgroundColor:\"white\"});\nviewer_16217214881190689 = viewergrid_16217214881190689[0][0];\nviewergrid_16217214881190689[0][0].zoomTo();viewergrid_16217214881190689[0][1].zoomTo();viewergrid_16217214881190689[0][2].zoomTo();\tviewergrid_16217214881190689[0][0].removeAllModels();\n\tviewergrid_16217214881190689[0][0].addModel(\"[C:1]([O:2][C:3]([C:4](=[O:5])[H:11])([H:9])[H:10])([H:6])([H:7])[H:8]\\n     RDKit          3D\\n\\n 11 10  0  0  0  0  0  0  0  0999 V2000\\n   -1.3284    0.7074    0.2890 C   0  0  0  0  0  0  0  0  0  0  0  0\\n   -0.9007   -0.4391   -0.4086 O   0  0  0  0  0  0  0  0  0  0  0  0\\n    0.3528   -0.8952    0.0115 C   0  0  0  0  0  0  0  0  0  0  0  0\\n    1.4927   -0.0534   -0.5283 C   0  0  0  0  0  0  0  0  0  0  0  0\\n    2.6074   -0.0833   -0.0898 O   0  0  0  0  0  0  0  0  0  0  0  0\\n   -1.4378    0.5000    1.3607 H   0  0  0  0  0  0  0  0  0  0  0  0\\n   -0.6317    1.5467    0.1666 H   0  0  0  0  0  0  0  0  0  0  0  0\\n   -2.2956    0.9940   -0.1198 H   0  0  0  0  0  0  0  0  0  0  0  0\\n    0.4822   -1.9058   -0.3877 H   0  0  0  0  0  0  0  0  0  0  0  0\\n    0.4361   -0.9551    1.1046 H   0  0  0  0  0  0  0  0  0  0  0  0\\n    1.2231    0.5837   -1.3982 H   0  0  0  0  0  0  0  0  0  0  0  0\\n  1  6  1  0\\n  2  3  1  0\\n  2  1  1  0\\n  3 10  1  0\\n  4  5  2  0\\n  4  3  1  0\\n  7  1  1  0\\n  8  1  1  0\\n  9  3  1  0\\n 11  4  1  0\\nM  END\\n\",\"sdf\");\n\tviewergrid_16217214881190689[0][0].setStyle({\"model\": 0},{\"stick\": {}});\n\tviewergrid_16217214881190689[0][0].zoomTo();\n\tviewergrid_16217214881190689[0][1].removeAllModels();\n\tviewergrid_16217214881190689[0][1].addModel(\"[C:1]([O:2][C:3]([C:4](=[O:5])[H:11])([H:9])[H:10])([H:6])([H:7])[H:8]\\n     RDKit          3D\\n\\n 11 10  0  0  0  0  0  0  0  0999 V2000\\n   -0.7080    0.9179    0.3417 C   0  0  0  0  0  0  0  0  0  0  0  0\\n   -1.1116   -0.6777   -0.1997 O   0  0  0  0  0  0  0  0  0  0  0  0\\n    0.2413   -1.0502   -0.0054 C   0  0  0  0  0  0  0  0  0  0  0  0\\n    0.9516    0.3311   -0.2160 C   0  0  0  0  0  0  0  0  0  0  0  0\\n    2.0627    0.5680    0.3642 O   0  0  0  0  0  0  0  0  0  0  0  0\\n   -0.8047    0.7719    1.4172 H   0  0  0  0  0  0  0  0  0  0  0  0\\n   -1.3097    0.0625   -0.6458 H   0  0  0  0  0  0  0  0  0  0  0  0\\n   -1.2207    1.7278   -0.0308 H   0  0  0  0  0  0  0  0  0  0  0  0\\n    0.5273   -1.8569   -0.7083 H   0  0  0  0  0  0  0  0  0  0  0  0\\n    0.3798   -1.3764    1.0349 H   0  0  0  0  0  0  0  0  0  0  0  0\\n    0.9920    0.5821   -1.3520 H   0  0  0  0  0  0  0  0  0  0  0  0\\n  1  6  1  0\\n  2  3  1  0\\n  3 10  1  0\\n  4  5  2  0\\n  4  3  1  0\\n  8  1  1  0\\n  9  3  1  0\\n 11  4  1  0\\n  1  2  0  0\\n  1  7  0  0\\nM  END\\n\",\"sdf\");\n\tviewergrid_16217214881190689[0][1].setStyle({\"model\": 0},{\"stick\": {}});\n\tviewergrid_16217214881190689[0][1].zoomTo();\n\tviewergrid_16217214881190689[0][2].removeAllModels();\n\tviewergrid_16217214881190689[0][2].addModel(\"[C+:1]([C@:4]([C:3]([O:2][H:7])([H:9])[H:10])([O-:5])[H:11])([H:6])[H:8]\\n     RDKit          3D\\n\\n 11 10  0  0  1  0  0  0  0  0999 V2000\\n   -0.6059    0.7528    0.3789 C   0  0  0  0  0  3  0  0  0  0  0  0\\n   -1.0821   -0.5691   -0.2495 O   0  0  0  0  0  0  0  0  0  0  0  0\\n    0.3733   -1.0663   -0.1912 C   0  0  0  0  0  0  0  0  0  0  0  0\\n    0.9039    0.4200    0.0062 C   0  0  2  0  0  0  0  0  0  0  0  0\\n    1.8239    0.6494    0.8561 O   0  0  0  0  0  1  0  0  0  0  0  0\\n   -0.8044    0.6368    1.4419 H   0  0  0  0  0  0  0  0  0  0  0  0\\n   -1.3151   -0.4054   -1.1713 H   0  0  0  0  0  0  0  0  0  0  0  0\\n   -1.1576    1.5791   -0.0683 H   0  0  0  0  0  0  0  0  0  0  0  0\\n    0.5838   -1.6582   -1.0815 H   0  0  0  0  0  0  0  0  0  0  0  0\\n    0.4257   -1.6489    0.7257 H   0  0  0  0  0  0  0  0  0  0  0  0\\n    1.0368    0.8210   -1.0435 H   0  0  0  0  0  0  0  0  0  0  0  0\\n  1  6  1  0\\n  2  3  1  0\\n  3  4  1  0\\n  3 10  1  0\\n  4 11  1  6\\n  4  1  1  0\\n  4  5  1  0\\n  7  2  1  0\\n  8  1  1  0\\n  9  3  1  0\\nM  RAD  2   1   2   5   2\\nM  END\\n\",\"sdf\");\n\tviewergrid_16217214881190689[0][2].setStyle({\"model\": 0},{\"stick\": {}});\n\tviewergrid_16217214881190689[0][2].zoomTo();\n\tviewergrid_16217214881190689[0][0].render();\n\tviewergrid_16217214881190689[0][1].render();\n\tviewergrid_16217214881190689[0][2].render();\nviewergrid_16217214881190689[0][2].render();\nviewergrid_16217214881190689[0][1].render();\nviewergrid_16217214881190689[0][0].render();\n});\n</script>"
          },
          "metadata": {}
        },
        {
          "output_type": "execute_result",
          "execution_count": 9,
          "data": {
            "text/plain": "<py3Dmol.view at 0x7f71835bd0f0>"
          },
          "metadata": {}
        }
      ],
      "execution_count": 9,
      "metadata": {
        "gather": {
          "logged": 1621721488298
        }
      }
    },
    {
      "cell_type": "code",
      "source": [
        "# ran: pip3 install iodata\n",
        "from iodata import load_one\n",
        "# nature data: gaussian log files (.log) and .qchemlog files not working\n",
        "# von rudorff data: working for .xyz -> need to figure out data to use\n",
        "\n",
        "mol = load_one('00.xyz')\n",
        "mol"
      ],
      "outputs": [],
      "execution_count": 13,
      "metadata": {}
    }
  ],
  "metadata": {
    "kernelspec": {
      "name": "tsir-rdkit-env",
      "language": "python",
      "display_name": "Python (tsir-rdkit-env)"
    },
    "language_info": {
      "name": "python",
      "version": "3.6.12",
      "mimetype": "text/x-python",
      "codemirror_mode": {
        "name": "ipython",
        "version": 3
      },
      "pygments_lexer": "ipython3",
      "nbconvert_exporter": "python",
      "file_extension": ".py"
    },
    "kernel_info": {
      "name": "tsir-rdkit-env"
    },
    "nteract": {
      "version": "nteract-front-end@1.0.0"
    },
    "microsoft": {
      "host": {
        "AzureML": {
          "notebookHasBeenCompleted": true
        }
      }
    }
  },
  "nbformat": 4,
  "nbformat_minor": 2
}