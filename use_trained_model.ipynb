{
 "cells": [
  {
   "cell_type": "markdown",
   "metadata": {},
   "source": [
    "### This notebook walks you through how to use the pretrained model to generate your own transition state guesses. If using your own model and data, replace the model and data paths with your own"
   ]
  },
  {
   "cell_type": "markdown",
   "metadata": {},
   "source": [
    "Import the necessary packages"
   ]
  },
  {
   "cell_type": "code",
   "execution_count": 1,
   "metadata": {},
   "outputs": [],
   "source": [
    "from rdkit import Chem, Geometry\n",
    "from rdkit.Chem.Draw import IPythonConsole \n",
    "\n",
    "import tensorflow as tf\n",
    "from model.G2C import G2C\n",
    "\n",
    "import numpy as np\n",
    "import py3Dmol"
   ]
  },
  {
   "cell_type": "markdown",
   "metadata": {},
   "source": [
    "Read in the test data with rdkit. You can optionally change this to use your own file type (instead of sdf), as long as rdkit can read in the data without sanitization or hydrogen removal. Note that the reactants and prodcuts defined in the sdf **MUST** preserve atom ordering between them! Define the saved model path"
   ]
  },
  {
   "cell_type": "code",
   "execution_count": 2,
   "metadata": {},
   "outputs": [],
   "source": [
    "model_path = 'log/2layers_256hs_3its/best_model.ckpt' # saves model path here\n",
    "reactant_file = 'data/test_reactants.sdf'\n",
    "product_file = 'data/test_products.sdf'\n",
    "\n",
    "# ForwardSDMolSupplier(): class which supplies molecules from file-like object containing SD data.\n",
    "# should this say training data?\n",
    "test_data = [Chem.ForwardSDMolSupplier(reactant_file, removeHs=False, sanitize=False),\n",
    "             Chem.ForwardSDMolSupplier(product_file, removeHs=False, sanitize=False)]\n",
    "# only keeps if not null\n",
    "test_data = [(x,y) for (x,y) in zip(test_data[0], test_data[1]) if (x,y)]\n",
    "# length of this is 842... that doesn't seem like enough... OR does that make it better for mech ml model?"
   ]
  },
  {
   "cell_type": "markdown",
   "metadata": {},
   "source": [
    "Batch preparation code. You can use larger batch sizes if you have many predictions to speed up the predictions"
   ]
  },
  {
   "cell_type": "code",
   "execution_count": 45,
   "metadata": {},
   "outputs": [],
   "source": [
    "# MAX_SIZE = number of atoms in reactan with most atoms\n",
    "# batch_mols = test_data[i*BATCH_SIZE:(i+1)*BATCH_SIZE]  -> just batch size or however many left at end\n",
    "# size = len(batch_mols) i.e. number of batch molecules\n",
    "l = np.zeros((2, 3, 4, 5), dtype=np.float32)\n",
    "# l\n"
   ]
  },
  {
   "cell_type": "code",
   "execution_count": 68,
   "metadata": {},
   "outputs": [
    {
     "output_type": "execute_result",
     "data": {
      "text/plain": [
       "array([[0.        , 1.3882315 , 3.37111117, 2.34236455, 0.96008936,\n",
       "        1.99958153, 2.07200069],\n",
       "       [1.3882315 , 0.        , 2.59454287, 1.43036193, 1.93241467,\n",
       "        1.08890574, 1.09403777],\n",
       "       [3.37111117, 2.59454287, 0.        , 1.16433929, 3.45798617,\n",
       "        3.12040588, 3.09731497],\n",
       "       [2.34236455, 1.43036193, 1.16433929, 0.        , 2.57892189,\n",
       "        2.0507736 , 2.04214173],\n",
       "       [0.96008936, 1.93241467, 3.45798617, 2.57892189, 0.        ,\n",
       "        2.80878537, 2.31047048],\n",
       "       [1.99958153, 1.08890574, 3.12040588, 2.0507736 , 2.80878537,\n",
       "        0.        , 1.77949504],\n",
       "       [2.07200069, 1.09403777, 3.09731497, 2.04214173, 2.31047048,\n",
       "        1.77949504, 0.        ]])"
      ]
     },
     "metadata": {},
     "execution_count": 68
    }
   ],
   "source": [
    "Chem.Get3DDistanceMatrix(test_data[0][1])"
   ]
  },
  {
   "cell_type": "code",
   "execution_count": 43,
   "metadata": {},
   "outputs": [],
   "source": [
    "BATCH_SIZE = 1\n",
    "MAX_SIZE = max([x.GetNumAtoms() for x,y in test_data]) # number of atoms in reactant with most atoms \n",
    "elements = \"HCNO\"\n",
    "num_elements = len(elements)\n",
    "\n",
    "def prepare_batch(batch_mols):\n",
    "\n",
    "    # Initialization\n",
    "    size = len(batch_mols) \n",
    "    V = np.zeros((size, MAX_SIZE, num_elements+1), dtype=np.float32) # vertices\n",
    "    E = np.zeros((size, MAX_SIZE, MAX_SIZE, 3), dtype=np.float32) # edges: [  [[(MAX_SIZE, 3)],  [(MAX_SIZE, 3)],  [(MAX_SIZE, 3)]], \n",
    "                                                                  #           [[(MAX_SIZE, 3)],  [(MAX_SIZE, 3)],  [(MAX_SIZE, 3)]]  ] size * max atoms * max atoms * 3\n",
    "                                                                  # leftmost number in tuple is outermost array\n",
    "                                                                  # 3 because 3d coords\n",
    "                                                                  # batch index * max atoms * max atoms * (x,y,z)\n",
    "                                                                  # i thought was (x,y,z) because 3 but diff operations later on.\n",
    "    sizes = np.zeros(size, dtype=np.int32) # populated later on, corresponds to each ts\n",
    "    coordinates = np.zeros((size, MAX_SIZE, 3), dtype=np.float32) # number of mols in batch * max number of atoms * 3 i.e. each mol can have max #atoms with (x,y,z)\n",
    "\n",
    "    # Build atom features\n",
    "    for bx in range(size): # iterate through batch? yes, bx is batch index\n",
    "        reactant, product = batch_mols[bx] \n",
    "        N_atoms = reactant.GetNumAtoms()\n",
    "        sizes[bx] = int(N_atoms)  # cast to int [can it not be an int?], but basically have each size value as int of number atoms corresponding to reactant\n",
    "\n",
    "        # file:///C:/Users/Avish/Downloads/Mihali%C4%871992_Article_TheDistanceMatrixInChemistry.pdf (distance matrix in chemistry, mihalic 1992 springer)\n",
    "        # Topological distances matrix i.e. graph theoretical matrix (2D)\n",
    "        # this is number of bonds between molecules e.g. molecule v1-v2-v3-v4 will have tdm[1][4]=3\n",
    "        # also symm matrix\n",
    "        MAX_D = 10. # i.e. don't have more than 10 bonds between molecules?\n",
    "        D = (Chem.GetDistanceMatrix(reactant) + Chem.GetDistanceMatrix(product)) / 2\n",
    "        D[D > MAX_D] = 10. # make 10 max value, should rewrite this later = MAX_D \n",
    "\n",
    "        D_3D_rbf = np.exp( -( (Chem.Get3DDistanceMatrix(reactant) + Chem.Get3DDistanceMatrix(product) ) / 2) )  # lP: squared. AV: [is it?]\n",
    "        # distance matrix between atoms aka topographic distance matrix aka geometric distance matrix\n",
    "        # rbf kernel has been used here [although here it is exp[-( (d_r+d_p)/2 )] think it should be exp[-( (d_r-d_p)^2/2 )]]? no it's not.\n",
    "        # he's just averaging the distances corresponding to the same atom pairs in reactant and product\n",
    "\n",
    "        for i in range(N_atoms):\n",
    "            # Edge features\n",
    "            for j in range(N_atoms):\n",
    "                E[bx, i, j, 2] = D_3D_rbf[i][j]\n",
    "                if D[i][j] == 1.:  # if stays bonded\n",
    "                    if reactant.GetBondBetweenAtoms(i, j).GetIsAromatic():\n",
    "                        E[bx, i, j, 0] = 1.\n",
    "                    E[bx, i, j, 1] = 1. # ? so the last 3 elements are (0/1, 1, exp(-dist))\n",
    "\n",
    "            # Recover coordinates\n",
    "            # for k, mol_typ in enumerate([reactant, ts, product]):\n",
    "            pos = reactant.GetConformer().GetAtomPosition(i)\n",
    "            np.asarray([pos.x, pos.y, pos.z])\n",
    "            coordinates[bx, i, :] = np.asarray([pos.x, pos.y, pos.z])\n",
    "\n",
    "            # Node features\n",
    "            atom = reactant.GetAtomWithIdx(i)\n",
    "            e_ix = elements.index(atom.GetSymbol())\n",
    "            V[bx, i, e_ix] = 1.\n",
    "            V[bx, i, num_elements] = atom.GetAtomicNum() / 10.\n",
    "\n",
    "    batch_dict = {\n",
    "        \"nodes\": V,\n",
    "        \"edges\": E,\n",
    "        \"sizes\": sizes,\n",
    "        \"coordinates\": coordinates\n",
    "    }\n",
    "    return batch_dict, batch_mols\n",
    "\n",
    "\n",
    "def sample_batch():\n",
    "    batches = (len(test_data) - 1) // BATCH_SIZE + 1 # number of batches = (842-1)//(1+1) = 420\n",
    "    for i in range(batches):\n",
    "        batch_mols = test_data[i*BATCH_SIZE:(i+1)*BATCH_SIZE]\n",
    "        yield prepare_batch(batch_mols)"
   ]
  },
  {
   "cell_type": "markdown",
   "metadata": {},
   "source": [
    "Initialize the model. The hyperparameters should match those of the previously trained model (pls ignore all the deprecation warnings :) )"
   ]
  },
  {
   "cell_type": "code",
   "execution_count": 5,
   "metadata": {
    "tags": [
     "outputPrepend"
    ]
   },
   "outputs": [
    {
     "output_type": "stream",
     "name": "stdout",
     "text": [
      "ensorflow:Entity <bound method Dense.call of <tensorflow.python.layers.core.Dense object at 0x000002458C12E780>> could not be transformed and will be executed as-is. Please report this to the AutgoGraph team. When filing the bug, set the verbosity to 10 (on Linux, `export AUTOGRAPH_VERBOSITY=10`) and attach the full output. Cause: converting <bound method Dense.call of <tensorflow.python.layers.core.Dense object at 0x000002458C12E780>>: AttributeError: module 'gast' has no attribute 'Index'\n",
      "WARNING: Entity <bound method Dense.call of <tensorflow.python.layers.core.Dense object at 0x000002458C12E780>> could not be transformed and will be executed as-is. Please report this to the AutgoGraph team. When filing the bug, set the verbosity to 10 (on Linux, `export AUTOGRAPH_VERBOSITY=10`) and attach the full output. Cause: converting <bound method Dense.call of <tensorflow.python.layers.core.Dense object at 0x000002458C12E780>>: AttributeError: module 'gast' has no attribute 'Index'\n",
      "WARNING:tensorflow:Entity <bound method Dense.call of <tensorflow.python.layers.core.Dense object at 0x000002458C52ECC0>> could not be transformed and will be executed as-is. Please report this to the AutgoGraph team. When filing the bug, set the verbosity to 10 (on Linux, `export AUTOGRAPH_VERBOSITY=10`) and attach the full output. Cause: converting <bound method Dense.call of <tensorflow.python.layers.core.Dense object at 0x000002458C52ECC0>>: AttributeError: module 'gast' has no attribute 'Index'\n",
      "WARNING: Entity <bound method Dense.call of <tensorflow.python.layers.core.Dense object at 0x000002458C52ECC0>> could not be transformed and will be executed as-is. Please report this to the AutgoGraph team. When filing the bug, set the verbosity to 10 (on Linux, `export AUTOGRAPH_VERBOSITY=10`) and attach the full output. Cause: converting <bound method Dense.call of <tensorflow.python.layers.core.Dense object at 0x000002458C52ECC0>>: AttributeError: module 'gast' has no attribute 'Index'\n",
      "WARNING:tensorflow:Entity <bound method Dense.call of <tensorflow.python.layers.core.Dense object at 0x000002458C52ECC0>> could not be transformed and will be executed as-is. Please report this to the AutgoGraph team. When filing the bug, set the verbosity to 10 (on Linux, `export AUTOGRAPH_VERBOSITY=10`) and attach the full output. Cause: converting <bound method Dense.call of <tensorflow.python.layers.core.Dense object at 0x000002458C52ECC0>>: AttributeError: module 'gast' has no attribute 'Index'\n",
      "WARNING: Entity <bound method Dense.call of <tensorflow.python.layers.core.Dense object at 0x000002458C52ECC0>> could not be transformed and will be executed as-is. Please report this to the AutgoGraph team. When filing the bug, set the verbosity to 10 (on Linux, `export AUTOGRAPH_VERBOSITY=10`) and attach the full output. Cause: converting <bound method Dense.call of <tensorflow.python.layers.core.Dense object at 0x000002458C52ECC0>>: AttributeError: module 'gast' has no attribute 'Index'\n",
      "WARNING:tensorflow:Entity <bound method Dense.call of <tensorflow.python.layers.core.Dense object at 0x000002458C52ECC0>> could not be transformed and will be executed as-is. Please report this to the AutgoGraph team. When filing the bug, set the verbosity to 10 (on Linux, `export AUTOGRAPH_VERBOSITY=10`) and attach the full output. Cause: converting <bound method Dense.call of <tensorflow.python.layers.core.Dense object at 0x000002458C52ECC0>>: AttributeError: module 'gast' has no attribute 'Index'\n",
      "WARNING: Entity <bound method Dense.call of <tensorflow.python.layers.core.Dense object at 0x000002458C52ECC0>> could not be transformed and will be executed as-is. Please report this to the AutgoGraph team. When filing the bug, set the verbosity to 10 (on Linux, `export AUTOGRAPH_VERBOSITY=10`) and attach the full output. Cause: converting <bound method Dense.call of <tensorflow.python.layers.core.Dense object at 0x000002458C52ECC0>>: AttributeError: module 'gast' has no attribute 'Index'\n",
      "WARNING:tensorflow:Entity <bound method Dense.call of <tensorflow.python.layers.core.Dense object at 0x000002458AD976D8>> could not be transformed and will be executed as-is. Please report this to the AutgoGraph team. When filing the bug, set the verbosity to 10 (on Linux, `export AUTOGRAPH_VERBOSITY=10`) and attach the full output. Cause: converting <bound method Dense.call of <tensorflow.python.layers.core.Dense object at 0x000002458AD976D8>>: AttributeError: module 'gast' has no attribute 'Index'\n",
      "WARNING: Entity <bound method Dense.call of <tensorflow.python.layers.core.Dense object at 0x000002458AD976D8>> could not be transformed and will be executed as-is. Please report this to the AutgoGraph team. When filing the bug, set the verbosity to 10 (on Linux, `export AUTOGRAPH_VERBOSITY=10`) and attach the full output. Cause: converting <bound method Dense.call of <tensorflow.python.layers.core.Dense object at 0x000002458AD976D8>>: AttributeError: module 'gast' has no attribute 'Index'\n",
      "WARNING:tensorflow:Entity <bound method Dense.call of <tensorflow.python.layers.core.Dense object at 0x000002458AD976D8>> could not be transformed and will be executed as-is. Please report this to the AutgoGraph team. When filing the bug, set the verbosity to 10 (on Linux, `export AUTOGRAPH_VERBOSITY=10`) and attach the full output. Cause: converting <bound method Dense.call of <tensorflow.python.layers.core.Dense object at 0x000002458AD976D8>>: AttributeError: module 'gast' has no attribute 'Index'\n",
      "WARNING: Entity <bound method Dense.call of <tensorflow.python.layers.core.Dense object at 0x000002458AD976D8>> could not be transformed and will be executed as-is. Please report this to the AutgoGraph team. When filing the bug, set the verbosity to 10 (on Linux, `export AUTOGRAPH_VERBOSITY=10`) and attach the full output. Cause: converting <bound method Dense.call of <tensorflow.python.layers.core.Dense object at 0x000002458AD976D8>>: AttributeError: module 'gast' has no attribute 'Index'\n",
      "WARNING:tensorflow:Entity <bound method Dense.call of <tensorflow.python.layers.core.Dense object at 0x000002458C4FA940>> could not be transformed and will be executed as-is. Please report this to the AutgoGraph team. When filing the bug, set the verbosity to 10 (on Linux, `export AUTOGRAPH_VERBOSITY=10`) and attach the full output. Cause: converting <bound method Dense.call of <tensorflow.python.layers.core.Dense object at 0x000002458C4FA940>>: AttributeError: module 'gast' has no attribute 'Index'\n",
      "WARNING: Entity <bound method Dense.call of <tensorflow.python.layers.core.Dense object at 0x000002458C4FA940>> could not be transformed and will be executed as-is. Please report this to the AutgoGraph team. When filing the bug, set the verbosity to 10 (on Linux, `export AUTOGRAPH_VERBOSITY=10`) and attach the full output. Cause: converting <bound method Dense.call of <tensorflow.python.layers.core.Dense object at 0x000002458C4FA940>>: AttributeError: module 'gast' has no attribute 'Index'\n",
      "WARNING:tensorflow:Entity <bound method Dense.call of <tensorflow.python.layers.core.Dense object at 0x000002458C493048>> could not be transformed and will be executed as-is. Please report this to the AutgoGraph team. When filing the bug, set the verbosity to 10 (on Linux, `export AUTOGRAPH_VERBOSITY=10`) and attach the full output. Cause: converting <bound method Dense.call of <tensorflow.python.layers.core.Dense object at 0x000002458C493048>>: AttributeError: module 'gast' has no attribute 'Index'\n",
      "WARNING: Entity <bound method Dense.call of <tensorflow.python.layers.core.Dense object at 0x000002458C493048>> could not be transformed and will be executed as-is. Please report this to the AutgoGraph team. When filing the bug, set the verbosity to 10 (on Linux, `export AUTOGRAPH_VERBOSITY=10`) and attach the full output. Cause: converting <bound method Dense.call of <tensorflow.python.layers.core.Dense object at 0x000002458C493048>>: AttributeError: module 'gast' has no attribute 'Index'\n",
      "WARNING:tensorflow:Entity <bound method Dense.call of <tensorflow.python.layers.core.Dense object at 0x000002458C493048>> could not be transformed and will be executed as-is. Please report this to the AutgoGraph team. When filing the bug, set the verbosity to 10 (on Linux, `export AUTOGRAPH_VERBOSITY=10`) and attach the full output. Cause: converting <bound method Dense.call of <tensorflow.python.layers.core.Dense object at 0x000002458C493048>>: AttributeError: module 'gast' has no attribute 'Index'\n",
      "WARNING: Entity <bound method Dense.call of <tensorflow.python.layers.core.Dense object at 0x000002458C493048>> could not be transformed and will be executed as-is. Please report this to the AutgoGraph team. When filing the bug, set the verbosity to 10 (on Linux, `export AUTOGRAPH_VERBOSITY=10`) and attach the full output. Cause: converting <bound method Dense.call of <tensorflow.python.layers.core.Dense object at 0x000002458C493048>>: AttributeError: module 'gast' has no attribute 'Index'\n",
      "WARNING:tensorflow:Entity <bound method Dense.call of <tensorflow.python.layers.core.Dense object at 0x000002458C7CCBE0>> could not be transformed and will be executed as-is. Please report this to the AutgoGraph team. When filing the bug, set the verbosity to 10 (on Linux, `export AUTOGRAPH_VERBOSITY=10`) and attach the full output. Cause: converting <bound method Dense.call of <tensorflow.python.layers.core.Dense object at 0x000002458C7CCBE0>>: AttributeError: module 'gast' has no attribute 'Index'\n",
      "WARNING: Entity <bound method Dense.call of <tensorflow.python.layers.core.Dense object at 0x000002458C7CCBE0>> could not be transformed and will be executed as-is. Please report this to the AutgoGraph team. When filing the bug, set the verbosity to 10 (on Linux, `export AUTOGRAPH_VERBOSITY=10`) and attach the full output. Cause: converting <bound method Dense.call of <tensorflow.python.layers.core.Dense object at 0x000002458C7CCBE0>>: AttributeError: module 'gast' has no attribute 'Index'\n",
      "WARNING:tensorflow:Entity <bound method Dense.call of <tensorflow.python.layers.core.Dense object at 0x000002458C12E780>> could not be transformed and will be executed as-is. Please report this to the AutgoGraph team. When filing the bug, set the verbosity to 10 (on Linux, `export AUTOGRAPH_VERBOSITY=10`) and attach the full output. Cause: converting <bound method Dense.call of <tensorflow.python.layers.core.Dense object at 0x000002458C12E780>>: AttributeError: module 'gast' has no attribute 'Index'\n",
      "WARNING: Entity <bound method Dense.call of <tensorflow.python.layers.core.Dense object at 0x000002458C12E780>> could not be transformed and will be executed as-is. Please report this to the AutgoGraph team. When filing the bug, set the verbosity to 10 (on Linux, `export AUTOGRAPH_VERBOSITY=10`) and attach the full output. Cause: converting <bound method Dense.call of <tensorflow.python.layers.core.Dense object at 0x000002458C12E780>>: AttributeError: module 'gast' has no attribute 'Index'\n",
      "WARNING:tensorflow:Entity <bound method Dense.call of <tensorflow.python.layers.core.Dense object at 0x000002458C12E780>> could not be transformed and will be executed as-is. Please report this to the AutgoGraph team. When filing the bug, set the verbosity to 10 (on Linux, `export AUTOGRAPH_VERBOSITY=10`) and attach the full output. Cause: converting <bound method Dense.call of <tensorflow.python.layers.core.Dense object at 0x000002458C12E780>>: AttributeError: module 'gast' has no attribute 'Index'\n",
      "WARNING: Entity <bound method Dense.call of <tensorflow.python.layers.core.Dense object at 0x000002458C12E780>> could not be transformed and will be executed as-is. Please report this to the AutgoGraph team. When filing the bug, set the verbosity to 10 (on Linux, `export AUTOGRAPH_VERBOSITY=10`) and attach the full output. Cause: converting <bound method Dense.call of <tensorflow.python.layers.core.Dense object at 0x000002458C12E780>>: AttributeError: module 'gast' has no attribute 'Index'\n",
      "WARNING:tensorflow:Entity <bound method Dense.call of <tensorflow.python.layers.core.Dense object at 0x000002458869BEB8>> could not be transformed and will be executed as-is. Please report this to the AutgoGraph team. When filing the bug, set the verbosity to 10 (on Linux, `export AUTOGRAPH_VERBOSITY=10`) and attach the full output. Cause: converting <bound method Dense.call of <tensorflow.python.layers.core.Dense object at 0x000002458869BEB8>>: AttributeError: module 'gast' has no attribute 'Index'\n",
      "WARNING: Entity <bound method Dense.call of <tensorflow.python.layers.core.Dense object at 0x000002458869BEB8>> could not be transformed and will be executed as-is. Please report this to the AutgoGraph team. When filing the bug, set the verbosity to 10 (on Linux, `export AUTOGRAPH_VERBOSITY=10`) and attach the full output. Cause: converting <bound method Dense.call of <tensorflow.python.layers.core.Dense object at 0x000002458869BEB8>>: AttributeError: module 'gast' has no attribute 'Index'\n",
      "WARNING:tensorflow:Entity <bound method Dense.call of <tensorflow.python.layers.core.Dense object at 0x000002458BEF3C88>> could not be transformed and will be executed as-is. Please report this to the AutgoGraph team. When filing the bug, set the verbosity to 10 (on Linux, `export AUTOGRAPH_VERBOSITY=10`) and attach the full output. Cause: converting <bound method Dense.call of <tensorflow.python.layers.core.Dense object at 0x000002458BEF3C88>>: AttributeError: module 'gast' has no attribute 'Index'\n",
      "WARNING: Entity <bound method Dense.call of <tensorflow.python.layers.core.Dense object at 0x000002458BEF3C88>> could not be transformed and will be executed as-is. Please report this to the AutgoGraph team. When filing the bug, set the verbosity to 10 (on Linux, `export AUTOGRAPH_VERBOSITY=10`) and attach the full output. Cause: converting <bound method Dense.call of <tensorflow.python.layers.core.Dense object at 0x000002458BEF3C88>>: AttributeError: module 'gast' has no attribute 'Index'\n",
      "WARNING:tensorflow:Entity <bound method Dense.call of <tensorflow.python.layers.core.Dense object at 0x000002458BEF3C88>> could not be transformed and will be executed as-is. Please report this to the AutgoGraph team. When filing the bug, set the verbosity to 10 (on Linux, `export AUTOGRAPH_VERBOSITY=10`) and attach the full output. Cause: converting <bound method Dense.call of <tensorflow.python.layers.core.Dense object at 0x000002458BEF3C88>>: AttributeError: module 'gast' has no attribute 'Index'\n",
      "WARNING: Entity <bound method Dense.call of <tensorflow.python.layers.core.Dense object at 0x000002458BEF3C88>> could not be transformed and will be executed as-is. Please report this to the AutgoGraph team. When filing the bug, set the verbosity to 10 (on Linux, `export AUTOGRAPH_VERBOSITY=10`) and attach the full output. Cause: converting <bound method Dense.call of <tensorflow.python.layers.core.Dense object at 0x000002458BEF3C88>>: AttributeError: module 'gast' has no attribute 'Index'\n",
      "WARNING:tensorflow:Entity <bound method Dense.call of <tensorflow.python.layers.core.Dense object at 0x000002458BEF3FD0>> could not be transformed and will be executed as-is. Please report this to the AutgoGraph team. When filing the bug, set the verbosity to 10 (on Linux, `export AUTOGRAPH_VERBOSITY=10`) and attach the full output. Cause: converting <bound method Dense.call of <tensorflow.python.layers.core.Dense object at 0x000002458BEF3FD0>>: AttributeError: module 'gast' has no attribute 'Index'\n",
      "WARNING: Entity <bound method Dense.call of <tensorflow.python.layers.core.Dense object at 0x000002458BEF3FD0>> could not be transformed and will be executed as-is. Please report this to the AutgoGraph team. When filing the bug, set the verbosity to 10 (on Linux, `export AUTOGRAPH_VERBOSITY=10`) and attach the full output. Cause: converting <bound method Dense.call of <tensorflow.python.layers.core.Dense object at 0x000002458BEF3FD0>>: AttributeError: module 'gast' has no attribute 'Index'\n",
      "WARNING:tensorflow:Entity <bound method Dense.call of <tensorflow.python.layers.core.Dense object at 0x000002458C7B42B0>> could not be transformed and will be executed as-is. Please report this to the AutgoGraph team. When filing the bug, set the verbosity to 10 (on Linux, `export AUTOGRAPH_VERBOSITY=10`) and attach the full output. Cause: converting <bound method Dense.call of <tensorflow.python.layers.core.Dense object at 0x000002458C7B42B0>>: AttributeError: module 'gast' has no attribute 'Index'\n",
      "WARNING: Entity <bound method Dense.call of <tensorflow.python.layers.core.Dense object at 0x000002458C7B42B0>> could not be transformed and will be executed as-is. Please report this to the AutgoGraph team. When filing the bug, set the verbosity to 10 (on Linux, `export AUTOGRAPH_VERBOSITY=10`) and attach the full output. Cause: converting <bound method Dense.call of <tensorflow.python.layers.core.Dense object at 0x000002458C7B42B0>>: AttributeError: module 'gast' has no attribute 'Index'\n",
      "WARNING:tensorflow:From c:\\Users\\Avish\\Documents\\ts_gen\\model\\G2C.py:86: The name tf.get_variable is deprecated. Please use tf.compat.v1.get_variable instead.\n",
      "\n",
      "WARNING:tensorflow:From c:\\Users\\Avish\\Documents\\ts_gen\\model\\G2C.py:104: The name tf.add_check_numerics_ops is deprecated. Please use tf.compat.v1.add_check_numerics_ops instead.\n",
      "\n",
      "WARNING:tensorflow:From c:\\Users\\Avish\\Documents\\ts_gen\\model\\G2C.py:153: to_float (from tensorflow.python.ops.math_ops) is deprecated and will be removed in a future version.\n",
      "Instructions for updating:\n",
      "Use `tf.cast` instead.\n",
      "WARNING:tensorflow:From c:\\Users\\Avish\\Documents\\ts_gen\\model\\G2C.py:155: calling reduce_sum_v1 (from tensorflow.python.ops.math_ops) with keep_dims is deprecated and will be removed in a future version.\n",
      "Instructions for updating:\n",
      "keep_dims is deprecated, use keepdims instead\n",
      "WARNING:tensorflow:From c:\\Users\\Avish\\Documents\\ts_gen\\model\\G2C.py:185: The name tf.random_normal is deprecated. Please use tf.random.normal instead.\n",
      "\n",
      "WARNING:tensorflow:From c:\\Users\\Avish\\Documents\\ts_gen\\model\\G2C.py:258: The name tf.debugging.is_finite is deprecated. Please use tf.math.is_finite instead.\n",
      "\n",
      "WARNING:tensorflow:From c:\\Users\\Avish\\Documents\\ts_gen\\model\\G2C.py:262: Print (from tensorflow.python.ops.logging_ops) is deprecated and will be removed after 2018-08-20.\n",
      "Instructions for updating:\n",
      "Use tf.print instead of tf.Print. Note that tf.print returns a no-output operator that directly prints the output. Outside of defuns or eager mode, this operator will not be executed unless it is directly specified in session.run or used as a control dependency for other operators. This is only a concern in graph mode. Below is an example of how to ensure tf.print executes in graph mode:\n",
      "```python\n",
      "    sess = tf.compat.v1.Session()\n",
      "    with sess.as_default():\n",
      "        tensor = tf.range(10)\n",
      "        print_op = tf.print(tensor)\n",
      "        with tf.control_dependencies([print_op]):\n",
      "          out = tf.add(tensor, tensor)\n",
      "        sess.run(out)\n",
      "    ```\n",
      "Additionally, to use tf.print in python 2.7, users must make sure to import\n",
      "the following:\n",
      "\n",
      "  `from __future__ import print_function`\n",
      "\n",
      "WARNING:tensorflow:From c:\\Users\\Avish\\Documents\\ts_gen\\model\\G2C.py:122: The name tf.summary.scalar is deprecated. Please use tf.compat.v1.summary.scalar instead.\n",
      "\n",
      "WARNING:tensorflow:From c:\\Users\\Avish\\Documents\\ts_gen\\model\\G2C.py:130: The name tf.summary.histogram is deprecated. Please use tf.compat.v1.summary.histogram instead.\n",
      "\n",
      "WARNING:tensorflow:From c:\\Users\\Avish\\Documents\\ts_gen\\model\\G2C.py:139: The name tf.train.AdamOptimizer is deprecated. Please use tf.compat.v1.train.AdamOptimizer instead.\n",
      "\n",
      "WARNING:tensorflow:From C:\\Users\\Avish\\miniconda3\\envs\\tsir-rdkit-env1.1\\lib\\site-packages\\tensorflow\\python\\ops\\math_grad.py:1205: add_dispatch_support.<locals>.wrapper (from tensorflow.python.ops.array_ops) is deprecated and will be removed in a future version.\n",
      "Instructions for updating:\n",
      "Use tf.where in 2.0, which has the same broadcast rule as np.where\n"
     ]
    }
   ],
   "source": [
    "model = G2C(\n",
    "      max_size=MAX_SIZE, node_features=num_elements+1, edge_features=3, layers=2, hidden_size=256, iterations=3\n",
    ")"
   ]
  },
  {
   "cell_type": "markdown",
   "metadata": {},
   "source": [
    "Load the trained model and predict transition state geometries!"
   ]
  },
  {
   "cell_type": "code",
   "execution_count": 6,
   "metadata": {},
   "outputs": [
    {
     "output_type": "stream",
     "name": "stdout",
     "text": [
      "Model loading...\n",
      "WARNING:tensorflow:From C:\\Users\\Avish\\miniconda3\\envs\\tsir-rdkit-env1.1\\lib\\site-packages\\tensorflow\\python\\training\\saver.py:1276: checkpoint_exists (from tensorflow.python.training.checkpoint_management) is deprecated and will be removed in a future version.\n",
      "Instructions for updating:\n",
      "Use standard file APIs to check for files with this prefix.\n",
      "INFO:tensorflow:Restoring parameters from log/2layers_256hs_3its/best_model.ckpt\n",
      "Model restored\n"
     ]
    }
   ],
   "source": [
    "# Launch session\n",
    "config = tf.ConfigProto(\n",
    "    allow_soft_placement=True,\n",
    "    log_device_placement=False\n",
    ")\n",
    "with tf.Session(config=config) as sess:\n",
    "    \n",
    "    # Initialization\n",
    "    print(\"Model loading...\")\n",
    "    saver = tf.train.Saver()\n",
    "    saver.restore(sess, model_path)\n",
    "    print(\"Model restored\")\n",
    "    \n",
    "    # Generator for test data\n",
    "    get_test_data = sample_batch()\n",
    "\n",
    "    X = np.empty([len(test_data), MAX_SIZE, 3])\n",
    "    \n",
    "    for step, data in enumerate(get_test_data):\n",
    "\n",
    "        batch_dict_test, batch_mols_test = data\n",
    "        feed_dict = {\n",
    "            model.placeholders[key]: batch_dict_test[key] for key in batch_dict_test\n",
    "        }\n",
    "        X[step*BATCH_SIZE:(step+1)*BATCH_SIZE, :, :] = sess.run([model.tensors[\"X\"]], feed_dict=feed_dict)[0]"
   ]
  },
  {
   "cell_type": "markdown",
   "metadata": {},
   "source": [
    "Convert geometries into rdkit mol objects and save the geometries as an sdf"
   ]
  },
  {
   "cell_type": "code",
   "execution_count": 7,
   "metadata": {},
   "outputs": [],
   "source": [
    "ts_mols = []\n",
    "for bx in range(X.shape[0]):\n",
    "    \n",
    "    # Make copy of reactant\n",
    "    mol_target = test_data[bx][0]\n",
    "    mol = Chem.Mol(mol_target)\n",
    "\n",
    "    for i in range(mol.GetNumAtoms()):\n",
    "        x = X[bx, i, :].tolist()\n",
    "        mol.GetConformer().SetAtomPosition(\n",
    "            i, Geometry.Point3D(x[0], x[1], x[2])\n",
    "        )\n",
    "    ts_mols.append(mol)\n",
    "\n",
    "\n",
    "model_ts_file = 'data/model_ts.sdf'\n",
    "ts_writer = Chem.SDWriter(model_ts_file)\n",
    "for i in range(len(ts_mols)):\n",
    "    ts_writer.write(ts_mols[i])"
   ]
  },
  {
   "cell_type": "code",
   "execution_count": 37,
   "metadata": {},
   "outputs": [
    {
     "output_type": "error",
     "ename": "AttributeError",
     "evalue": "'NoneType' object has no attribute 'core'",
     "traceback": [
      "\u001b[1;31m---------------------------------------------------------------------------\u001b[0m",
      "\u001b[1;31mAttributeError\u001b[0m                            Traceback (most recent call last)",
      "\u001b[1;32m<ipython-input-37-4c4ddd1482c2>\u001b[0m in \u001b[0;36m<module>\u001b[1;34m\u001b[0m\n\u001b[0;32m      3\u001b[0m \u001b[1;32mfrom\u001b[0m \u001b[0mrdkit\u001b[0m\u001b[1;33m.\u001b[0m\u001b[0mChem\u001b[0m \u001b[1;32mimport\u001b[0m \u001b[0mPandasTools\u001b[0m\u001b[1;33m\u001b[0m\u001b[1;33m\u001b[0m\u001b[0m\n\u001b[0;32m      4\u001b[0m \u001b[1;32mimport\u001b[0m \u001b[0mpandas\u001b[0m \u001b[1;32mas\u001b[0m \u001b[0mpd\u001b[0m\u001b[1;33m\u001b[0m\u001b[1;33m\u001b[0m\u001b[0m\n\u001b[1;32m----> 5\u001b[1;33m \u001b[0mPandasTools\u001b[0m\u001b[1;33m.\u001b[0m\u001b[0mRenderImagesInAllDataFrames\u001b[0m\u001b[1;33m(\u001b[0m\u001b[0mimages\u001b[0m\u001b[1;33m=\u001b[0m\u001b[1;32mTrue\u001b[0m\u001b[1;33m)\u001b[0m\u001b[1;33m\u001b[0m\u001b[1;33m\u001b[0m\u001b[0m\n\u001b[0m\u001b[0;32m      6\u001b[0m \u001b[1;31m# sdf_file = os.path.join(RDConfig.RDDataDir,model_ts_file)\u001b[0m\u001b[1;33m\u001b[0m\u001b[1;33m\u001b[0m\u001b[1;33m\u001b[0m\u001b[0m\n\u001b[0;32m      7\u001b[0m \u001b[0mframe\u001b[0m \u001b[1;33m=\u001b[0m \u001b[0mPandasTools\u001b[0m\u001b[1;33m.\u001b[0m\u001b[0mLoadSDF\u001b[0m\u001b[1;33m(\u001b[0m\u001b[1;34m'data\\model_ts.sdf'\u001b[0m\u001b[1;33m)\u001b[0m \u001b[1;31m#, smilesName='SMILES', molColName='Molecule')\u001b[0m\u001b[1;33m\u001b[0m\u001b[1;33m\u001b[0m\u001b[0m\n",
      "\u001b[1;32m~\\miniconda3\\envs\\tsir-rdkit-env1.1\\lib\\site-packages\\rdkit\\Chem\\PandasTools.py\u001b[0m in \u001b[0;36mRenderImagesInAllDataFrames\u001b[1;34m(images)\u001b[0m\n\u001b[0;32m    285\u001b[0m   '''\n\u001b[0;32m    286\u001b[0m   \u001b[1;32mif\u001b[0m \u001b[0mimages\u001b[0m\u001b[1;33m:\u001b[0m\u001b[1;33m\u001b[0m\u001b[1;33m\u001b[0m\u001b[0m\n\u001b[1;32m--> 287\u001b[1;33m     \u001b[0mpd\u001b[0m\u001b[1;33m.\u001b[0m\u001b[0mcore\u001b[0m\u001b[1;33m.\u001b[0m\u001b[0mframe\u001b[0m\u001b[1;33m.\u001b[0m\u001b[0mDataFrame\u001b[0m\u001b[1;33m.\u001b[0m\u001b[0mto_html\u001b[0m \u001b[1;33m=\u001b[0m \u001b[0mpatchPandasHTMLrepr\u001b[0m\u001b[1;33m\u001b[0m\u001b[1;33m\u001b[0m\u001b[0m\n\u001b[0m\u001b[0;32m    288\u001b[0m   \u001b[1;32melse\u001b[0m\u001b[1;33m:\u001b[0m\u001b[1;33m\u001b[0m\u001b[1;33m\u001b[0m\u001b[0m\n\u001b[0;32m    289\u001b[0m     \u001b[0mpd\u001b[0m\u001b[1;33m.\u001b[0m\u001b[0mcore\u001b[0m\u001b[1;33m.\u001b[0m\u001b[0mframe\u001b[0m\u001b[1;33m.\u001b[0m\u001b[0mDataFrame\u001b[0m\u001b[1;33m.\u001b[0m\u001b[0mto_html\u001b[0m \u001b[1;33m=\u001b[0m \u001b[0mdefPandasRendering\u001b[0m\u001b[1;33m\u001b[0m\u001b[1;33m\u001b[0m\u001b[0m\n",
      "\u001b[1;31mAttributeError\u001b[0m: 'NoneType' object has no attribute 'core'"
     ]
    }
   ],
   "source": [
    "# putting .sdf into dataframe\n",
    "from rdkit import RDConfig\n",
    "from rdkit.Chem import PandasTools\n",
    "import pandas as pd\n",
    "PandasTools.RenderImagesInAllDataFrames(images=True)\n",
    "# sdf_file = os.path.join(RDConfig.RDDataDir,model_ts_file)\n",
    "frame = PandasTools.LoadSDF('data\\model_ts.sdf') #, smilesName='SMILES', molColName='Molecule')\n",
    "#frame.info"
   ]
  },
  {
   "cell_type": "markdown",
   "metadata": {},
   "source": [
    "Visualize the results. Change n to see different combinations of reactants, transition states, and products. Note that, for the TS, rdkit will add bonds based on the reactant. We'll clean this to only include common bonds between reactants and products"
   ]
  },
  {
   "cell_type": "code",
   "execution_count": 8,
   "metadata": {},
   "outputs": [],
   "source": [
    "def clean_ts(mols):\n",
    "    \n",
    "    r_mol, ts_mol, p_mol = mols\n",
    "    r_bonds = [(bond.GetBeginAtomIdx(), bond.GetEndAtomIdx()) for bond in r_mol.GetBonds()]\n",
    "    r_bonds = [tuple(sorted(b)) for b in r_bonds]\n",
    "    p_bonds = [(bond.GetBeginAtomIdx(), bond.GetEndAtomIdx()) for bond in p_mol.GetBonds()]\n",
    "    p_bonds = [tuple(sorted(b)) for b in p_bonds]\n",
    "    common_bonds = list(set(r_bonds) & set(p_bonds))\n",
    "    \n",
    "    emol = Chem.EditableMol(ts_mol)\n",
    "    for bond in ts_mol.GetBonds():\n",
    "        bond_idxs = tuple(sorted((bond.GetBeginAtomIdx(), bond.GetEndAtomIdx())))\n",
    "        if bond_idxs not in common_bonds:\n",
    "            emol.RemoveBond(bond_idxs[0], bond_idxs[1])\n",
    "            emol.AddBond(bond_idxs[0], bond_idxs[1])\n",
    "    return r_mol, emol.GetMol(), p_mol\n",
    "\n",
    "\n",
    "def show_mol(mol, view, grid):\n",
    "    mb = Chem.MolToMolBlock(mol)\n",
    "    view.removeAllModels(viewer=grid)\n",
    "    view.addModel(mb,'sdf', viewer=grid)\n",
    "    view.setStyle({'model':0},{'stick': {}}, viewer=grid)\n",
    "    view.zoomTo(viewer=grid)\n",
    "    return view"
   ]
  },
  {
   "cell_type": "code",
   "execution_count": 9,
   "metadata": {},
   "outputs": [
    {
     "output_type": "display_data",
     "data": {
      "application/3dmoljs_load.v0": "<div id=\"3dmolviewer_16112203066354206\"  style=\"position: relative; width: 960px; height: 500px\">\n        <p id=\"3dmolwarning_16112203066354206\" style=\"background-color:#ffcccc;color:black\">You appear to be running in JupyterLab (or JavaScript failed to load for some other reason).  You need to install the 3dmol extension: <br>\n        <tt>jupyter labextension install jupyterlab_3dmol</tt></p>\n        </div>\n<script>\n\nvar loadScriptAsync = function(uri){\n  return new Promise((resolve, reject) => {\n    var tag = document.createElement('script');\n    tag.src = uri;\n    tag.async = true;\n    tag.onload = () => {\n      resolve();\n    };\n  var firstScriptTag = document.getElementsByTagName('script')[0];\n  firstScriptTag.parentNode.insertBefore(tag, firstScriptTag);\n});\n};\n\nif(typeof $3Dmolpromise === 'undefined') {\n$3Dmolpromise = null;\n  $3Dmolpromise = loadScriptAsync('https://3dmol.org/build/3Dmol.js');\n}\n\nvar viewer_16112203066354206 = null;\nvar warn = document.getElementById(\"3dmolwarning_16112203066354206\");\nif(warn) {\n    warn.parentNode.removeChild(warn);\n}\n$3Dmolpromise.then(function() {\nvar viewergrid_16112203066354206 = null;\nviewergrid_16112203066354206 = $3Dmol.createViewerGrid($(\"#3dmolviewer_16112203066354206\"),{rows: 1, cols: 3, control_all: false},{backgroundColor:\"white\"});\nviewer_16112203066354206 = viewergrid_16112203066354206[0][0];\nviewergrid_16112203066354206[0][0].zoomTo();viewergrid_16112203066354206[0][1].zoomTo();viewergrid_16112203066354206[0][2].zoomTo();\tviewergrid_16112203066354206[0][0].removeAllModels();\n\tviewergrid_16112203066354206[0][0].addModel(\"[C:1]([O:2][C:3]([C:4](=[O:5])[H:11])([H:9])[H:10])([H:6])([H:7])[H:8]\\n     RDKit          3D\\n\\n 11 10  0  0  0  0  0  0  0  0999 V2000\\n   -1.3284    0.7074    0.2890 C   0  0  0  0  0  0  0  0  0  0  0  0\\n   -0.9007   -0.4391   -0.4086 O   0  0  0  0  0  0  0  0  0  0  0  0\\n    0.3528   -0.8952    0.0115 C   0  0  0  0  0  0  0  0  0  0  0  0\\n    1.4927   -0.0534   -0.5283 C   0  0  0  0  0  0  0  0  0  0  0  0\\n    2.6074   -0.0833   -0.0898 O   0  0  0  0  0  0  0  0  0  0  0  0\\n   -1.4378    0.5000    1.3607 H   0  0  0  0  0  0  0  0  0  0  0  0\\n   -0.6317    1.5467    0.1666 H   0  0  0  0  0  0  0  0  0  0  0  0\\n   -2.2956    0.9940   -0.1198 H   0  0  0  0  0  0  0  0  0  0  0  0\\n    0.4822   -1.9058   -0.3877 H   0  0  0  0  0  0  0  0  0  0  0  0\\n    0.4361   -0.9551    1.1046 H   0  0  0  0  0  0  0  0  0  0  0  0\\n    1.2231    0.5837   -1.3982 H   0  0  0  0  0  0  0  0  0  0  0  0\\n  1  6  1  0\\n  2  3  1  0\\n  2  1  1  0\\n  3 10  1  0\\n  4  5  2  0\\n  4  3  1  0\\n  7  1  1  0\\n  8  1  1  0\\n  9  3  1  0\\n 11  4  1  0\\nM  END\\n\",\"sdf\");\n\tviewergrid_16112203066354206[0][0].setStyle({\"model\": 0},{\"stick\": {}});\n\tviewergrid_16112203066354206[0][0].zoomTo();\n\tviewergrid_16112203066354206[0][1].removeAllModels();\n\tviewergrid_16112203066354206[0][1].addModel(\"[C:1]([O:2][C:3]([C:4](=[O:5])[H:11])([H:9])[H:10])([H:6])([H:7])[H:8]\\n     RDKit          3D\\n\\n 11 10  0  0  0  0  0  0  0  0999 V2000\\n    0.1555    0.7184    0.9583 C   0  0  0  0  0  0  0  0  0  0  0  0\\n   -0.9718   -0.5683    0.6828 O   0  0  0  0  0  0  0  0  0  0  0  0\\n   -0.1888   -0.9727   -0.4239 C   0  0  0  0  0  0  0  0  0  0  0  0\\n    0.4535    0.3966   -0.8342 C   0  0  0  0  0  0  0  0  0  0  0  0\\n    1.5875    0.4171   -1.4177 O   0  0  0  0  0  0  0  0  0  0  0  0\\n    0.8879    0.1877    1.5647 H   0  0  0  0  0  0  0  0  0  0  0  0\\n   -1.2032    0.2750    0.8007 H   0  0  0  0  0  0  0  0  0  0  0  0\\n   -0.1645    1.6180    1.3308 H   0  0  0  0  0  0  0  0  0  0  0  0\\n   -0.8210   -1.4624   -1.1908 H   0  0  0  0  0  0  0  0  0  0  0  0\\n    0.5998   -1.6567   -0.0792 H   0  0  0  0  0  0  0  0  0  0  0  0\\n   -0.3349    1.0474   -1.3916 H   0  0  0  0  0  0  0  0  0  0  0  0\\n  1  6  1  0\\n  2  3  1  0\\n  3 10  1  0\\n  4  5  2  0\\n  4  3  1  0\\n  8  1  1  0\\n  9  3  1  0\\n 11  4  1  0\\n  1  2  0  0\\n  1  7  0  0\\nM  END\\n\",\"sdf\");\n\tviewergrid_16112203066354206[0][1].setStyle({\"model\": 0},{\"stick\": {}});\n\tviewergrid_16112203066354206[0][1].zoomTo();\n\tviewergrid_16112203066354206[0][2].removeAllModels();\n\tviewergrid_16112203066354206[0][2].addModel(\"[C+:1]([C@:4]([C:3]([O:2][H:7])([H:9])[H:10])([O-:5])[H:11])([H:6])[H:8]\\n     RDKit          3D\\n\\n 11 10  0  0  1  0  0  0  0  0999 V2000\\n   -0.6059    0.7528    0.3789 C   0  0  0  0  0  3  0  0  0  0  0  0\\n   -1.0821   -0.5691   -0.2495 O   0  0  0  0  0  0  0  0  0  0  0  0\\n    0.3733   -1.0663   -0.1912 C   0  0  0  0  0  0  0  0  0  0  0  0\\n    0.9039    0.4200    0.0062 C   0  0  2  0  0  0  0  0  0  0  0  0\\n    1.8239    0.6494    0.8561 O   0  0  0  0  0  1  0  0  0  0  0  0\\n   -0.8044    0.6368    1.4419 H   0  0  0  0  0  0  0  0  0  0  0  0\\n   -1.3151   -0.4054   -1.1713 H   0  0  0  0  0  0  0  0  0  0  0  0\\n   -1.1576    1.5791   -0.0683 H   0  0  0  0  0  0  0  0  0  0  0  0\\n    0.5838   -1.6582   -1.0815 H   0  0  0  0  0  0  0  0  0  0  0  0\\n    0.4257   -1.6489    0.7257 H   0  0  0  0  0  0  0  0  0  0  0  0\\n    1.0368    0.8210   -1.0435 H   0  0  0  0  0  0  0  0  0  0  0  0\\n  1  6  1  0\\n  2  3  1  0\\n  3  4  1  0\\n  3 10  1  0\\n  4 11  1  6\\n  4  1  1  0\\n  4  5  1  0\\n  7  2  1  0\\n  8  1  1  0\\n  9  3  1  0\\nM  RAD  2   1   2   5   2\\nM  END\\n\",\"sdf\");\n\tviewergrid_16112203066354206[0][2].setStyle({\"model\": 0},{\"stick\": {}});\n\tviewergrid_16112203066354206[0][2].zoomTo();\n\tviewergrid_16112203066354206[0][0].render();\n\tviewergrid_16112203066354206[0][1].render();\n\tviewergrid_16112203066354206[0][2].render();\nviewergrid_16112203066354206[0][2].render();\nviewergrid_16112203066354206[0][1].render();\nviewergrid_16112203066354206[0][0].render();\n});\n</script>",
      "text/html": "<div id=\"3dmolviewer_16112203066354206\"  style=\"position: relative; width: 960px; height: 500px\">\n        <p id=\"3dmolwarning_16112203066354206\" style=\"background-color:#ffcccc;color:black\">You appear to be running in JupyterLab (or JavaScript failed to load for some other reason).  You need to install the 3dmol extension: <br>\n        <tt>jupyter labextension install jupyterlab_3dmol</tt></p>\n        </div>\n<script>\n\nvar loadScriptAsync = function(uri){\n  return new Promise((resolve, reject) => {\n    var tag = document.createElement('script');\n    tag.src = uri;\n    tag.async = true;\n    tag.onload = () => {\n      resolve();\n    };\n  var firstScriptTag = document.getElementsByTagName('script')[0];\n  firstScriptTag.parentNode.insertBefore(tag, firstScriptTag);\n});\n};\n\nif(typeof $3Dmolpromise === 'undefined') {\n$3Dmolpromise = null;\n  $3Dmolpromise = loadScriptAsync('https://3dmol.org/build/3Dmol.js');\n}\n\nvar viewer_16112203066354206 = null;\nvar warn = document.getElementById(\"3dmolwarning_16112203066354206\");\nif(warn) {\n    warn.parentNode.removeChild(warn);\n}\n$3Dmolpromise.then(function() {\nvar viewergrid_16112203066354206 = null;\nviewergrid_16112203066354206 = $3Dmol.createViewerGrid($(\"#3dmolviewer_16112203066354206\"),{rows: 1, cols: 3, control_all: false},{backgroundColor:\"white\"});\nviewer_16112203066354206 = viewergrid_16112203066354206[0][0];\nviewergrid_16112203066354206[0][0].zoomTo();viewergrid_16112203066354206[0][1].zoomTo();viewergrid_16112203066354206[0][2].zoomTo();\tviewergrid_16112203066354206[0][0].removeAllModels();\n\tviewergrid_16112203066354206[0][0].addModel(\"[C:1]([O:2][C:3]([C:4](=[O:5])[H:11])([H:9])[H:10])([H:6])([H:7])[H:8]\\n     RDKit          3D\\n\\n 11 10  0  0  0  0  0  0  0  0999 V2000\\n   -1.3284    0.7074    0.2890 C   0  0  0  0  0  0  0  0  0  0  0  0\\n   -0.9007   -0.4391   -0.4086 O   0  0  0  0  0  0  0  0  0  0  0  0\\n    0.3528   -0.8952    0.0115 C   0  0  0  0  0  0  0  0  0  0  0  0\\n    1.4927   -0.0534   -0.5283 C   0  0  0  0  0  0  0  0  0  0  0  0\\n    2.6074   -0.0833   -0.0898 O   0  0  0  0  0  0  0  0  0  0  0  0\\n   -1.4378    0.5000    1.3607 H   0  0  0  0  0  0  0  0  0  0  0  0\\n   -0.6317    1.5467    0.1666 H   0  0  0  0  0  0  0  0  0  0  0  0\\n   -2.2956    0.9940   -0.1198 H   0  0  0  0  0  0  0  0  0  0  0  0\\n    0.4822   -1.9058   -0.3877 H   0  0  0  0  0  0  0  0  0  0  0  0\\n    0.4361   -0.9551    1.1046 H   0  0  0  0  0  0  0  0  0  0  0  0\\n    1.2231    0.5837   -1.3982 H   0  0  0  0  0  0  0  0  0  0  0  0\\n  1  6  1  0\\n  2  3  1  0\\n  2  1  1  0\\n  3 10  1  0\\n  4  5  2  0\\n  4  3  1  0\\n  7  1  1  0\\n  8  1  1  0\\n  9  3  1  0\\n 11  4  1  0\\nM  END\\n\",\"sdf\");\n\tviewergrid_16112203066354206[0][0].setStyle({\"model\": 0},{\"stick\": {}});\n\tviewergrid_16112203066354206[0][0].zoomTo();\n\tviewergrid_16112203066354206[0][1].removeAllModels();\n\tviewergrid_16112203066354206[0][1].addModel(\"[C:1]([O:2][C:3]([C:4](=[O:5])[H:11])([H:9])[H:10])([H:6])([H:7])[H:8]\\n     RDKit          3D\\n\\n 11 10  0  0  0  0  0  0  0  0999 V2000\\n    0.1555    0.7184    0.9583 C   0  0  0  0  0  0  0  0  0  0  0  0\\n   -0.9718   -0.5683    0.6828 O   0  0  0  0  0  0  0  0  0  0  0  0\\n   -0.1888   -0.9727   -0.4239 C   0  0  0  0  0  0  0  0  0  0  0  0\\n    0.4535    0.3966   -0.8342 C   0  0  0  0  0  0  0  0  0  0  0  0\\n    1.5875    0.4171   -1.4177 O   0  0  0  0  0  0  0  0  0  0  0  0\\n    0.8879    0.1877    1.5647 H   0  0  0  0  0  0  0  0  0  0  0  0\\n   -1.2032    0.2750    0.8007 H   0  0  0  0  0  0  0  0  0  0  0  0\\n   -0.1645    1.6180    1.3308 H   0  0  0  0  0  0  0  0  0  0  0  0\\n   -0.8210   -1.4624   -1.1908 H   0  0  0  0  0  0  0  0  0  0  0  0\\n    0.5998   -1.6567   -0.0792 H   0  0  0  0  0  0  0  0  0  0  0  0\\n   -0.3349    1.0474   -1.3916 H   0  0  0  0  0  0  0  0  0  0  0  0\\n  1  6  1  0\\n  2  3  1  0\\n  3 10  1  0\\n  4  5  2  0\\n  4  3  1  0\\n  8  1  1  0\\n  9  3  1  0\\n 11  4  1  0\\n  1  2  0  0\\n  1  7  0  0\\nM  END\\n\",\"sdf\");\n\tviewergrid_16112203066354206[0][1].setStyle({\"model\": 0},{\"stick\": {}});\n\tviewergrid_16112203066354206[0][1].zoomTo();\n\tviewergrid_16112203066354206[0][2].removeAllModels();\n\tviewergrid_16112203066354206[0][2].addModel(\"[C+:1]([C@:4]([C:3]([O:2][H:7])([H:9])[H:10])([O-:5])[H:11])([H:6])[H:8]\\n     RDKit          3D\\n\\n 11 10  0  0  1  0  0  0  0  0999 V2000\\n   -0.6059    0.7528    0.3789 C   0  0  0  0  0  3  0  0  0  0  0  0\\n   -1.0821   -0.5691   -0.2495 O   0  0  0  0  0  0  0  0  0  0  0  0\\n    0.3733   -1.0663   -0.1912 C   0  0  0  0  0  0  0  0  0  0  0  0\\n    0.9039    0.4200    0.0062 C   0  0  2  0  0  0  0  0  0  0  0  0\\n    1.8239    0.6494    0.8561 O   0  0  0  0  0  1  0  0  0  0  0  0\\n   -0.8044    0.6368    1.4419 H   0  0  0  0  0  0  0  0  0  0  0  0\\n   -1.3151   -0.4054   -1.1713 H   0  0  0  0  0  0  0  0  0  0  0  0\\n   -1.1576    1.5791   -0.0683 H   0  0  0  0  0  0  0  0  0  0  0  0\\n    0.5838   -1.6582   -1.0815 H   0  0  0  0  0  0  0  0  0  0  0  0\\n    0.4257   -1.6489    0.7257 H   0  0  0  0  0  0  0  0  0  0  0  0\\n    1.0368    0.8210   -1.0435 H   0  0  0  0  0  0  0  0  0  0  0  0\\n  1  6  1  0\\n  2  3  1  0\\n  3  4  1  0\\n  3 10  1  0\\n  4 11  1  6\\n  4  1  1  0\\n  4  5  1  0\\n  7  2  1  0\\n  8  1  1  0\\n  9  3  1  0\\nM  RAD  2   1   2   5   2\\nM  END\\n\",\"sdf\");\n\tviewergrid_16112203066354206[0][2].setStyle({\"model\": 0},{\"stick\": {}});\n\tviewergrid_16112203066354206[0][2].zoomTo();\n\tviewergrid_16112203066354206[0][0].render();\n\tviewergrid_16112203066354206[0][1].render();\n\tviewergrid_16112203066354206[0][2].render();\nviewergrid_16112203066354206[0][2].render();\nviewergrid_16112203066354206[0][1].render();\nviewergrid_16112203066354206[0][0].render();\n});\n</script>"
     },
     "metadata": {}
    },
    {
     "output_type": "execute_result",
     "data": {
      "text/plain": [
       "<py3Dmol.view at 0x24592410630>"
      ]
     },
     "metadata": {},
     "execution_count": 9
    }
   ],
   "source": [
    "n=1\n",
    "mols = [test_data[n][0], ts_mols[n], test_data[n][1]]\n",
    "view_mols = clean_ts(mols)\n",
    "\n",
    "view = py3Dmol.view(width=960, height=500, linked=False, viewergrid=(1,3))\n",
    "for i in range(3):\n",
    "    show_mol(view_mols[i], view, grid=(0, i))\n",
    "view.render()"
   ]
  }
 ],
 "metadata": {
  "kernelspec": {
   "name": "python3",
   "display_name": "Python 3.6.12 64-bit ('tsir-rdkit-env1.1': conda)",
   "metadata": {
    "interpreter": {
     "hash": "0edcbd6995ab57326331f16d0ca34c58208e7395693f939624fb371881cd4e67"
    }
   }
  },
  "language_info": {
   "codemirror_mode": {
    "name": "ipython",
    "version": 2
   },
   "file_extension": ".py",
   "mimetype": "text/x-python",
   "name": "python",
   "nbconvert_exporter": "python",
   "pygments_lexer": "ipython2",
   "version": "3.6.12-final"
  }
 },
 "nbformat": 4,
 "nbformat_minor": 2
}