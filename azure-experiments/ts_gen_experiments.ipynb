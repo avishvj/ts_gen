{
  "cells": [
    {
      "cell_type": "markdown",
      "metadata": {
        "nteract": {
          "transient": {
            "deleting": false
          }
        }
      },
      "source": [
        "- Set tracking URI\r\n",
        "- Create experiment\r\n",
        "- Create train and test sets\r\n",
        "- Train while logging metrics and artifacts. \r\n",
        "    - Train script should use mlflow to log model HP values, errors, save final D_init, W, embedding after each epoch\r\n",
        "\r\n",
        "TODO:\r\n",
        "- Modify train.py if necessary\r\n",
        "- Make sure can run train and log parameters with current formulation\r\n",
        "- Run with different sets of hyperparameters"
      ]
    },
    {
      "cell_type": "code",
      "execution_count": 1,
      "metadata": {
        "collapsed": true,
        "gather": {
          "logged": 1622011331685
        },
        "jupyter": {
          "outputs_hidden": false,
          "source_hidden": false
        },
        "nteract": {
          "transient": {
            "deleting": false
          }
        }
      },
      "outputs": [
        {
          "name": "stdout",
          "output_type": "stream",
          "text": [
            "SDK version: 1.28.0\n",
            "MLflow version: 1.17.0\n",
            "reactionmodelling\n",
            "researchproj\n",
            "uksouth\n",
            "4ba7b086-969d-41c4-a647-2784cde6af4b\n"
          ]
        }
      ],
      "source": [
        "import sys, os\r\n",
        "import mlflow\r\n",
        "import mlflow.azureml\r\n",
        "\r\n",
        "import azureml.core\r\n",
        "from azureml.core import Workspace\r\n",
        "\r\n",
        "ws = Workspace.from_config()\r\n",
        "\r\n",
        "print(\"SDK version:\", azureml.core.VERSION)\r\n",
        "print(\"MLflow version:\", mlflow.version.VERSION)\r\n",
        "print(ws.name, ws.resource_group, ws.location, ws.subscription_id, sep = '\\n')"
      ]
    },
    {
      "cell_type": "code",
      "execution_count": 2,
      "metadata": {
        "collapsed": true,
        "gather": {
          "logged": 1622011336231
        },
        "jupyter": {
          "outputs_hidden": false,
          "source_hidden": false
        },
        "nteract": {
          "transient": {
            "deleting": false
          }
        }
      },
      "outputs": [
        {
          "name": "stdout",
          "output_type": "stream",
          "text": [
            "Found existing cluster, use it.\n",
            "Succeeded\n",
            "AmlCompute wait for completion finished\n",
            "\n",
            "Minimum number of nodes requested have been provisioned\n"
          ]
        }
      ],
      "source": [
        "from azureml.core.compute import ComputeTarget, AmlCompute\r\n",
        "from azureml.core.compute_target import ComputeTargetException\r\n",
        "\r\n",
        "# choose a name for your CPU cluster\r\n",
        "cpu_cluster_name = \"cpucluster\"\r\n",
        "\r\n",
        "# verify that cluster does not exist already\r\n",
        "try:\r\n",
        "    cpu_cluster = ComputeTarget(workspace = ws, name = cpu_cluster_name)\r\n",
        "    print('Found existing cluster, use it.')\r\n",
        "except ComputeTargetException:\r\n",
        "    compute_config = AmlCompute.provisioning_configuration(vm_size='STANDARD_D2_V2',\r\n",
        "                                                           max_nodes=4)\r\n",
        "    cpu_cluster = ComputeTarget.create(ws, cpu_cluster_name, compute_config)\r\n",
        "\r\n",
        "cpu_cluster.wait_for_completion(show_output=True)"
      ]
    },
    {
      "cell_type": "code",
      "execution_count": 3,
      "metadata": {
        "collapsed": true,
        "gather": {
          "logged": 1622011344197
        },
        "jupyter": {
          "outputs_hidden": false,
          "source_hidden": false
        },
        "nteract": {
          "transient": {
            "deleting": false
          }
        }
      },
      "outputs": [],
      "source": [
        "# set tracking URI\r\n",
        "mlflow.set_tracking_uri(ws.get_mlflow_tracking_uri())\r\n",
        "\r\n",
        "# create mlflow experiment\r\n",
        "experiment_name = \"train-tsgen\"\r\n",
        "mlflow.set_experiment(experiment_name)\r\n",
        "\r\n",
        "# create backend config object\r\n",
        "backend_config = {\"COMPUTE\": \"cpucluster\", \"USE_CONDA\": False}"
      ]
    },
    {
      "cell_type": "code",
      "execution_count": 4,
      "metadata": {
        "collapsed": true,
        "jupyter": {
          "outputs_hidden": true,
          "source_hidden": false
        },
        "nteract": {
          "transient": {
            "deleting": false
          }
        }
      },
      "outputs": [
        {
          "name": "stderr",
          "output_type": "stream",
          "text": [
            "Class AzureMLProjectBackend: This is an experimental class, and may change at any time. Please see https://aka.ms/azuremlexperimental for more information.\n",
            "2021/05/26 06:42:49 INFO mlflow.projects.utils: === Created directory /tmp/tmp1s81niet for downloading remote URIs passed to arguments of type 'path' ===\n",
            "No Python version provided, defaulting to \"3.6.2\"\n",
            "'enabled' is deprecated. Please use the azureml.core.runconfig.DockerConfiguration object with the 'use_docker' param instead.\n",
            "Submitting /mnt/batch/tasks/shared/LS_root/mounts/clusters/cpu-core2-ram8/code/Users/rmhavij/ts_gen/azure-experiments directory for run. The size of the directory >= 25 MB, so it can take a few minutes.\n",
            "Class AzureMLSubmittedRun: This is an experimental class, and may change at any time. Please see https://aka.ms/azuremlexperimental for more information.\n",
            "Submitted Run failed with exception ActivityFailedException:\n",
            "\tMessage: Activity Failed:\n",
            "{\n",
            "    \"error\": {\n",
            "        \"code\": \"UserError\",\n",
            "        \"message\": \"Image build failed. For more details, check log file azureml-logs/20_image_build_log.txt.\",\n",
            "        \"messageFormat\": \"Image build failed. For more details, check log file {ArtifactPath}.\",\n",
            "        \"messageParameters\": {\n",
            "            \"ArtifactPath\": \"azureml-logs/20_image_build_log.txt\"\n",
            "        },\n",
            "        \"details\": [],\n",
            "        \"innerError\": {\n",
            "            \"code\": \"BadArgument\",\n",
            "            \"innerError\": {\n",
            "                \"code\": \"ImageBuildFailure\"\n",
            "            }\n",
            "        }\n",
            "    },\n",
            "    \"correlation\": {\n",
            "        \"operation\": \"9d6b4ff713903e4082653ef2eccc2ec8\",\n",
            "        \"request\": \"4ee22233507af466\"\n",
            "    },\n",
            "    \"environment\": \"uksouth\",\n",
            "    \"location\": \"uksouth\",\n",
            "    \"time\": \"2021-05-26T06:45:20.732943Z\",\n",
            "    \"componentName\": \"execution-worker\"\n",
            "}\n",
            "\tInnerException None\n",
            "\tErrorResponse \n",
            "{\n",
            "    \"error\": {\n",
            "        \"message\": \"Activity Failed:\\n{\\n    \\\"error\\\": {\\n        \\\"code\\\": \\\"UserError\\\",\\n        \\\"message\\\": \\\"Image build failed. For more details, check log file azureml-logs/20_image_build_log.txt.\\\",\\n        \\\"messageFormat\\\": \\\"Image build failed. For more details, check log file {ArtifactPath}.\\\",\\n        \\\"messageParameters\\\": {\\n            \\\"ArtifactPath\\\": \\\"azureml-logs/20_image_build_log.txt\\\"\\n        },\\n        \\\"details\\\": [],\\n        \\\"innerError\\\": {\\n            \\\"code\\\": \\\"BadArgument\\\",\\n            \\\"innerError\\\": {\\n                \\\"code\\\": \\\"ImageBuildFailure\\\"\\n            }\\n        }\\n    },\\n    \\\"correlation\\\": {\\n        \\\"operation\\\": \\\"9d6b4ff713903e4082653ef2eccc2ec8\\\",\\n        \\\"request\\\": \\\"4ee22233507af466\\\"\\n    },\\n    \\\"environment\\\": \\\"uksouth\\\",\\n    \\\"location\\\": \\\"uksouth\\\",\\n    \\\"time\\\": \\\"2021-05-26T06:45:20.732943Z\\\",\\n    \\\"componentName\\\": \\\"execution-worker\\\"\\n}\"\n",
            "    }\n",
            "}\n"
          ]
        },
        {
          "name": "stdout",
          "output_type": "stream",
          "text": [
            "RunId: train-tsgen_1622011371_4cc25371\n",
            "Web View: https://ml.azure.com/runs/train-tsgen_1622011371_4cc25371?wsid=/subscriptions/4ba7b086-969d-41c4-a647-2784cde6af4b/resourcegroups/ResearchProj/workspaces/ReactionModelling&tid=1faf88fe-a998-4c5b-93c9-210a11d9a5c2\n",
            "\n",
            "Streaming azureml-logs/20_image_build_log.txt\n",
            "=============================================\n",
            "\n",
            "2021/05/26 06:43:25 Downloading source code...\n",
            "2021/05/26 06:43:26 Finished downloading source code\n",
            "2021/05/26 06:43:27 Creating Docker network: acb_default_network, driver: 'bridge'\n",
            "2021/05/26 06:43:27 Successfully set up Docker network: acb_default_network\n",
            "2021/05/26 06:43:27 Setting up Docker configuration...\n",
            "2021/05/26 06:43:28 Successfully set up Docker configuration\n",
            "2021/05/26 06:43:28 Logging in to registry: a27013b3703d4978a7b549edc2126d58.azurecr.io\n",
            "2021/05/26 06:43:29 Successfully logged into a27013b3703d4978a7b549edc2126d58.azurecr.io\n",
            "2021/05/26 06:43:29 Executing step ID: acb_step_0. Timeout(sec): 5400, Working directory: '', Network: 'acb_default_network'\n",
            "2021/05/26 06:43:29 Scanning for dependencies...\n",
            "2021/05/26 06:43:30 Successfully scanned dependencies\n",
            "2021/05/26 06:43:30 Launching container with name: acb_step_0\n",
            "Sending build context to Docker daemon  66.56kB\n",
            "\n",
            "\n",
            "Step 1/18 : FROM mcr.microsoft.com/azureml/openmpi3.1.2-ubuntu18.04:20210301.v1@sha256:9c4f76b334a5add8bd2862ff33289658d267ba298f2d2424fa1a28a4e4cc2232\n",
            "mcr.microsoft.com/azureml/openmpi3.1.2-ubuntu18.04:20210301.v1@sha256:9c4f76b334a5add8bd2862ff33289658d267ba298f2d2424fa1a28a4e4cc2232: Pulling from azureml/openmpi3.1.2-ubuntu18.04\n",
            "d519e2592276: Pulling fs layer\n",
            "d22d2dfcfa9c: Pulling fs layer\n",
            "b3afe92c540b: Pulling fs layer\n",
            "b45c209a4d67: Pulling fs layer\n",
            "3f5a608df989: Pulling fs layer\n",
            "11df60c3c446: Pulling fs layer\n",
            "3306300f7441: Pulling fs layer\n",
            "d5f61fd90197: Pulling fs layer\n",
            "3c91cee49561: Pulling fs layer\n",
            "3166a3588baf: Pulling fs layer\n",
            "386667a0fc79: Pulling fs layer\n",
            "b45c209a4d67: Waiting\n",
            "3f5a608df989: Waiting\n",
            "3306300f7441: Waiting\n",
            "d5f61fd90197: Waiting\n",
            "3c91cee49561: Waiting\n",
            "3166a3588baf: Waiting\n",
            "386667a0fc79: Waiting\n",
            "11df60c3c446: Waiting\n",
            "b3afe92c540b: Verifying Checksum\n",
            "b3afe92c540b: Download complete\n",
            "d22d2dfcfa9c: Verifying Checksum\n",
            "d22d2dfcfa9c: Download complete\n",
            "d519e2592276: Verifying Checksum\n",
            "d519e2592276: Download complete\n",
            "3f5a608df989: Verifying Checksum\n",
            "3f5a608df989: Download complete\n",
            "11df60c3c446: Verifying Checksum\n",
            "11df60c3c446: Download complete\n",
            "d5f61fd90197: Verifying Checksum\n",
            "d5f61fd90197: Download complete\n",
            "b45c209a4d67: Verifying Checksum\n",
            "b45c209a4d67: Download complete\n",
            "3166a3588baf: Verifying Checksum\n",
            "3166a3588baf: Download complete\n",
            "386667a0fc79: Verifying Checksum\n",
            "386667a0fc79: Download complete\n",
            "3c91cee49561: Verifying Checksum\n",
            "3c91cee49561: Download complete\n",
            "3306300f7441: Verifying Checksum\n",
            "3306300f7441: Download complete\n",
            "d519e2592276: Pull complete\n",
            "d22d2dfcfa9c: Pull complete\n",
            "b3afe92c540b: Pull complete\n",
            "b45c209a4d67: Pull complete\n",
            "3f5a608df989: Pull complete\n",
            "11df60c3c446: Pull complete\n",
            "3306300f7441: Pull complete\n",
            "d5f61fd90197: Pull complete\n",
            "3c91cee49561: Pull complete\n",
            "3166a3588baf: Pull complete\n",
            "386667a0fc79: Pull complete\n",
            "Digest: sha256:9c4f76b334a5add8bd2862ff33289658d267ba298f2d2424fa1a28a4e4cc2232\n",
            "Status: Downloaded newer image for mcr.microsoft.com/azureml/openmpi3.1.2-ubuntu18.04:20210301.v1@sha256:9c4f76b334a5add8bd2862ff33289658d267ba298f2d2424fa1a28a4e4cc2232\n",
            " ---> 821000375236\n",
            "Step 2/18 : USER root\n",
            " ---> Running in 9d1fe097ba27\n",
            "Removing intermediate container 9d1fe097ba27\n",
            " ---> b31e57809ff1\n",
            "Step 3/18 : RUN mkdir -p $HOME/.cache\n",
            " ---> Running in e03b80e9f53a\n",
            "Removing intermediate container e03b80e9f53a\n",
            " ---> 1a8978b7d564\n",
            "Step 4/18 : WORKDIR /\n",
            " ---> Running in 25aaccc2f015\n",
            "Removing intermediate container 25aaccc2f015\n",
            " ---> 1b53ea54d942\n",
            "Step 5/18 : COPY azureml-environment-setup/99brokenproxy /etc/apt/apt.conf.d/\n",
            " ---> 388c2b748cdd\n",
            "Step 6/18 : RUN if dpkg --compare-versions `conda --version | grep -oE '[^ ]+$'` lt 4.4.11; then conda install conda==4.4.11; fi\n",
            " ---> Running in 2f8f25c80fdb\n",
            "Removing intermediate container 2f8f25c80fdb\n",
            " ---> 6a380cab6ee4\n",
            "Step 7/18 : COPY azureml-environment-setup/mutated_conda_dependencies.yml azureml-environment-setup/mutated_conda_dependencies.yml\n",
            " ---> 215ed916195b\n",
            "Step 8/18 : RUN ldconfig /usr/local/cuda/lib64/stubs && conda env create -p /azureml-envs/azureml_8a03f2d75c873f89302fbfd583b951f3 -f azureml-environment-setup/mutated_conda_dependencies.yml && rm -rf \"$HOME/.cache/pip\" && conda clean -aqy && CONDA_ROOT_DIR=$(conda info --root) && rm -rf \"$CONDA_ROOT_DIR/pkgs\" && find \"$CONDA_ROOT_DIR\" -type d -name __pycache__ -exec rm -rf {} + && ldconfig\n",
            " ---> Running in c83b17be2ecf\n",
            "Collecting package metadata (repodata.json): ...working... done\n",
            "Solving environment: ...working... \u001b[91m\n",
            "Building graph of deps:   0%|          | 0/9 [00:00<?, ?it/s]\u001b[0m\u001b[91m\n",
            "Examining tensorflow=1.14.0:   0%|          | 0/9 [00:00<?, ?it/s]\u001b[0m\u001b[91m\n",
            "Examining scikit-learn=0.19.1:  11%|â–ˆ         | 1/9 [00:00<00:01,  6.80it/s]\u001b[0m\u001b[91m\n",
            "Examining scikit-learn=0.19.1:  22%|â–ˆâ–ˆâ–�       | 2/9 [00:00<00:00, 13.58it/s]\u001b[0m\u001b[91m\n",
            "Examining @/linux-64::__glibc==2.27=0:  22%|â–ˆâ–ˆâ–�       | 2/9 [00:01<00:00, 13.58it/s]\u001b[0m\u001b[91m\n",
            "Examining @/linux-64::__glibc==2.27=0:  33%|â–ˆâ–ˆâ–ˆâ–Ž      | 3/9 [00:01<00:02,  2.69it/s]\u001b[0m\u001b[91m\n",
            "Examining python=3.6.2:  33%|â–ˆâ–ˆâ–ˆâ–Ž      | 3/9 [00:01<00:02,  2.69it/s]               \u001b[0m\u001b[91m\n",
            "Examining @/linux-64::__unix==0=0:  44%|â–ˆâ–ˆâ–ˆâ–ˆâ–�     | 4/9 [00:01<00:01,  2.69it/s]\u001b[0m\u001b[91m\n",
            "Examining pip:  56%|â–ˆâ–ˆâ–ˆâ–ˆâ–ˆâ–Œ    | 5/9 [00:01<00:01,  2.69it/s]                    \u001b[0m\u001b[91m\n",
            "Examining pandas[version='>=1.0.0']:  67%|â–ˆâ–ˆâ–ˆâ–ˆâ–ˆâ–ˆâ–‹   | 6/9 [00:02<00:01,  2.69it/s]\u001b[0m\u001b[91m\n",
            "Examining pandas[version='>=1.0.0']:  78%|â–ˆâ–ˆâ–ˆâ–ˆâ–ˆâ–ˆâ–ˆâ–Š  | 7/9 [00:02<00:00,  2.57it/s]\u001b[0m\u001b[91m\n",
            "Examining numpy=1.19.2:  78%|â–ˆâ–ˆâ–ˆâ–ˆâ–ˆâ–ˆâ–ˆâ–Š  | 7/9 [00:04<00:00,  2.57it/s]             \u001b[0m\u001b[91m\n",
            "Examining numpy=1.19.2:  89%|â–ˆâ–ˆâ–ˆâ–ˆâ–ˆâ–ˆâ–ˆâ–ˆâ–‰ | 8/9 [00:04<00:00,  1.35it/s]\u001b[0m\u001b[91m\n",
            "Examining @/linux-64::__archspec==1=x86_64:  89%|â–ˆâ–ˆâ–ˆâ–ˆâ–ˆâ–ˆâ–ˆâ–ˆâ–‰ | 8/9 [00:04<00:00,  1.35it/s]\u001b[0m\u001b[91m\n",
            "Examining @/linux-64::__archspec==1=x86_64: 100%|â–ˆâ–ˆâ–ˆâ–ˆâ–ˆâ–ˆâ–ˆâ–ˆâ–ˆâ–ˆ| 9/9 [00:04<00:00,  1.81it/s]\n",
            "                                                                                         \u001b[0m\u001b[91m\n",
            "\n",
            "Determining conflicts:   0%|          | 0/9 [00:00<?, ?it/s]\u001b[0m\u001b[91m\n",
            "Examining conflict for tensorflow scikit-learn python pip pandas numpy:   0%|          | 0/9 [00:00<?, ?it/s]\u001b[0m\u001b[91m\n",
            "Examining conflict for tensorflow scikit-learn pip pandas numpy:  11%|â–ˆ         | 1/9 [00:01<00:09,  1.17s/it]\u001b[0m\u001b[91m\n",
            "Examining conflict for tensorflow scikit-learn pip pandas numpy:  22%|â–ˆâ–ˆâ–�       | 2/9 [00:01<00:04,  1.70it/s]\u001b[0m\n",
            "\u001b[91m\n",
            "Examining conflict for tensorflow scikit-learn python pip:  22%|â–ˆâ–ˆâ–�       | 2/9 [00:02<00:04,  1.70it/s]      \u001b[0m\u001b[91m\n",
            "Examining conflict for tensorflow scikit-learn python pip:  33%|â–ˆâ–ˆâ–ˆâ–Ž      | 3/9 [00:02<00:04,  1.26it/s]\u001b[0m\u001b[91m\n",
            "Examining conflict for tensorflow numpy pandas:  33%|â–ˆâ–ˆâ–ˆâ–Ž      | 3/9 [00:03<00:04,  1.26it/s]           \u001b[0m\u001b[91m\n",
            "Examining conflict for tensorflow numpy pandas:  44%|â–ˆâ–ˆâ–ˆâ–ˆâ–�     | 4/9 [00:03<00:04,  1.20it/s]\u001b[0m\u001b[91m\n",
            "Examining conflict for tensorflow scikit-learn numpy pandas:  44%|â–ˆâ–ˆâ–ˆâ–ˆâ–�     | 4/9 [00:03<00:04,  1.20it/s]\u001b[0m\u001b[91m\n",
            "Examining conflict for tensorflow scikit-learn numpy pandas:  56%|â–ˆâ–ˆâ–ˆâ–ˆâ–ˆâ–Œ    | 5/9 [00:03<00:03,  1.32it/s]\u001b[0m\u001b[91m\n",
            "Examining conflict for scikit-learn python numpy pandas:  56%|â–ˆâ–ˆâ–ˆâ–ˆâ–ˆâ–Œ    | 5/9 [00:05<00:03,  1.32it/s]    \u001b[0m\u001b[91m\n",
            "Examining conflict for scikit-learn python numpy pandas:  67%|â–ˆâ–ˆâ–ˆâ–ˆâ–ˆâ–ˆâ–‹   | 6/9 [00:05<00:02,  1.07it/s]\u001b[0m\u001b[91m\n",
            "Examining conflict for scikit-learn numpy pandas:  67%|â–ˆâ–ˆâ–ˆâ–ˆâ–ˆâ–ˆâ–‹   | 6/9 [00:06<00:02,  1.07it/s]       \u001b[0m\u001b[91m\n",
            "Examining conflict for scikit-learn numpy pandas:  78%|â–ˆâ–ˆâ–ˆâ–ˆâ–ˆâ–ˆâ–ˆâ–Š  | 7/9 [00:06<00:01,  1.03it/s]\u001b[0m\n",
            "\u001b[91m\n",
            "Examining conflict for scikit-learn numpy:  78%|â–ˆâ–ˆâ–ˆâ–ˆâ–ˆâ–ˆâ–ˆâ–Š  | 7/9 [00:12<00:01,  1.03it/s]       \u001b[0m\u001b[91m\n",
            "Examining conflict for scikit-learn numpy:  89%|â–ˆâ–ˆâ–ˆâ–ˆâ–ˆâ–ˆâ–ˆâ–ˆâ–‰ | 8/9 [00:12<00:02,  2.65s/it]\u001b[0m\u001b[91m\n",
            "Examining conflict for python pip:  89%|â–ˆâ–ˆâ–ˆâ–ˆâ–ˆâ–ˆâ–ˆâ–ˆâ–‰ | 8/9 [00:13<00:02,  2.65s/it]        \u001b[0m\u001b[91m\n",
            "Examining conflict for python pip: 100%|â–ˆâ–ˆâ–ˆâ–ˆâ–ˆâ–ˆâ–ˆâ–ˆâ–ˆâ–ˆ| 9/9 [00:13<00:00,  2.08s/it]\u001b[0m\u001b[91m\n",
            "Examining conflict for numpy pip pandas: 100%|â–ˆâ–ˆâ–ˆâ–ˆâ–ˆâ–ˆâ–ˆâ–ˆâ–ˆâ–ˆ| 9/9 [00:13<00:00,  2.08s/it]\u001b[0m\u001b[91m\n",
            "                                                                                      \u001b[0m\n",
            "Found conflicts! Looking for incompatible packages.\n",
            "This can take several minutes.  Press CTRL-C to abort.\n",
            "failed\n",
            "Solving environment: ...working... \u001b[91m\n",
            "\n",
            "Building graph of deps:   0%|          | 0/9 [00:00<?, ?it/s]\u001b[0m\u001b[91m\n",
            "Examining tensorflow=1.14.0:   0%|          | 0/9 [00:00<?, ?it/s]\u001b[0m\u001b[91m\n",
            "Examining scikit-learn=0.19.1:  11%|â–ˆ         | 1/9 [00:00<00:01,  6.17it/s]\u001b[0m\u001b[91m\n",
            "Examining scikit-learn=0.19.1:  22%|â–ˆâ–ˆâ–�       | 2/9 [00:00<00:00, 12.31it/s]\u001b[0m\u001b[91m\n",
            "Examining @/linux-64::__glibc==2.27=0:  22%|â–ˆâ–ˆâ–�       | 2/9 [00:01<00:00, 12.31it/s]\u001b[0m\u001b[91m\n",
            "Examining @/linux-64::__glibc==2.27=0:  33%|â–ˆâ–ˆâ–ˆâ–Ž      | 3/9 [00:01<00:02,  2.48it/s]\u001b[0m\u001b[91m\n",
            "Examining python=3.6.2:  33%|â–ˆâ–ˆâ–ˆâ–Ž      | 3/9 [00:01<00:02,  2.48it/s]               \u001b[0m\u001b[91m\n",
            "Examining @/linux-64::__unix==0=0:  44%|â–ˆâ–ˆâ–ˆâ–ˆâ–�     | 4/9 [00:01<00:02,  2.48it/s]\u001b[0m\u001b[91m\n",
            "Examining pip:  56%|â–ˆâ–ˆâ–ˆâ–ˆâ–ˆâ–Œ    | 5/9 [00:01<00:01,  2.48it/s]                    \u001b[0m\u001b[91m\n",
            "Examining pandas[version='>=1.0.0']:  67%|â–ˆâ–ˆâ–ˆâ–ˆâ–ˆâ–ˆâ–‹   | 6/9 [00:03<00:01,  2.48it/s]\u001b[0m\u001b[91m\n",
            "Examining pandas[version='>=1.0.0']:  78%|â–ˆâ–ˆâ–ˆâ–ˆâ–ˆâ–ˆâ–ˆâ–Š  | 7/9 [00:03<00:00,  2.38it/s]\u001b[0m\u001b[91m\n",
            "Examining numpy=1.19.2:  78%|â–ˆâ–ˆâ–ˆâ–ˆâ–ˆâ–ˆâ–ˆâ–Š  | 7/9 [00:04<00:00,  2.38it/s]             \u001b[0m\u001b[91m\n",
            "Examining numpy=1.19.2:  89%|â–ˆâ–ˆâ–ˆâ–ˆâ–ˆâ–ˆâ–ˆâ–ˆâ–‰ | 8/9 [00:04<00:00,  1.28it/s]\u001b[0m\u001b[91m\n",
            "Examining @/linux-64::__archspec==1=x86_64:  89%|â–ˆâ–ˆâ–ˆâ–ˆâ–ˆâ–ˆâ–ˆâ–ˆâ–‰ | 8/9 [00:04<00:00,  1.28it/s]\u001b[0m\u001b[91m\n",
            "Examining @/linux-64::__archspec==1=x86_64: 100%|â–ˆâ–ˆâ–ˆâ–ˆâ–ˆâ–ˆâ–ˆâ–ˆâ–ˆâ–ˆ| 9/9 [00:04<00:00,  1.73it/s]\n",
            "                                                                                         \u001b[0m\u001b[91m\n",
            "\n",
            "Determining conflicts:   0%|          | 0/9 [00:00<?, ?it/s]\u001b[0m\u001b[91m\n",
            "Examining conflict for tensorflow scikit-learn python pip pandas numpy:   0%|          | 0/9 [00:00<?, ?it/s]\u001b[0m\u001b[91m\n",
            "Examining conflict for tensorflow scikit-learn pip pandas numpy:  11%|â–ˆ         | 1/9 [00:01<00:10,  1.34s/it]\u001b[0m\u001b[91m\n",
            "Examining conflict for tensorflow scikit-learn pip pandas numpy:  22%|â–ˆâ–ˆâ–�       | 2/9 [00:01<00:04,  1.50it/s]\u001b[0m\u001b[91m\n",
            "Examining conflict for tensorflow scikit-learn python pip:  22%|â–ˆâ–ˆâ–�       | 2/9 [00:02<00:04,  1.50it/s]      \u001b[0m\u001b[91m\n",
            "Examining conflict for tensorflow scikit-learn python pip:  33%|â–ˆâ–ˆâ–ˆâ–Ž      | 3/9 [00:02<00:05,  1.20it/s]\u001b[0m\n",
            "\u001b[91m\n",
            "Examining conflict for tensorflow numpy pandas:  33%|â–ˆâ–ˆâ–ˆâ–Ž      | 3/9 [00:03<00:05,  1.20it/s]           \u001b[0m\u001b[91m\n",
            "Examining conflict for tensorflow numpy pandas:  44%|â–ˆâ–ˆâ–ˆâ–ˆâ–�     | 4/9 [00:03<00:04,  1.11it/s]\u001b[0m\u001b[91m\n",
            "Examining conflict for tensorflow scikit-learn numpy pandas:  44%|â–ˆâ–ˆâ–ˆâ–ˆâ–�     | 4/9 [00:04<00:04,  1.11it/s]\u001b[0m\u001b[91m\n",
            "Examining conflict for tensorflow scikit-learn numpy pandas:  56%|â–ˆâ–ˆâ–ˆâ–ˆâ–ˆâ–Œ    | 5/9 [00:04<00:03,  1.26it/s]\u001b[0m\u001b[91m\n",
            "Examining conflict for scikit-learn python numpy pandas:  56%|â–ˆâ–ˆâ–ˆâ–ˆâ–ˆâ–Œ    | 5/9 [00:05<00:03,  1.26it/s]    \u001b[0m\u001b[91m\n",
            "Examining conflict for scikit-learn python numpy pandas:  67%|â–ˆâ–ˆâ–ˆâ–ˆâ–ˆâ–ˆâ–‹   | 6/9 [00:05<00:02,  1.08it/s]\u001b[0m\u001b[91m\n",
            "Examining conflict for scikit-learn numpy pandas:  67%|â–ˆâ–ˆâ–ˆâ–ˆâ–ˆâ–ˆâ–‹   | 6/9 [00:06<00:02,  1.08it/s]       \u001b[0m\u001b[91m\n",
            "Examining conflict for scikit-learn numpy pandas:  78%|â–ˆâ–ˆâ–ˆâ–ˆâ–ˆâ–ˆâ–ˆâ–Š  | 7/9 [00:06<00:01,  1.02it/s]\u001b[0m\u001b[91m\n",
            "Examining conflict for scikit-learn numpy:  78%|â–ˆâ–ˆâ–ˆâ–ˆâ–ˆâ–ˆâ–ˆâ–Š  | 7/9 [00:13<00:01,  1.02it/s]       \u001b[0m\u001b[91m\n",
            "Examining conflict for scikit-learn numpy:  89%|â–ˆâ–ˆâ–ˆâ–ˆâ–ˆâ–ˆâ–ˆâ–ˆâ–‰ | 8/9 [00:13<00:02,  2.67s/it]\u001b[0m\n",
            "\u001b[91m\n",
            "Examining conflict for python pip:  89%|â–ˆâ–ˆâ–ˆâ–ˆâ–ˆâ–ˆâ–ˆâ–ˆâ–‰ | 8/9 [00:13<00:02,  2.67s/it]        \u001b[0m\u001b[91m\n",
            "Examining conflict for python pip: 100%|â–ˆâ–ˆâ–ˆâ–ˆâ–ˆâ–ˆâ–ˆâ–ˆâ–ˆâ–ˆ| 9/9 [00:13<00:00,  2.09s/it]\u001b[0m\u001b[91m\n",
            "Examining conflict for numpy pip pandas: 100%|â–ˆâ–ˆâ–ˆâ–ˆâ–ˆâ–ˆâ–ˆâ–ˆâ–ˆâ–ˆ| 9/9 [00:13<00:00,  2.09s/it]\u001b[0m\u001b[91m\n",
            "                                                                                      \u001b[0m\n",
            "Found conflicts! Looking for incompatible packages.\n",
            "This can take several minutes.  Press CTRL-C to abort.\n",
            "failed\n",
            "\u001b[91m\n",
            "UnsatisfiableError: The following specifications were found to be incompatible with each other:\n",
            "\n",
            "Output in format: Requested package -> Available versions\n",
            "\n",
            "Package _libgcc_mutex conflicts for:\n",
            "pandas[version='>=1.0.0'] -> libgcc-ng[version='>=7.3.0'] -> _libgcc_mutex=[build=main]\n",
            "numpy=1.19.2 -> libgcc-ng[version='>=7.3.0'] -> _libgcc_mutex=[build=main]\n",
            "python=3.6.2 -> libgcc-ng[version='>=7.2.0'] -> _libgcc_mutex=[build=main]\n",
            "scikit-learn=0.19.1 -> libgcc-ng[version='>=7.2.0'] -> _libgcc_mutex=[build=main]\n",
            "\n",
            "Package tzdata conflicts for:\n",
            "numpy=1.19.2 -> python[version='>=3.9,<3.10.0a0'] -> tzdata\n",
            "pandas[version='>=1.0.0'] -> python[version='>=3.9,<3.10.0a0'] -> tzdata\n",
            "pip -> python[version='>=3.9,<3.10.0a0'] -> tzdata\n",
            "\n",
            "Package python conflicts for:\n",
            "numpy=1.19.2 -> mkl-service[version='>=2,<3.0a0'] -> python[version='>=2.7,<2.8.0a0|>=3.5,<3.6.0a0']\n",
            "scikit-learn=0.19.1 -> numpy[version='>=1.11.3,<2.0a0'] -> python[version='>=3.8,<3.9.0a0|>=3.9,<3.10.0a0']\n",
            "tensorflow=1.14.0 -> tensorboard[version='>=1.14.0,<1.15.0'] -> python[version='>=2.7,<2.8.0a0|>=3.6,<3.7.0a0|>=3.7,<3.8.0a0']\n",
            "pip -> wheel -> python\n",
            "numpy=1.19.2 -> python[version='>=3.6,<3.7.0a0|>=3.8,<3.9.0a0|>=3.9,<3.10.0a0|>=3.7,<3.8.0a0']\n",
            "pandas[version='>=1.0.0'] -> python[version='>=3.6,<3.7.0a0|>=3.7,<3.8.0a0|>=3.8,<3.9.0a0|>=3.9,<3.10.0a0']\n",
            "scikit-learn=0.19.1 -> python[version='>=2.7,<2.8.0a0|>=3.6,<3.7.0a0|>=3.7,<3.8.0a0|>=3.5,<3.6.0a0']\n",
            "pip -> python[version='>=2.7,<2.8.0a0|>=3.6,<3.7.0a0|>=3.9,<3.10.0a0|>=3.7,<3.8.0a0|>=3.8,<3.9.0a0|>=3.5,<3.6.0a0']\n",
            "tensorflow=1.14.0 -> python[version='2.7.*|3.6.*|3.7.*']\n",
            "pandas[version='>=1.0.0'] -> python-dateutil[version='>=2.7.3'] -> python[version='>=2.7,<2.8.0a0|>=3.5,<3.6.0a0']\n",
            "\n",
            "Package six conflicts for:\n",
            "numpy=1.19.2 -> mkl-service[version='>=2,<3.0a0'] -> six\n",
            "pandas[version='>=1.0.0'] -> python-dateutil[version='>=2.7.3'] -> six[version='>=1.5']\n",
            "tensorflow=1.14.0 -> tensorboard[version='>=1.14.0,<1.15.0'] -> six[version='>=1.10.0']\n",
            "\n",
            "Package mkl conflicts for:\n",
            "scikit-learn=0.19.1 -> numpy[version='>=1.11.3,<2.0a0'] -> mkl[version='>=2018.0.1,<2019.0a0|>=2018.0.2,<2019.0a0|>=2019.1,<2021.0a0|>=2019.3,<2021.0a0|>=2019.4,<2021.0a0|>=2021.2.0,<2022.0a0|>=2019.4,<2020.0a0']\n",
            "scikit-learn=0.19.1 -> mkl[version='>=2018.0.0,<2019.0a0|>=2018.0.3,<2019.0a0']\n",
            "\n",
            "Package libopenblas conflicts for:\n",
            "scikit-learn=0.19.1 -> libopenblas[version='>=0.2.20,<0.2.21.0a0']\n",
            "scikit-learn=0.19.1 -> numpy[version='>=1.11.3,<2.0a0'] -> libopenblas[version='>=0.3.2,<0.3.3.0a0|>=0.3.3,<1.0a0']\n",
            "\n",
            "Package ca-certificates conflicts for:\n",
            "scikit-learn=0.19.1 -> python[version='>=2.7,<2.8.0a0'] -> ca-certificates\n",
            "python=3.6.2 -> openssl=1.0 -> ca-certificates\n",
            "tensorflow=1.14.0 -> python=2.7 -> ca-certificates\n",
            "pip -> python[version='>=2.7,<2.8.0a0'] -> ca-certificates\n",
            "\n",
            "Package intel-openmp conflicts for:\n",
            "scikit-learn=0.19.1 -> mkl[version='>=2018.0.3,<2019.0a0'] -> intel-openmp\n",
            "numpy=1.19.2 -> mkl[version='>=2019.4,<2021.0a0'] -> intel-openmp\n",
            "\n",
            "Package ld_impl_linux-64 conflicts for:\n",
            "scikit-learn=0.19.1 -> python[version='>=3.6,<3.7.0a0'] -> ld_impl_linux-64\n",
            "tensorflow=1.14.0 -> python=3.6 -> ld_impl_linux-64\n",
            "pip -> python[version='>=3.6,<3.7.0a0'] -> ld_impl_linux-64\n",
            "pandas[version='>=1.0.0'] -> python[version='>=3.7,<3.8.0a0'] -> ld_impl_linux-64\n",
            "numpy=1.19.2 -> python[version='>=3.9,<3.10.0a0'] -> ld_impl_linux-64\n",
            "\n",
            "Package numpy conflicts for:\n",
            "scikit-learn=0.19.1 -> scipy -> numpy[version='>=1.14.6,<2.0a0|>=1.16.6,<2.0a0|>=1.15.1,<2.0a0']\n",
            "pandas[version='>=1.0.0'] -> numpy[version='>=1.14.6,<2.0a0|>=1.15.4,<2.0a0|>=1.16.6,<2.0a0|>=1.19.2,<2.0a0']\n",
            "scikit-learn=0.19.1 -> numpy[version='>=1.11.3,<2.0a0|>=1.9.3,<2.0a0']\n",
            "numpy=1.19.2\n",
            "tensorflow=1.14.0 -> tensorboard[version='>=1.14.0,<1.15.0'] -> numpy[version='>=1.12.0|>=1.14.6,<2.0a0']\n",
            "\n",
            "Package setuptools conflicts for:\n",
            "python=3.6.2 -> pip -> setuptools\n",
            "pip -> setuptools\n",
            "\n",
            "Package numpy-base conflicts for:\n",
            "pandas[version='>=1.0.0'] -> numpy[version='>=1.19.2,<2.0a0'] -> numpy-base[version='1.14.6|1.14.6|1.14.6|1.14.6|1.14.6|1.14.6|1.14.6|1.14.6|1.14.6|1.14.6|1.14.6|1.14.6|1.14.6|1.14.6|1.14.6|1.14.6|1.15.0\u001b[0m\u001b[91m|1.15.0|1.15.0|1.15.0|1.15.0|1.15.0|1.15.0|1.15.0|1.15.1|1.15.1|1.15.1|1.15.1|1.15.1|1.15.1|1.15.1|1.15.1|1.15.1|1.15.1|1.15.1|1.15.1|1.15.2|1.15.2|1.15.2|1.15.2|1.15.2|1.15.2|1.15.2|1.15.2|1.15.2|1.15.2|1.15.2|1.15.2|1.15.2|1.15.2|1.15.3|1.15.3|1.15.3|1.15.3|1.15.3|1.15.3|1.15.4|1.15.4|1.15.4|1.15.4|1.15.4|1.15.4|1.15.4|1.15.4|1.15.4|1.16.0|1.16.0|1.16.0|1.16.0|1.16.0|1.16.0|1.16.0|1.16.0|1.16.0|1.16.0|1.16.0|1.16.0|1.16.1|1.16.1|1.16.1|1.16.1|1.16.1|1.16.1|1.16.1|1.16.1|1.16.1|1.16.1|1.16.1|1.16.1|1.16.2|1.16.2|1.16.2|1.16.2|1.16.2|1.16.2|1.16.3|1.16.3|1.16.3|1.16.3|1.16.3|1.16.3|1.16.4|1.16.4|1.16.4|1.16.4|1.16.4|1.16.4|1.16.5|1.16.5|1.16.5|1.16.5|1.16.5|1.16.5|1.16.6|1.16.6|1.16.6|1.16.6|1.16.6|1.16.6|1.16.6|1.16.6|1.16.6|1.16.6|1.16.6|1.16.6|1.16.6|1.16.6|1.16.6|1.16.6|1.16.6|1.16.6|1.17.2.*|1.17.3.*|1.17.4.*|1.18.1.*|1.18.5.*|1.19.1|1.19.1|1.19.1|1.19.1|1.19.1|1.19.1|1.19.2|1.19.2|1.19.2|1.19.2|1.19.2|1.19.2|1.19.2|1.19.2|1.20.1|1.20.1|1.20.1|1.20.1|1.20.1|1.20.1|1.20.2|1.17.0|1.17.0|1.17.0|1.17.0',build='py36h2f8d375_4|py35h81de0dd_4|py36h81de0dd_4|py38hde5b4d6_4|py27h2f8d375_5|py27hde5b4d6_5|py36hde5b4d6_5|py37h7cdd4dd_0|py35h7cdd4dd_0|py36h3dfced4_0|py35h74e8950_0|py27h74e8950_0|py37h74e8950_0|py27h81de0dd_0|py35h2f8d375_0|py36h2f8d375_0|py37h2f8d375_0|py37h2f8d375_0|py27h81de0dd_0|py36h2f8d375_0|py36h81de0dd_0|py36h2f8d375_1|py27h2f8d375_1|py27h81de0dd_1|py36h81de0dd_1|py37h81de0dd_1|py37h2f8d375_1|py36h2f8d375_0|py37h2f8d375_0|py36h81de0dd_0|py37h81de0dd_0|py36h2f8d375_0|py27h2f8d375_0|py37h81de0dd_0|py36h81de0dd_0|py27hde5b4d6_0|py36hde5b4d6_0|py27h2f8d375_0|py37h2f8d375_0|py37hde5b4d6_0|py36h2f8d375_0|py27hde5b4d6_0|py37h2f8d375_1|py36h2f8d375_1|py27hde5b4d6_1|py37h2f8d375_0|py36h2f8d375_0|py36hde5b4d6_0|py27hde5b4d6_0|py27h2f8d375_1|py36h2f8d375_1|py37hde5b4d6_1|py36hde5b4d6_1|py27hde5b4d6_1|py36h2f8d375_0|py27hde5b4d6_0|py36hde5b4d6_0|py37h2f8d375_0|py37hde5b4d6_0|py27hde5b4d6_0|py36hde5b4d6_0|py36h2f8d375_0|py37h2f8d375_0|py27hde5b4d6_0|py36hde5b4d6_0|py36h2f8d375_0|py27hde5b4d6_0|py36hde5b4d6_0|py36h2f8d375_0|py37h2f8d375_0|py37h2f8d375_0|py36h2f8d375_0|py36hde5b4d6_0|py38hde5b4d6_0|py27h2f8d375_0|py27hde5b4d6_0|py39hfb011de_1|py39h76555f2_1|py39h41b4c56_3|py38h41b4c56_3|py36h41b4c56_3|py36hdc34a94_3|py39hdc34a94_3|py37hdc34a94_3|py37hfa32c7d_0|py38h75fe3a5_0|py38hfa32c7d_0|py38h75fe3a5_0|py36h75fe3a5_0|py39h0f7b65f_0|py39h34387ca_0|py38h34387ca_0|py39h7d8b39e_0|py38he2ba247_0|py38hfae3a4d_0|py37hfae3a4d_0|py39hfae3a4d_0|py37he2ba247_0|py39he2ba247_0|py38h7d8b39e_0|py37h7d8b39e_0|py37h34387ca_0|py39h2ae0177_0|py38hfa32c7d_0|py36hfa32c7d_0|py37h75fe3a5_0|py37hfa32c7d_0|py37h75fe3a5_0|py36h75fe3a5_0|py36hfa32c7d_0|py38hdc34a94_3|py37h41b4c56_3|py38h2f8d375_0|py37hde5b4d6_0|py36hde5b4d6_0|py37hde5b4d6_0|py37hde5b4d6_0|py37h2f8d375_0|py27h2f8d375_0|py37hde5b4d6_0|py27h2f8d375_0|py36h2f8d375_0|py27h2f8d375_0|py37hde5b4d6_0|py27h2f8d375_0|py37h2f8d375_0|py37h2f8d375_1|py37hde5b4d6_0|py27h2f8d375_0|py36hde5b4d6_1|py37hde5b4d6_1|py27h2f8d375_1|py36hde5b4d6_0|py37hde5b4d6_0|py27h81de0dd_0|py37h2f8d375_0|py27h81de0dd_0|py27h2f8d375_0|py35h2f8d375_0|py35h81de0dd_0|py37h81de0dd_0|py27h2f8d375_0|py27h2f8d375_0|py35h81de0dd_0|py37h81de0dd_0|py36h81de0dd_0|py36h74e8950_0|py37h3dfced4_0|py35h3dfced4_0|py27h3dfced4_0|py36h7cdd4dd_0|py27h7cdd4dd_0|py37hde5b4d6_5|py37h2f8d375_5|py36h2f8d375_5|py38h2f8d375_4|py37h81de0dd_4|py27h2f8d375_4|py27h81de0dd_4|py35h2f8d375_4|py37h2f8d375_4']\n",
            "scikit-learn=0.19.1 -> numpy[version='>=1.11.3,<2.0a0'] -> numpy-base[version='1.11.3|1.11.3|1.11.3|1.11.3|1.11.3|1.11.3|1.11.3|1.11.3|1.11.3|1.11.3|1.11.3|1.11.3|1.11.3|1.11.3|1.11.3|1.11.3|1.11.3|1.11.3|1.11.3|1.11.3|1.11.3|1.11.3|1.11.3|1.11.3|1.11.3|1.11.3|1.11.3|1.11.3|1.11.3|1.11.3|1.11.3|1.11.3|1.11.3|1.11.3|1.11.3|1.11.3|1.11.3|1.11.3|1.11.3|1.11.3|1.11.3|1.11.3|1.11.3|1.11.3|1.11.3|1.11.3|1.11.3|1.11.3|1.11.3|1.11.3|1.11.3|1.11.3|1.11.3|1.11.3|1.11.3|1.11.3|1.14.3|1.14.3|1.14.3|1.14.3|1.14.3|1.14.3|1.14.4|1.14.4|1.14.4|1.14.4|1.14.4|1.14.4|1.14.5|1.14.5|1.14.5|1.14.5|1.14.5|1.14.5|1.14.5|1.14.5|1.14.5|1.14.5|1.14.5|1.14.5|1.14.5|1.14.5\u001b[0m\u001b[91m|1.14.5|1.14.5|1.14.5|1.14.5|1.14.5|1.14.5|1.14.5|1.14.5|1.14.5|1.14.5|1.14.5|1.14.5|1.14.5|1.14.5|1.14.5|1.14.5|1.14.5|1.14.6|1.14.6|1.14.6|1.14.6|1.14.6|1.14.6|1.14.6|1.14.6|1.14.6|1.14.6|1.14.6|1.14.6|1.14.6|1.14.6|1.14.6|1.14.6|1.15.0|1.15.0|1.15.0|1.15.0|1.15.0|1.15.0|1.15.0|1.15.0|1.15.1|1.15.1|1.15.1|1.15.1|1.15.1|1.15.1|1.15.1|1.15.1|1.15.1|1.15.1|1.15.1|1.15.1|1.15.2|1.15.2|1.15.2|1.15.2|1.15.2|1.15.2|1.15.2|1.15.2|1.15.2|1.15.2|1.15.2|1.15.2|1.15.2|1.15.2|1.15.3|1.15.3|1.15.3|1.15.3|1.15.3|1.15.3|1.15.4|1.15.4|1.15.4|1.15.4|1.15.4|1.15.4|1.15.4|1.15.4|1.15.4|1.16.0|1.16.0|1.16.0|1.16.0|1.16.0|1.16.0|1.16.0|1.16.0|1.16.0|1.16.0|1.16.0|1.16.0|1.16.1|1.16.1|1.16.1|1.16.1|1.16.1|1.16.1|1.16.1|1.16.1|1.16.1|1.16.1|1.16.1|1.16.1|1.16.2|1.16.2|1.16.2|1.16.2|1.16.2|1.16.2|1.16.3|1.16.3|1.16.3|1.16.3|1.16.3|1.16.3|1.16.4|1.16.4|1.16.4|1.16.4|1.16.4|1.16.4|1.16.5|1.16.5|1.16.5|1.16.5|1.16.5|1.16.5|1.16.6|1.16.6|1.16.6|1.16.6|1.16.6|1.16.6|1.16.6|1.16.6|1.16.6|1.16.6|1.16.6|1.16.6|1.16.6|1.16.6|1.16.6|1.16.6|1.16.6|1.16.6|1.17.2.*|1.17.3.*|1.17.4.*|1.18.1.*|1.18.5.*|1.19.1|1.19.1|1.19.1|1.19.1|1.19.1|1.19.1|1.19.2|1.19.2|1.19.2|1.19.2|1.19.2|1.19.2|1.19.2|1.19.2|1.20.1|1.20.1|1.20.1|1.20.1|1.20.1|1.20.1|1.20.2|1.17.0|1.17.0|1.17.0|1.17.0|1.9.3|1.9.3|1.9.3|1.9.3|1.9.3|1.9.3|1.9.3|1.9.3|1.9.3|1.9.3|1.9.3|1.9.3|1.9.3|1.9.3|>=1.9.3,<2.0a0',build='py36h2b20989_6|py27hdbf6ddf_6|py27h2b20989_7|py36hdbf6ddf_7|py36h2b20989_7|py35hdbf6ddf_7|py35h2b20989_7|py36h2f8d375_0|py37h2f8d375_0|py36hde5b4d6_0|py27h2b20989_7|py36h2b20989_7|py36hdbf6ddf_7|py36h2b20989_8|py37hdbf6ddf_8|py37h2b20989_8|py27h2b20989_8|py35hdbf6ddf_8|py36h7cdd4dd_9|py36h3dfced4_9|py27h3dfced4_9|py36h81de0dd_9|py36h74e8950_9|py27h81de0dd_9|py37h74e8950_10|py27h81de0dd_10|py37h81de0dd_10|py37h2f8d375_10|py36h2f8d375_10|py27h2f8d375_10|py35h2f8d375_10|py37h2f8d375_11|py36hde5b4d6_11|py27hde5b4d6_11|py27h2f8d375_12|py27hde5b4d6_12|py37hde5b4d6_12|py38hde5b4d6_12|py38h2f8d375_12|py27h0ea5e3f_1|py35h0ea5e3f_1|py36h9be14a7_1|py27h9be14a7_1|py35h9be14a7_1|py27hdbf6ddf_0|py36h2b20989_0|py36hdbf6ddf_0|py27hdbf6ddf_0|py35hdbf6ddf_0|py36h2b20989_1|py37h2b20989_1|py36hdbf6ddf_1|py37hdbf6ddf_1|py27h2b20989_1|py36h2b20989_2|py37h2b20989_2|py27hdbf6ddf_2|py37hdbf6ddf_2|py36hdbf6ddf_2|py37hdbf6ddf_3|py27h2b20989_3|py27hdbf6ddf_4|py37h2b20989_4|py37hdbf6ddf_4|py36hdbf6ddf_4|py35h2f8d375_4|py36h2f8d375_4|py27h2f8d375_4|py37h81de0dd_4|py36h81de0dd_4|py38hde5b4d6_4|py27h2f8d375_5|py27hde5b4d6_5|py36hde5b4d6_5|py37h7cdd4dd_0|py36h3dfced4_0|py35h74e8950_0|py27h74e8950_0|py37h74e8950_0|py27h81de0dd_0|py36h2f8d375_0|py37h2f8d375_0|py27h2f8d375_0|py37h81de0dd_0|py27h81de0dd_0|py35h2f8d375_0|py36h81de0dd_0|py36h2f8d375_1|py27h2f8d375_1|py27h81de0dd_1|py36h81de0dd_1|py37h81de0dd_1|py37h2f8d375_1|py27h2f8d375_0|py36h2f8d375_0|py37h2f8d375_0|py37h2f8d375_0|py37h81de0dd_0|py27h81de0dd_0|py27hde5b4d6_0|py36hde5b4d6_0|py37h2f8d375_0|py36h2f8d375_0|py27hde5b4d6_0|py36hde5b4d6_0|py37h2f8d375_1|py27h2f8d375_1|py36h2f8d375_1|py27hde5b4d6_1|py37h2f8d375_0|py27h2f8d375_0|py36h2f8d375_0|py36hde5b4d6_0|py37hde5b4d6_0|py27hde5b4d6_0|py27h2f8d375_1|py37h2f8d375_1|py36h2f8d375_1|py37hde5b4d6_1|py36hde5b4d6_1|py27hde5b4d6_1|py36h2f8d375_0|py27h2f8d375_0|py27hde5b4d6_0|py36hde5b4d6_0|py27h2f8d375_0|py37h2f8d375_0|py27hde5b4d6_0|py36h2f8d375_0|py27hde5b4d6_0|py36h2f8d375_0|py27h2f8d375_0|py37h2f8d375_0|py27hde5b4d6_0|py37h2f8d375_0|py36h2f8d375_0|py36hde5b4d6_0|py38hde5b4d6_0|py27h2f8d375_0|py27hde5b4d6_0|py39hfb011de_1|py39h76555f2_1|py39h41b4c56_3|py38h41b4c56_3|py36h41b4c56_3|py36hdc34a94_3|py39hdc34a94_3|py37hdc34a94_3|py37hfa32c7d_0|py38h75fe3a5_0|py38hfa32c7d_0|py38h75fe3a5_0|py36h75fe3a5_0|py39h0f7b65f_0|py39h34387ca_0|py38h34387ca_0|py39h7d8b39e_0|py38he2ba247_0|py38hfae3a4d_0|py37hfae3a4d_0|py39hfae3a4d_0|py37he2ba247_0|py39he2ba247_0|py38h7d8b39e_0|py37h7d8b39e_0|py37h34387ca_0|py39h2ae0177_0|py38hfa32c7d_0|py36hfa32c7d_0|py37h75fe3a5_0|py37hfa32c7d_0|py37h75fe3a5_0|py36h75fe3a5_0|py36hfa32c7d_0|py38hdc34a94_3|py37h41b4c56_3|py38h2f8d375_0|py37hde5b4d6_0|py36hde5b4d6_0|py37hde5b4d6_0|py36hde5b4d6_0|py\u001b[0m\u001b[91m37hde5b4d6_0|py37h2f8d375_0|py27h2f8d375_0|py36hde5b4d6_0|py37hde5b4d6_0|py36h2f8d375_0|py37hde5b4d6_0|py37h2f8d375_0|py36hde5b4d6_1|py37hde5b4d6_1|py37hde5b4d6_0|py27h2f8d375_0|py37hde5b4d6_0|py36h81de0dd_0|py27h2f8d375_0|py36h2f8d375_0|py37h81de0dd_0|py36h81de0dd_0|py27h81de0dd_0|py36h2f8d375_0|py35h81de0dd_0|py37h2f8d375_0|py27h2f8d375_0|py35h2f8d375_0|py35h81de0dd_0|py37h81de0dd_0|py36h81de0dd_0|py36h74e8950_0|py37h3dfced4_0|py35h3dfced4_0|py27h3dfced4_0|py35h7cdd4dd_0|py36h7cdd4dd_0|py27h7cdd4dd_0|py37hde5b4d6_5|py37h2f8d375_5|py36h2f8d375_5|py38h2f8d375_4|py35h81de0dd_4|py27h81de0dd_4|py37h2f8d375_4|py35h2b20989_4|py35hdbf6ddf_4|py36h2b20989_4|py27h2b20989_4|py27hdbf6ddf_3|py36hdbf6ddf_3|py37h2b20989_3|py36h2b20989_3|py27h2b20989_2|py27hdbf6ddf_1|py27h2b20989_0|py35hdbf6ddf_0|py36hdbf6ddf_0|py35h2b20989_0|py36h2b20989_0|py27h2b20989_0|py36h0ea5e3f_1|py36hde5b4d6_12|py36h2f8d375_12|py37h2f8d375_12|py37hde5b4d6_11|py36h2f8d375_11|py27h2f8d375_11|py35h81de0dd_10|py36h81de0dd_10|py36h74e8950_10|py27h74e8950_10|py35h74e8950_10|py35h81de0dd_9|py37h74e8950_9|py35h74e8950_9|py27h74e8950_9|py37h81de0dd_9|py35h3dfced4_9|py37h3dfced4_9|py37h7cdd4dd_9|py27h7cdd4dd_9|py35h7cdd4dd_9|py35h2b20989_8|py27hdbf6ddf_8|py36hdbf6ddf_8|py37hdbf6ddf_7|py27hdbf6ddf_7|py37h2b20989_7|py37hde5b4d6_0|py37h2b20989_7|py37hdbf6ddf_7|py27hdbf6ddf_7|py36hdbf6ddf_6|py37hdbf6ddf_6|py37h2b20989_6|py27h2b20989_6']\n",
            "numpy=1.19.2 -> mkl_fft -> numpy-base[version='>=1.0.14,<2.0a0|>=1.0.6,<2.0a0|>=1.0.2,<2.0a0|>=1.0.4,<2.0a0']\n",
            "numpy=1.19.2 -> numpy-base==1.19.2[build='py37hfa32c7d_0|py38h75fe3a5_0|py37h75fe3a5_0|py39h0f7b65f_0|py39h2ae0177_0|py38hfa32c7d_0|py36hfa32c7d_0|py36h75fe3a5_0']\n",
            "\n",
            "\u001b[0mThe command '/bin/sh -c ldconfig /usr/local/cuda/lib64/stubs && conda env create -p /azureml-envs/azureml_8a03f2d75c873f89302fbfd583b951f3 -f azureml-environment-setup/mutated_conda_dependencies.yml && rm -rf \"$HOME/.cache/pip\" && conda clean -aqy && CONDA_ROOT_DIR=$(conda info --root) && rm -rf \"$CONDA_ROOT_DIR/pkgs\" && find \"$CONDA_ROOT_DIR\" -type d -name __pycache__ -exec rm -rf {} + && ldconfig' returned a non-zero code: 1\n",
            "2021/05/26 06:45:07 Container failed during run: acb_step_0. No retries remaining.\n",
            "failed to run step ID: acb_step_0: exit status 1\n",
            "\n",
            "Run ID: db1 failed after 1m44s. Error: failed during run, err: exit status 1\n",
            "\n",
            "Execution Summary\n",
            "=================\n",
            "RunId: train-tsgen_1622011371_4cc25371\n",
            "Web View: https://ml.azure.com/runs/train-tsgen_1622011371_4cc25371?wsid=/subscriptions/4ba7b086-969d-41c4-a647-2784cde6af4b/resourcegroups/ResearchProj/workspaces/ReactionModelling&tid=1faf88fe-a998-4c5b-93c9-210a11d9a5c2\n"
          ]
        },
        {
          "ename": "ExecutionException",
          "evalue": "Run (ID 'train-tsgen_1622011371_4cc25371') failed",
          "output_type": "error",
          "traceback": [
            "\u001b[0;31m---------------------------------------------------------------------------\u001b[0m",
            "\u001b[0;31mExecutionException\u001b[0m                        Traceback (most recent call last)",
            "\u001b[0;32m<ipython-input-4-09734e73ab8a>\u001b[0m in \u001b[0;36m<module>\u001b[0;34m()\u001b[0m\n\u001b[1;32m      4\u001b[0m                                     \u001b[0mbackend\u001b[0m \u001b[0;34m=\u001b[0m \u001b[0;34m\"azureml\"\u001b[0m\u001b[0;34m,\u001b[0m\u001b[0;34m\u001b[0m\u001b[0;34m\u001b[0m\u001b[0m\n\u001b[1;32m      5\u001b[0m                                     \u001b[0mbackend_config\u001b[0m \u001b[0;34m=\u001b[0m \u001b[0mbackend_config\u001b[0m\u001b[0;34m,\u001b[0m\u001b[0;34m\u001b[0m\u001b[0;34m\u001b[0m\u001b[0m\n\u001b[0;32m----> 6\u001b[0;31m                                     synchronous=True)\n\u001b[0m",
            "\u001b[0;32m/anaconda/envs/tsir-rdkit-env/lib/python3.6/site-packages/mlflow/projects/__init__.py\u001b[0m in \u001b[0;36mrun\u001b[0;34m(uri, entry_point, version, parameters, docker_args, experiment_name, experiment_id, backend, backend_config, use_conda, storage_dir, synchronous, run_id)\u001b[0m\n\u001b[1;32m    305\u001b[0m     )\n\u001b[1;32m    306\u001b[0m     \u001b[0;32mif\u001b[0m \u001b[0msynchronous\u001b[0m\u001b[0;34m:\u001b[0m\u001b[0;34m\u001b[0m\u001b[0;34m\u001b[0m\u001b[0m\n\u001b[0;32m--> 307\u001b[0;31m         \u001b[0m_wait_for\u001b[0m\u001b[0;34m(\u001b[0m\u001b[0msubmitted_run_obj\u001b[0m\u001b[0;34m)\u001b[0m\u001b[0;34m\u001b[0m\u001b[0;34m\u001b[0m\u001b[0m\n\u001b[0m\u001b[1;32m    308\u001b[0m     \u001b[0;32mreturn\u001b[0m \u001b[0msubmitted_run_obj\u001b[0m\u001b[0;34m\u001b[0m\u001b[0;34m\u001b[0m\u001b[0m\n\u001b[1;32m    309\u001b[0m \u001b[0;34m\u001b[0m\u001b[0m\n",
            "\u001b[0;32m/anaconda/envs/tsir-rdkit-env/lib/python3.6/site-packages/mlflow/projects/__init__.py\u001b[0m in \u001b[0;36m_wait_for\u001b[0;34m(submitted_run_obj)\u001b[0m\n\u001b[1;32m    322\u001b[0m         \u001b[0;32melse\u001b[0m\u001b[0;34m:\u001b[0m\u001b[0;34m\u001b[0m\u001b[0;34m\u001b[0m\u001b[0m\n\u001b[1;32m    323\u001b[0m             \u001b[0m_maybe_set_run_terminated\u001b[0m\u001b[0;34m(\u001b[0m\u001b[0mactive_run\u001b[0m\u001b[0;34m,\u001b[0m \u001b[0;34m\"FAILED\"\u001b[0m\u001b[0;34m)\u001b[0m\u001b[0;34m\u001b[0m\u001b[0;34m\u001b[0m\u001b[0m\n\u001b[0;32m--> 324\u001b[0;31m             \u001b[0;32mraise\u001b[0m \u001b[0mExecutionException\u001b[0m\u001b[0;34m(\u001b[0m\u001b[0;34m\"Run (ID '%s') failed\"\u001b[0m \u001b[0;34m%\u001b[0m \u001b[0mrun_id\u001b[0m\u001b[0;34m)\u001b[0m\u001b[0;34m\u001b[0m\u001b[0;34m\u001b[0m\u001b[0m\n\u001b[0m\u001b[1;32m    325\u001b[0m     \u001b[0;32mexcept\u001b[0m \u001b[0mKeyboardInterrupt\u001b[0m\u001b[0;34m:\u001b[0m\u001b[0;34m\u001b[0m\u001b[0;34m\u001b[0m\u001b[0m\n\u001b[1;32m    326\u001b[0m         \u001b[0m_logger\u001b[0m\u001b[0;34m.\u001b[0m\u001b[0merror\u001b[0m\u001b[0;34m(\u001b[0m\u001b[0;34m\"=== Run (ID '%s') interrupted, cancelling run ===\"\u001b[0m\u001b[0;34m,\u001b[0m \u001b[0mrun_id\u001b[0m\u001b[0;34m)\u001b[0m\u001b[0;34m\u001b[0m\u001b[0;34m\u001b[0m\u001b[0m\n",
            "\u001b[0;31mExecutionException\u001b[0m: Run (ID 'train-tsgen_1622011371_4cc25371') failed"
          ]
        }
      ],
      "source": [
        "# submit run\r\n",
        "remote_mlflow_run = mlflow.projects.run(uri=\".\", \r\n",
        "                                    parameters={\"layers\": 2, \"hidden_size\": 128, \"iterations\": 3, \"batch_size\": 8},\r\n",
        "                                    backend = \"azureml\",\r\n",
        "                                    backend_config = backend_config,\r\n",
        "                                    synchronous=True)"
      ]
    },
    {
      "cell_type": "code",
      "execution_count": null,
      "metadata": {
        "collapsed": true,
        "jupyter": {
          "outputs_hidden": false,
          "source_hidden": false
        },
        "nteract": {
          "transient": {
            "deleting": false
          }
        }
      },
      "outputs": [],
      "source": [
        "# view metrics and artifacts in your workspace\r\n",
        "run.get_metrics()\r\n",
        "\r\n",
        "# once run complete\r\n",
        "# the model folder produced from the run is registered. This includes the MLmodel file, model.pkl and the conda.yaml.\r\n",
        "run.register_model(model_name = 'my-model', model_path = 'model')\r\n",
        "\r\n",
        "# then view registered model in worksapce with aml studio"
      ]
    },
    {
      "cell_type": "code",
      "execution_count": 11,
      "metadata": {
        "collapsed": true,
        "gather": {
          "logged": 1621848584669
        },
        "jupyter": {
          "outputs_hidden": false,
          "source_hidden": false
        },
        "nteract": {
          "transient": {
            "deleting": false
          }
        }
      },
      "outputs": [],
      "source": [
        "from azureml.train.hyperdrive import RandomParameterSampling, BanditPolicy, HyperDriveConfig, PrimaryMetricGoal\r\n",
        "from azureml.train.hyperdrive import choice, loguniform"
      ]
    },
    {
      "cell_type": "code",
      "execution_count": 12,
      "metadata": {
        "collapsed": true,
        "jupyter": {
          "outputs_hidden": true,
          "source_hidden": false
        },
        "nteract": {
          "transient": {
            "deleting": false
          }
        }
      },
      "outputs": [
        {
          "ename": "HyperDriveConfigException",
          "evalue": "HyperDriveConfigException:\n\tMessage: Please specify an input for choice.\n\tInnerException None\n\tErrorResponse \n{\n    \"error\": {\n        \"code\": \"UserError\",\n        \"message\": \"Please specify an input for choice.\",\n        \"details_uri\": \"https://docs.microsoft.com/en-us/python/api/azureml-train-core/azureml.train.hyperdrive.hyperdriveconfig?view=azure-ml-py\",\n        \"target\": \"options\",\n        \"inner_error\": {\n            \"code\": \"BadArgument\",\n            \"inner_error\": {\n                \"code\": \"ArgumentBlankOrEmpty\"\n            }\n        }\n    }\n}",
          "output_type": "error",
          "traceback": [
            "\u001b[0;31m---------------------------------------------------------------------------\u001b[0m",
            "\u001b[0;31mHyperDriveConfigException\u001b[0m                 Traceback (most recent call last)",
            "\u001b[0;32m<ipython-input-12-bd5f4387ef17>\u001b[0m in \u001b[0;36m<module>\u001b[0;34m\u001b[0m\n\u001b[1;32m      1\u001b[0m ps = RandomParameterSampling(\n\u001b[1;32m      2\u001b[0m     {\n\u001b[0;32m----> 3\u001b[0;31m         \u001b[0;34m'--batch_size'\u001b[0m\u001b[0;34m:\u001b[0m \u001b[0mchoice\u001b[0m\u001b[0;34m(\u001b[0m\u001b[0;34m)\u001b[0m\u001b[0;34m,\u001b[0m \u001b[0;31m# 8\u001b[0m\u001b[0;34m\u001b[0m\u001b[0;34m\u001b[0m\u001b[0m\n\u001b[0m\u001b[1;32m      4\u001b[0m         \u001b[0;34m'--hidden_size'\u001b[0m\u001b[0;34m:\u001b[0m \u001b[0mchoice\u001b[0m\u001b[0;34m(\u001b[0m\u001b[0;34m)\u001b[0m\u001b[0;34m,\u001b[0m \u001b[0;31m# 128\u001b[0m\u001b[0;34m\u001b[0m\u001b[0;34m\u001b[0m\u001b[0m\n\u001b[1;32m      5\u001b[0m         \u001b[0;34m'--layers'\u001b[0m\u001b[0;34m:\u001b[0m \u001b[0mchoice\u001b[0m\u001b[0;34m(\u001b[0m\u001b[0;34m)\u001b[0m\u001b[0;34m,\u001b[0m \u001b[0;31m#2\u001b[0m\u001b[0;34m\u001b[0m\u001b[0;34m\u001b[0m\u001b[0m\n",
            "\u001b[0;32m/anaconda/envs/azureml_py38/lib/python3.8/site-packages/azureml/train/hyperdrive/parameter_expressions.py\u001b[0m in \u001b[0;36mchoice\u001b[0;34m(*options)\u001b[0m\n\u001b[1;32m     33\u001b[0m     \"\"\"\n\u001b[1;32m     34\u001b[0m     \u001b[0;32mif\u001b[0m \u001b[0mlen\u001b[0m\u001b[0;34m(\u001b[0m\u001b[0moptions\u001b[0m\u001b[0;34m)\u001b[0m \u001b[0;34m==\u001b[0m \u001b[0;36m0\u001b[0m\u001b[0;34m:\u001b[0m\u001b[0;34m\u001b[0m\u001b[0;34m\u001b[0m\u001b[0m\n\u001b[0;32m---> 35\u001b[0;31m         raise HyperDriveConfigException._with_error(\n\u001b[0m\u001b[1;32m     36\u001b[0m             AzureMLError.create(\n\u001b[1;32m     37\u001b[0m                 \u001b[0mMissingChoiceValues\u001b[0m\u001b[0;34m,\u001b[0m \u001b[0mtarget\u001b[0m\u001b[0;34m=\u001b[0m\u001b[0;34m\"options\"\u001b[0m\u001b[0;34m\u001b[0m\u001b[0;34m\u001b[0m\u001b[0m\n",
            "\u001b[0;31mHyperDriveConfigException\u001b[0m: HyperDriveConfigException:\n\tMessage: Please specify an input for choice.\n\tInnerException None\n\tErrorResponse \n{\n    \"error\": {\n        \"code\": \"UserError\",\n        \"message\": \"Please specify an input for choice.\",\n        \"details_uri\": \"https://docs.microsoft.com/en-us/python/api/azureml-train-core/azureml.train.hyperdrive.hyperdriveconfig?view=azure-ml-py\",\n        \"target\": \"options\",\n        \"inner_error\": {\n            \"code\": \"BadArgument\",\n            \"inner_error\": {\n                \"code\": \"ArgumentBlankOrEmpty\"\n            }\n        }\n    }\n}"
          ]
        }
      ],
      "source": [
        "ps = RandomParameterSampling(\r\n",
        "    {\r\n",
        "        '--batch_size': choice(), # 8\r\n",
        "        '--hidden_size': choice(), # 128\r\n",
        "        '--layers': choice(), #2\r\n",
        "        '--iterations': choice() # 3\r\n",
        "    }\r\n",
        ")\r\n",
        "\r\n",
        "# BanditPolicy checks job every (evaluation_interval) number of iterations terminating the job if primary metric outside of slack_factor\r\n",
        "early_term_policy = BanditPolicy(evaluation_interval = 2, slack_factor = 0.1)\r\n",
        "\r\n",
        "# HyperDriveConfig\r\n",
        "hdc = HyperDriveConfig(estimator = est, hyperparameter_sampling = ps, \r\n",
        "                       policy = early_term_policy, primary_metric_name = 'Accuracy',\r\n",
        "                       primary_metric_goal = PrimaryMetricGoal.MAXIMIZE, \r\n",
        "                       max_total_runs = 20, max_concurrent_runs = 4)\r\n"
      ]
    }
  ],
  "metadata": {
    "kernel_info": {
      "name": "tsir-rdkit-env"
    },
    "kernelspec": {
      "display_name": "Python (tsir-rdkit-env)",
      "language": "python",
      "name": "tsir-rdkit-env"
    },
    "language_info": {
      "codemirror_mode": {
        "name": "ipython",
        "version": 3
      },
      "file_extension": ".py",
      "mimetype": "text/x-python",
      "name": "python",
      "nbconvert_exporter": "python",
      "pygments_lexer": "ipython3",
      "version": "3.6.12"
    },
    "nteract": {
      "version": "nteract-front-end@1.0.0"
    }
  },
  "nbformat": 4,
  "nbformat_minor": 2
}